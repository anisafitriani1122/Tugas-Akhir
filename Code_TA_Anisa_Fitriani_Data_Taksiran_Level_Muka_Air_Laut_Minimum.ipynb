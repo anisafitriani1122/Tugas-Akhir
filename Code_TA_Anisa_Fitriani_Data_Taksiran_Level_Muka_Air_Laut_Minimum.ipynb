{
  "cells": [
    {
      "cell_type": "markdown",
      "metadata": {
        "id": "view-in-github",
        "colab_type": "text"
      },
      "source": [
        "<a href=\"https://colab.research.google.com/github/anisafitriani1122/Tugas-Akhir/blob/main/Code_TA_Anisa_Fitriani_Data_Taksiran_Level_Muka_Air_Laut_Minimum.ipynb\" target=\"_parent\"><img src=\"https://colab.research.google.com/assets/colab-badge.svg\" alt=\"Open In Colab\"/></a>"
      ]
    },
    {
      "cell_type": "code",
      "execution_count": null,
      "metadata": {
        "id": "-7SWCP9YZzxC"
      },
      "outputs": [],
      "source": [
        "import numpy as np\n",
        "import matplotlib.pyplot as plt\n",
        "import pandas as pd\n",
        "import math\n",
        "from keras.models import Sequential\n",
        "from keras.layers import Dense\n",
        "from keras.layers import LSTM\n",
        "from sklearn.preprocessing import MinMaxScaler\n",
        "from sklearn.metrics import mean_squared_error\n",
        "from sklearn.metrics import r2_score\n",
        "from tensorflow.keras.optimizers import Adam"
      ]
    },
    {
      "cell_type": "code",
      "execution_count": null,
      "metadata": {
        "id": "4IEDbZVpaM4Q",
        "colab": {
          "base_uri": "https://localhost:8080/"
        },
        "outputId": "ceb11d9d-f381-474a-c7c0-750b5921454a"
      },
      "outputs": [
        {
          "output_type": "stream",
          "name": "stdout",
          "text": [
            "5 Baris Pertama dari Kolom 'Sea Level Error Lower':\n",
            "0   -114.68\n",
            "1   -117.79\n",
            "2   -119.16\n",
            "3   -118.50\n",
            "4   -116.26\n",
            "Name: Sea Level Error Lower, dtype: float64\n",
            "\n",
            "Statistik Deskriptif 'Sea Level':\n",
            "count    799.000000\n",
            "mean     -77.772265\n",
            "std       31.127148\n",
            "min     -161.300000\n",
            "25%     -100.160000\n",
            "50%      -76.100000\n",
            "75%      -52.550000\n",
            "max       -1.210000\n",
            "Name: Sea Level Error Lower, dtype: float64\n"
          ]
        }
      ],
      "source": [
        "# Import Dataset\n",
        "link = 'https://docs.google.com/spreadsheets/d/e/2PACX-1vTVcNCbQ2ki_WfUY16cqZJxmQHgzsjrtRuw8dFcRgrbBImS_dVxtkQZi5mBeNgVOTpMyT-e9xysSz4a/pub?output=xlsx'\n",
        "\n",
        "# Membaca file Excel dari URL dan memuatnya sebagai DataFrame Pandas\n",
        "data = pd.read_excel(link)\n",
        "\n",
        "# Mengambil kolom 'Sea Level' dari DataFrame\n",
        "sea_level_data = data['Sea Level Error Lower']\n",
        "\n",
        "# Menampilkan 5 baris pertama dari kolom 'Sea Level'\n",
        "print(\"5 Baris Pertama dari Kolom 'Sea Level Error Lower':\")\n",
        "print(sea_level_data.head())\n",
        "\n",
        "# Menampilkan statistik deskriptif dari kolom 'Sea Level'\n",
        "print(\"\\nStatistik Deskriptif 'Sea Level':\")\n",
        "print(sea_level_data.describe())\n",
        "\n",
        "# Mengambil kolom 'Sea Level' dari DataFrame dan mengubahnya menjadi array NumPy\n",
        "dataset = data['Sea Level Error Lower'].values\n",
        "\n",
        "# Mengonversi array NumPy ke tipe data float32\n",
        "dataset = dataset.astype('float32')"
      ]
    },
    {
      "cell_type": "code",
      "execution_count": null,
      "metadata": {
        "colab": {
          "base_uri": "https://localhost:8080/"
        },
        "id": "hMFzfy8La2SU",
        "outputId": "24f3db64-8530-4ddc-98e8-c0202c9e4e62"
      },
      "outputs": [
        {
          "output_type": "stream",
          "name": "stdout",
          "text": [
            "[[0.29121125]\n",
            " [0.27178466]\n",
            " [0.263227  ]\n",
            " [0.26734966]\n",
            " [0.2813418 ]\n",
            " [0.30788934]\n",
            " [0.33674812]\n",
            " [0.34024614]\n",
            " [0.3654195 ]\n",
            " [0.40171164]\n",
            " [0.4593042 ]\n",
            " [0.55687433]\n",
            " [0.6248361 ]\n",
            " [0.6679993 ]\n",
            " [0.68998694]\n",
            " [0.7026049 ]\n",
            " [0.71509784]\n",
            " [0.742395  ]\n",
            " [0.7653196 ]\n",
            " [0.78124815]\n",
            " [0.7916173 ]\n",
            " [0.8010495 ]\n",
            " [0.8154164 ]\n",
            " [0.8247861 ]\n",
            " [0.8273472 ]\n",
            " [0.8203511 ]\n",
            " [0.7993005 ]\n",
            " [0.77831227]\n",
            " [0.753826  ]\n",
            " [0.7267163 ]\n",
            " [0.700606  ]\n",
            " [0.6704979 ]\n",
            " [0.64963466]\n",
            " [0.6318321 ]\n",
            " [0.6141546 ]\n",
            " [0.6014118 ]\n",
            " [0.5911051 ]\n",
            " [0.578737  ]\n",
            " [0.57092893]\n",
            " [0.5566244 ]\n",
            " [0.53969646]\n",
            " [0.51908314]\n",
            " [0.50527835]\n",
            " [0.49653327]\n",
            " [0.48666382]\n",
            " [0.47585738]\n",
            " [0.4550566 ]\n",
            " [0.44200146]\n",
            " [0.42819673]\n",
            " [0.4218253 ]\n",
            " [0.41545385]\n",
            " [0.41795248]\n",
            " [0.42757207]\n",
            " [0.44025242]\n",
            " [0.4621151 ]\n",
            " [0.4850397 ]\n",
            " [0.5082767 ]\n",
            " [0.535324  ]\n",
            " [0.56237125]\n",
            " [0.58017373]\n",
            " [0.58229756]\n",
            " [0.56668127]\n",
            " [0.57036674]\n",
            " [0.56761825]\n",
            " [0.53282535]\n",
            " [0.5217691 ]\n",
            " [0.52714103]\n",
            " [0.52795315]\n",
            " [0.5282654 ]\n",
            " [0.5354489 ]\n",
            " [0.54538083]\n",
            " [0.5288276 ]\n",
            " [0.5101507 ]\n",
            " [0.48810047]\n",
            " [0.4628647 ]\n",
            " [0.43044543]\n",
            " [0.38746965]\n",
            " [0.3676682 ]\n",
            " [0.35330135]\n",
            " [0.34880388]\n",
            " [0.34842908]\n",
            " [0.34093326]\n",
            " [0.3269412 ]\n",
            " [0.31932044]\n",
            " [0.32669127]\n",
            " [0.32700366]\n",
            " [0.34393162]\n",
            " [0.4101444 ]\n",
            " [0.44749832]\n",
            " [0.4859767 ]\n",
            " [0.5212694 ]\n",
            " [0.5498783 ]\n",
            " [0.5837343 ]\n",
            " [0.6317697 ]\n",
            " [0.6593791 ]\n",
            " [0.6751828 ]\n",
            " [0.6866763 ]\n",
            " [0.703292  ]\n",
            " [0.7212194 ]\n",
            " [0.7384597 ]\n",
            " [0.74801683]\n",
            " [0.7584485 ]\n",
            " [0.7590106 ]\n",
            " [0.7573241 ]\n",
            " [0.7556375 ]\n",
            " [0.7562622 ]\n",
            " [0.7533263 ]\n",
            " [0.76094705]\n",
            " [0.76738095]\n",
            " [0.78730726]\n",
            " [0.7848711 ]\n",
            " [0.76700616]\n",
            " [0.7363359 ]\n",
            " [0.70472866]\n",
            " [0.6691237 ]\n",
            " [0.6395778 ]\n",
            " [0.6154039 ]\n",
            " [0.5977888 ]\n",
            " [0.58067346]\n",
            " [0.570804  ]\n",
            " [0.5630583 ]\n",
            " [0.5523144 ]\n",
            " [0.53482425]\n",
            " [0.5142733 ]\n",
            " [0.5045913 ]\n",
            " [0.49934417]\n",
            " [0.49697053]\n",
            " [0.49522156]\n",
            " [0.49584615]\n",
            " [0.4797927 ]\n",
            " [0.45586866]\n",
            " [0.4333188 ]\n",
            " [0.41870207]\n",
            " [0.4062091 ]\n",
            " [0.394778  ]\n",
            " [0.39396596]\n",
            " [0.3905304 ]\n",
            " [0.3933413 ]\n",
            " [0.38490856]\n",
            " [0.37853718]\n",
            " [0.37585115]\n",
            " [0.37616348]\n",
            " [0.3817228 ]\n",
            " [0.37197834]\n",
            " [0.3776002 ]\n",
            " [0.37516403]\n",
            " [0.3702293 ]\n",
            " [0.37179095]\n",
            " [0.35679936]\n",
            " [0.3365608 ]\n",
            " [0.32213134]\n",
            " [0.31869578]\n",
            " [0.3126992 ]\n",
            " [0.33006442]\n",
            " [0.33331257]\n",
            " [0.3231308 ]\n",
            " [0.29989386]\n",
            " [0.2759698 ]\n",
            " [0.26491356]\n",
            " [0.24380046]\n",
            " [0.21712792]\n",
            " [0.20338559]\n",
            " [0.19139236]\n",
            " [0.18614537]\n",
            " [0.18502104]\n",
            " [0.19189209]\n",
            " [0.17914933]\n",
            " [0.15972275]\n",
            " [0.13786006]\n",
            " [0.11805868]\n",
            " [0.10406649]\n",
            " [0.0965082 ]\n",
            " [0.10131806]\n",
            " [0.1218065 ]\n",
            " [0.16303337]\n",
            " [0.20844531]\n",
            " [0.25629342]\n",
            " [0.30420393]\n",
            " [0.364545  ]\n",
            " [0.4385659 ]\n",
            " [0.50602794]\n",
            " [0.6092199 ]\n",
            " [0.6795553 ]\n",
            " [0.6998564 ]\n",
            " [0.7208446 ]\n",
            " [0.7080393 ]\n",
            " [0.69067407]\n",
            " [0.66531336]\n",
            " [0.662315  ]\n",
            " [0.6605035 ]\n",
            " [0.67168474]\n",
            " [0.6839279 ]\n",
            " [0.66743714]\n",
            " [0.6343932 ]\n",
            " [0.60640895]\n",
            " [0.57773757]\n",
            " [0.5515648 ]\n",
            " [0.5447562 ]\n",
            " [0.5480043 ]\n",
            " [0.56980455]\n",
            " [0.6104692 ]\n",
            " [0.6611906 ]\n",
            " [0.6788057 ]\n",
            " [0.67718166]\n",
            " [0.6714349 ]\n",
            " [0.6610657 ]\n",
            " [0.65100884]\n",
            " [0.64157665]\n",
            " [0.6209008 ]\n",
            " [0.60734594]\n",
            " [0.58648264]\n",
            " [0.5626836 ]\n",
            " [0.55749893]\n",
            " [0.5550004 ]\n",
            " [0.56037235]\n",
            " [0.56905496]\n",
            " [0.5831096 ]\n",
            " [0.59916306]\n",
            " [0.62621033]\n",
            " [0.66681254]\n",
            " [0.7061654 ]\n",
            " [0.73183846]\n",
            " [0.75288904]\n",
            " [0.74145806]\n",
            " [0.7557    ]\n",
            " [0.75919807]\n",
            " [0.77300274]\n",
            " [0.7889313 ]\n",
            " [0.79861337]\n",
            " [0.7901806 ]\n",
            " [0.7806235 ]\n",
            " [0.7636955 ]\n",
            " [0.73489916]\n",
            " [0.7131614 ]\n",
            " [0.6891124 ]\n",
            " [0.66968584]\n",
            " [0.65719295]\n",
            " [0.6431383 ]\n",
            " [0.63151985]\n",
            " [0.61496663]\n",
            " [0.59266675]\n",
            " [0.56611913]\n",
            " [0.5443814 ]\n",
            " [0.5305766 ]\n",
            " [0.5162097 ]\n",
            " [0.509401  ]\n",
            " [0.5018428 ]\n",
            " [0.49940664]\n",
            " [0.49091142]\n",
            " [0.48510218]\n",
            " [0.48004258]\n",
            " [0.4797927 ]\n",
            " [0.48347813]\n",
            " [0.48254114]\n",
            " [0.4885378 ]\n",
            " [0.4874134 ]\n",
            " [0.48385292]\n",
            " [0.47379607]\n",
            " [0.4741084 ]\n",
            " [0.45836723]\n",
            " [0.46273977]\n",
            " [0.46754956]\n",
            " [0.47885573]\n",
            " [0.4918484 ]\n",
            " [0.51189965]\n",
            " [0.52151924]\n",
            " [0.5350741 ]\n",
            " [0.53819734]\n",
            " [0.5315136 ]\n",
            " [0.53170097]\n",
            " [0.5369481 ]\n",
            " [0.5400713 ]\n",
            " [0.5358237 ]\n",
            " [0.532513  ]\n",
            " [0.5331377 ]\n",
            " [0.5370105 ]\n",
            " [0.54388165]\n",
            " [0.55387604]\n",
            " [0.561934  ]\n",
            " [0.56130934]\n",
            " [0.5578738 ]\n",
            " [0.5523144 ]\n",
            " [0.53882194]\n",
            " [0.51970774]\n",
            " [0.49709547]\n",
            " [0.48691368]\n",
            " [0.4806047 ]\n",
            " [0.4772941 ]\n",
            " [0.47523272]\n",
            " [0.48497725]\n",
            " [0.49796993]\n",
            " [0.5186459 ]\n",
            " [0.5556251 ]\n",
            " [0.5786121 ]\n",
            " [0.6018491 ]\n",
            " [0.6255232 ]\n",
            " [0.6385159 ]\n",
            " [0.652508  ]\n",
            " [0.66075337]\n",
            " [0.6685615 ]\n",
            " [0.6793679 ]\n",
            " [0.68530214]\n",
            " [0.68592674]\n",
            " [0.6929853 ]\n",
            " [0.7053533 ]\n",
            " [0.72396785]\n",
            " [0.7382723 ]\n",
            " [0.7408334 ]\n",
            " [0.73802245]\n",
            " [0.74489355]\n",
            " [0.7527641 ]\n",
            " [0.7649448 ]\n",
            " [0.770879  ]\n",
            " [0.7619465 ]\n",
            " [0.75070286]\n",
            " [0.7355863 ]\n",
            " [0.72284347]\n",
            " [0.71472305]\n",
            " [0.6986071 ]\n",
            " [0.68605167]\n",
            " [0.67474556]\n",
            " [0.65244555]\n",
            " [0.6315823 ]\n",
            " [0.61496663]\n",
            " [0.5922295 ]\n",
            " [0.56374544]\n",
            " [0.53338754]\n",
            " [0.50390416]\n",
            " [0.48641396]\n",
            " [0.4654258 ]\n",
            " [0.44606167]\n",
            " [0.41932672]\n",
            " [0.3929665 ]\n",
            " [0.39046794]\n",
            " [0.38390917]\n",
            " [0.40902   ]\n",
            " [0.410769  ]\n",
            " [0.40008754]\n",
            " [0.3836593 ]\n",
            " [0.36591923]\n",
            " [0.34574312]\n",
            " [0.33618593]\n",
            " [0.32425517]\n",
            " [0.31319886]\n",
            " [0.30439132]\n",
            " [0.28621405]\n",
            " [0.26959842]\n",
            " [0.26672506]\n",
            " [0.27646953]\n",
            " [0.29171097]\n",
            " [0.29264796]\n",
            " [0.28808802]\n",
            " [0.27140993]\n",
            " [0.25035924]\n",
            " [0.23299402]\n",
            " [0.22112566]\n",
            " [0.2164408 ]\n",
            " [0.21025681]\n",
            " [0.19957525]\n",
            " [0.17733777]\n",
            " [0.15934795]\n",
            " [0.14810425]\n",
            " [0.13223815]\n",
            " [0.12230623]\n",
            " [0.11437321]\n",
            " [0.09813237]\n",
            " [0.07833099]\n",
            " [0.0682742 ]\n",
            " [0.05634338]\n",
            " [0.02567309]\n",
            " [0.        ]\n",
            " [0.01686549]\n",
            " [0.05090892]\n",
            " [0.11499786]\n",
            " [0.18858147]\n",
            " [0.28346562]\n",
            " [0.32487983]\n",
            " [0.35986012]\n",
            " [0.39402843]\n",
            " [0.4385659 ]\n",
            " [0.47585738]\n",
            " [0.52764076]\n",
            " [0.5729903 ]\n",
            " [0.6512587 ]\n",
            " [0.6786808 ]\n",
            " [0.6914861 ]\n",
            " [0.71953285]\n",
            " [0.7422076 ]\n",
            " [0.7656944 ]\n",
            " [0.8010495 ]\n",
            " [0.8357175 ]\n",
            " [0.86670005]\n",
            " [0.8834407 ]\n",
            " [0.88924986]\n",
            " [0.89961904]\n",
            " [0.9013056 ]\n",
            " [0.88681376]\n",
            " [0.87150985]\n",
            " [0.8536449 ]\n",
            " [0.8351553 ]\n",
            " [0.8157287 ]\n",
            " [0.80492234]\n",
            " [0.80311084]\n",
            " [0.80179906]\n",
            " [0.7936162 ]\n",
            " [0.77575123]\n",
            " [0.7532639 ]\n",
            " [0.7357737 ]\n",
            " [0.7310264 ]\n",
            " [0.7345244 ]\n",
            " [0.73340005]\n",
            " [0.72859025]\n",
            " [0.7238429 ]\n",
            " [0.71085024]\n",
            " [0.70029366]\n",
            " [0.69623345]\n",
            " [0.6891124 ]\n",
            " [0.66443884]\n",
            " [0.6365795 ]\n",
            " [0.6139047 ]\n",
            " [0.6026611 ]\n",
            " [0.59329134]\n",
            " [0.5905429 ]\n",
            " [0.59897566]\n",
            " [0.6077832 ]\n",
            " [0.6094698 ]\n",
            " [0.60915744]\n",
            " [0.5985384 ]\n",
            " [0.5857956 ]\n",
            " [0.5697421 ]\n",
            " [0.5427573 ]\n",
            " [0.5192705 ]\n",
            " [0.5065901 ]\n",
            " [0.48379046]\n",
            " [0.48566437]\n",
            " [0.4794804 ]\n",
            " [0.4469362 ]\n",
            " [0.40902   ]\n",
            " [0.3700419 ]\n",
            " [0.35804862]\n",
            " [0.34999073]\n",
            " [0.3549254 ]\n",
            " [0.35923547]\n",
            " [0.3729778 ]\n",
            " [0.38397157]\n",
            " [0.39028054]\n",
            " [0.37154108]\n",
            " [0.35273916]\n",
            " [0.33356243]\n",
            " [0.31744647]\n",
            " [0.29777008]\n",
            " [0.27978015]\n",
            " [0.26535082]\n",
            " [0.25673068]\n",
            " [0.2459867 ]\n",
            " [0.24673623]\n",
            " [0.24892259]\n",
            " [0.25416958]\n",
            " [0.2611032 ]\n",
            " [0.28190398]\n",
            " [0.2960835 ]\n",
            " [0.31657195]\n",
            " [0.34980327]\n",
            " [0.39708918]\n",
            " [0.4630521 ]\n",
            " [0.51908314]\n",
            " [0.57274044]\n",
            " [0.6219627 ]\n",
            " [0.66187775]\n",
            " [0.7170967 ]\n",
            " [0.75451314]\n",
            " [0.7656944 ]\n",
            " [0.7560123 ]\n",
            " [0.75669944]\n",
            " [0.7532639 ]\n",
            " [0.76038486]\n",
            " [0.76019746]\n",
            " [0.7611969 ]\n",
            " [0.7615717 ]\n",
            " [0.762696  ]\n",
            " [0.7625087 ]\n",
            " [0.76894253]\n",
            " [0.7656319 ]\n",
            " [0.7512025 ]\n",
            " [0.7361485 ]\n",
            " [0.7287152 ]\n",
            " [0.71790874]\n",
            " [0.7033545 ]\n",
            " [0.6801175 ]\n",
            " [0.6647512 ]\n",
            " [0.63926554]\n",
            " [0.6190269 ]\n",
            " [0.61365485]\n",
            " [0.6090325 ]\n",
            " [0.607221  ]\n",
            " [0.6052221 ]\n",
            " [0.60309833]\n",
            " [0.5965395 ]\n",
            " [0.5793617 ]\n",
            " [0.5659318 ]\n",
            " [0.5550004 ]\n",
            " [0.5518147 ]\n",
            " [0.5626836 ]\n",
            " [0.5693048 ]\n",
            " [0.5807359 ]\n",
            " [0.5782373 ]\n",
            " [0.5744894 ]\n",
            " [0.57436454]\n",
            " [0.5756138 ]\n",
            " [0.57648826]\n",
            " [0.585983  ]\n",
            " [0.6022239 ]\n",
            " [0.60803306]\n",
            " [0.61196834]\n",
            " [0.6129053 ]\n",
            " [0.6159661 ]\n",
            " [0.6095947 ]\n",
            " [0.5966644 ]\n",
            " [0.57730037]\n",
            " [0.55243933]\n",
            " [0.5322007 ]\n",
            " [0.50802684]\n",
            " [0.48404032]\n",
            " [0.46723723]\n",
            " [0.4469362 ]\n",
            " [0.43100762]\n",
            " [0.39252925]\n",
            " [0.37129122]\n",
            " [0.36947972]\n",
            " [0.36854273]\n",
            " [0.37916178]\n",
            " [0.3885315 ]\n",
            " [0.4002124 ]\n",
            " [0.40939474]\n",
            " [0.40958214]\n",
            " [0.4212631 ]\n",
            " [0.4218253 ]\n",
            " [0.40658385]\n",
            " [0.36691868]\n",
            " [0.34368175]\n",
            " [0.29677063]\n",
            " [0.2393654 ]\n",
            " [0.20819545]\n",
            " [0.19838852]\n",
            " [0.18795681]\n",
            " [0.18189776]\n",
            " [0.18083578]\n",
            " [0.21294278]\n",
            " [0.24686122]\n",
            " [0.27846843]\n",
            " [0.3020177 ]\n",
            " [0.3408708 ]\n",
            " [0.3704167 ]\n",
            " [0.38672006]\n",
            " [0.43850344]\n",
            " [0.47273415]\n",
            " [0.51808363]\n",
            " [0.569867  ]\n",
            " [0.6223375 ]\n",
            " [0.6927979 ]\n",
            " [0.7372104 ]\n",
            " [0.7505154 ]\n",
            " [0.73802245]\n",
            " [0.7186583 ]\n",
            " [0.68542707]\n",
            " [0.64320076]\n",
            " [0.5994754 ]\n",
            " [0.5621214 ]\n",
            " [0.5343245 ]\n",
            " [0.5149604 ]\n",
            " [0.4992193 ]\n",
            " [0.4844151 ]\n",
            " [0.47623223]\n",
            " [0.45680565]\n",
            " [0.44718605]\n",
            " [0.4438129 ]\n",
            " [0.44874763]\n",
            " [0.47154737]\n",
            " [0.50727725]\n",
            " [0.57642585]\n",
            " [0.62083834]\n",
            " [0.68311584]\n",
            " [0.73639834]\n",
            " [0.7673185 ]\n",
            " [0.78686994]\n",
            " [0.79205453]\n",
            " [0.7861829 ]\n",
            " [0.7811232 ]\n",
            " [0.78168535]\n",
            " [0.7766882 ]\n",
            " [0.77537644]\n",
            " [0.7763759 ]\n",
            " [0.7769381 ]\n",
            " [0.76863027]\n",
            " [0.76669383]\n",
            " [0.7676308 ]\n",
            " [0.77368987]\n",
            " [0.7878069 ]\n",
            " [0.806484  ]\n",
            " [0.80311084]\n",
            " [0.7969893 ]\n",
            " [0.778     ]\n",
            " [0.748579  ]\n",
            " [0.7195953 ]\n",
            " [0.688925  ]\n",
            " [0.6673122 ]\n",
            " [0.6510713 ]\n",
            " [0.6263977 ]\n",
            " [0.59123003]\n",
            " [0.55493796]\n",
            " [0.5127741 ]\n",
            " [0.47873074]\n",
            " [0.468549  ]\n",
            " [0.46373922]\n",
            " [0.4528703 ]\n",
            " [0.45449442]\n",
            " [0.4572429 ]\n",
            " [0.4630521 ]\n",
            " [0.47154737]\n",
            " [0.47941786]\n",
            " [0.488163  ]\n",
            " [0.4975952 ]\n",
            " [0.5054033 ]\n",
            " [0.51108754]\n",
            " [0.51489794]\n",
            " [0.51708424]\n",
            " [0.5142108 ]\n",
            " [0.5057156 ]\n",
            " [0.5027173 ]\n",
            " [0.4972204 ]\n",
            " [0.48129183]\n",
            " [0.4623025 ]\n",
            " [0.43950284]\n",
            " [0.42220008]\n",
            " [0.39790124]\n",
            " [0.37641335]\n",
            " [0.35461313]\n",
            " [0.33237565]\n",
            " [0.31963277]\n",
            " [0.3062653 ]\n",
            " [0.2922107 ]\n",
            " [0.28627652]\n",
            " [0.28696364]\n",
            " [0.28365302]\n",
            " [0.2905866 ]\n",
            " [0.30439132]\n",
            " [0.31244934]\n",
            " [0.30863893]\n",
            " [0.3107003 ]\n",
            " [0.3084516 ]\n",
            " [0.30432886]\n",
            " [0.290774  ]\n",
            " [0.27734405]\n",
            " [0.25441945]\n",
            " [0.23368114]\n",
            " [0.20763326]\n",
            " [0.17396474]\n",
            " [0.15672433]\n",
            " [0.13598609]\n",
            " [0.12830293]\n",
            " [0.11705923]\n",
            " [0.11287409]\n",
            " [0.10631526]\n",
            " [0.10687739]\n",
            " [0.11899561]\n",
            " [0.13860959]\n",
            " [0.16884255]\n",
            " [0.20094949]\n",
            " [0.27253425]\n",
            " [0.3724156 ]\n",
            " [0.478356  ]\n",
            " [0.5784247 ]\n",
            " [0.6749954 ]\n",
            " [0.74689245]\n",
            " [0.8116685 ]\n",
            " [0.8384659 ]\n",
            " [0.8534575 ]\n",
            " [0.86107826]\n",
            " [0.8510214 ]\n",
            " [0.8157912 ]\n",
            " [0.7751266 ]\n",
            " [0.7326505 ]\n",
            " [0.6991068 ]\n",
            " [0.67980516]\n",
            " [0.6519458 ]\n",
            " [0.6388283 ]\n",
            " [0.6293961 ]\n",
            " [0.6305204 ]\n",
            " [0.63345623]\n",
            " [0.6412644 ]\n",
            " [0.6573179 ]\n",
            " [0.66625035]\n",
            " [0.6762447 ]\n",
            " [0.68680125]\n",
            " [0.70247996]\n",
            " [0.7180337 ]\n",
            " [0.72784066]\n",
            " [0.7446437 ]\n",
            " [0.7568244 ]\n",
            " [0.769942  ]\n",
            " [0.7590106 ]\n",
            " [0.7392093 ]\n",
            " [0.70585304]\n",
            " [0.68611413]\n",
            " [0.6759324 ]\n",
            " [0.67330885]\n",
            " [0.67056036]\n",
            " [0.66587555]\n",
            " [0.66000384]\n",
            " [0.6606909 ]\n",
            " [0.6684366 ]\n",
            " [0.6728091 ]\n",
            " [0.67924297]\n",
            " [0.698732  ]\n",
            " [0.7044164 ]\n",
            " [0.69323516]\n",
            " [0.6984197 ]\n",
            " [0.69086146]\n",
            " [0.6872385 ]\n",
            " [0.6833657 ]\n",
            " [0.69067407]\n",
            " [0.6994816 ]\n",
            " [0.70472866]\n",
            " [0.6771192 ]\n",
            " [0.64944726]\n",
            " [0.6104692 ]\n",
            " [0.57124126]\n",
            " [0.5417578 ]\n",
            " [0.5131489 ]\n",
            " [0.4626773 ]\n",
            " [0.446374  ]\n",
            " [0.43363118]\n",
            " [0.42700988]\n",
            " [0.42057598]\n",
            " [0.4195766 ]\n",
            " [0.41857713]\n",
            " [0.41195583]\n",
            " [0.41657823]\n",
            " [0.4072085 ]\n",
            " [0.4023987 ]\n",
            " [0.40627152]\n",
            " [0.40770823]\n",
            " [0.41176844]\n",
            " [0.4255107 ]\n",
            " [0.4371292 ]\n",
            " [0.44293845]\n",
            " [0.46473867]\n",
            " [0.4865389 ]\n",
            " [0.49159855]\n",
            " [0.4900369 ]\n",
            " [0.4861641 ]\n",
            " [0.4844151 ]\n",
            " [0.48622656]\n",
            " [0.49028683]\n",
            " [0.4900369 ]\n",
            " [0.48054224]\n",
            " [0.46136552]\n",
            " [0.43344373]\n",
            " [0.40502226]\n",
            " [0.38209766]\n",
            " [0.34774196]\n",
            " [0.3199451 ]\n",
            " [0.32019496]\n",
            " [0.31788373]\n",
            " [0.32213134]\n",
            " [0.3190081 ]\n",
            " [0.3205073 ]\n",
            " [0.30282974]\n",
            " [0.2817166 ]\n",
            " [0.26210266]\n",
            " [0.23480546]\n",
            " [0.20707113]\n",
            " [0.17939913]\n",
            " [0.17440194]\n",
            " [0.16634399]\n",
            " [0.16459501]\n",
            " [0.16790563]\n",
            " [0.1675933 ]\n",
            " [0.16753083]\n",
            " [0.17627591]\n",
            " [0.1842714 ]\n",
            " [0.1955775 ]\n",
            " [0.22443628]\n",
            " [0.27378356]\n",
            " [0.33493668]\n",
            " [0.4072085 ]\n",
            " [0.48460245]\n",
            " [0.56437016]\n",
            " [0.65756774]\n",
            " [0.73764765]\n",
            " [0.80979455]\n",
            " [0.86207765]\n",
            " [0.8967457 ]\n",
            " [0.9244801 ]\n",
            " [0.94172037]\n",
            " [0.96208394]\n",
            " [0.97626346]\n",
            " [0.9902556 ]\n",
            " [1.0000001 ]]\n"
          ]
        }
      ],
      "source": [
        "# Normalisasi Data\n",
        "scaler = MinMaxScaler(feature_range=(0, 1))  # Menentukan rentang nilai output normalisasi (0 hingga 1)\n",
        "dataset = np.reshape(dataset, (-1, 1))  # Mengubah array dataset menjadi array 2 dimensi dengan satu kolom\n",
        "dataset = scaler.fit_transform(dataset)  # Normalisasi data agar nilainya berada dalam rentang 0 hingga 1\n",
        "\n",
        "# Menampilkan dataset yang telah dinormalisasi\n",
        "print(dataset)"
      ]
    },
    {
      "cell_type": "code",
      "execution_count": null,
      "metadata": {
        "colab": {
          "base_uri": "https://localhost:8080/"
        },
        "id": "uFiYg70BbBd7",
        "outputId": "925f5af1-0db5-4b2b-8579-015acb8304ff"
      },
      "outputs": [
        {
          "output_type": "stream",
          "name": "stdout",
          "text": [
            "639 160\n"
          ]
        }
      ],
      "source": [
        "# Bagi Data Menjadi Training dan Testing\n",
        "train_size = int(len(dataset) * 0.80)\n",
        "test_size = len(dataset) - train_size\n",
        "train, test = dataset[0:train_size,:], dataset[train_size:len(dataset),:]\n",
        "print(len(train), len(test))"
      ]
    },
    {
      "cell_type": "code",
      "execution_count": null,
      "metadata": {
        "id": "FfLO05esbIM9"
      },
      "outputs": [],
      "source": [
        "# Fungsi untuk Membuat Dataset untuk LSTM\n",
        "def create_dataset(dataset, look_back=1):\n",
        "    dataX, dataY = [], []\n",
        "    for i in range(len(dataset)-look_back-1):\n",
        "        a = dataset[i:(i+look_back), 0]\n",
        "        dataX.append(a)\n",
        "        dataY.append(dataset[i + look_back, 0])\n",
        "    return np.array(dataX), np.array(dataY)\n",
        "\n",
        "look_back = 6  # Jumlah langkah waktu yang digunakan untuk prediksi\n",
        "trainX, trainY = create_dataset(train, look_back)\n",
        "testX, testY = create_dataset(test, look_back)"
      ]
    },
    {
      "cell_type": "code",
      "execution_count": null,
      "metadata": {
        "id": "29FjJHlbbMlT"
      },
      "outputs": [],
      "source": [
        "# Reshape input untuk LSTM (samples, timesteps, features)\n",
        "trainX = np.reshape(trainX, (trainX.shape[0], trainX.shape[1], 1))\n",
        "testX = np.reshape(testX, (testX.shape[0], testX.shape[1], 1))"
      ]
    },
    {
      "cell_type": "code",
      "execution_count": null,
      "metadata": {
        "colab": {
          "base_uri": "https://localhost:8080/"
        },
        "id": "WPS1d3w4bS7I",
        "outputId": "89e94868-768d-407d-bdd1-b8f23f4ae03e"
      },
      "outputs": [
        {
          "output_type": "stream",
          "name": "stderr",
          "text": [
            "/usr/local/lib/python3.10/dist-packages/keras/src/layers/rnn/rnn.py:204: UserWarning: Do not pass an `input_shape`/`input_dim` argument to a layer. When using Sequential models, prefer using an `Input(shape)` object as the first layer in the model instead.\n",
            "  super().__init__(**kwargs)\n"
          ]
        }
      ],
      "source": [
        "# Hyperparameter yang akan dituning selain look_back\n",
        "epochs = 50\n",
        "batch_size = 16\n",
        "learning_rate = 0.01\n",
        "units = 128\n",
        "\n",
        "# Model LSTM\n",
        "model = Sequential()\n",
        "model.add(LSTM(units=units, return_sequences=True, input_shape=(look_back, 1)))\n",
        "model.add(LSTM(units=units))\n",
        "model.add(Dense(1))"
      ]
    },
    {
      "cell_type": "code",
      "execution_count": null,
      "metadata": {
        "id": "Oy4JZ3RubWr8"
      },
      "outputs": [],
      "source": [
        "# Compile Model dengan Adam Optimizer dan Learning Rate yang bisa diubah\n",
        "optimizer = Adam(learning_rate=learning_rate)\n",
        "model.compile(loss='mean_squared_error', optimizer=optimizer)\n",
        "\n",
        "#Train Model dengan Epoch dan Batch Size yang bisa diubah\n",
        "history = model.fit(trainX, trainY, epochs=epochs, batch_size=batch_size, verbose=0)"
      ]
    },
    {
      "cell_type": "code",
      "execution_count": null,
      "metadata": {
        "colab": {
          "base_uri": "https://localhost:8080/",
          "height": 472
        },
        "id": "AEOerSaYb03z",
        "outputId": "8142098b-1509-4437-f1ea-576f294c8dd9"
      },
      "outputs": [
        {
          "output_type": "display_data",
          "data": {
            "text/plain": [
              "<Figure size 640x480 with 1 Axes>"
            ],
            "image/png": "[encoded data removed]"
          },
          "metadata": {}
        }
      ],
      "source": [
        "# Plot loss\n",
        "plt.plot(history.history['loss'], label='Loss Training')# Mengambil nilai loss dari history\n",
        "plt.title('Model Loss Selama Training')  # Judul grafik\n",
        "plt.xlabel('Epoch')  # Label sumbu X\n",
        "plt.ylabel('Loss')  # Label sumbu Y\n",
        "plt.legend()\n",
        "plt.grid()  # Menambahkan grid untuk memperjelas grafik\n",
        "plt.show()  # Menampilkan grafik"
      ]
    },
    {
      "cell_type": "code",
      "execution_count": null,
      "metadata": {
        "colab": {
          "base_uri": "https://localhost:8080/",
          "height": 507
        },
        "id": "nfURJfUNb4NH",
        "outputId": "cf1dfde5-bb98-4ee4-8d13-5a864a685b69"
      },
      "outputs": [
        {
          "output_type": "stream",
          "name": "stdout",
          "text": [
            "\u001b[1m20/20\u001b[0m \u001b[32m━━━━━━━━━━━━━━━━━━━━\u001b[0m\u001b[37m\u001b[0m \u001b[1m1s\u001b[0m 20ms/step\n",
            "\u001b[1m5/5\u001b[0m \u001b[32m━━━━━━━━━━━━━━━━━━━━\u001b[0m\u001b[37m\u001b[0m \u001b[1m0s\u001b[0m 6ms/step \n"
          ]
        },
        {
          "output_type": "display_data",
          "data": {
            "text/plain": [
              "<Figure size 640x480 with 1 Axes>"
            ],
            "image/png": "[encoded data removed]"
          },
          "metadata": {}
        }
      ],
      "source": [
        "# Prediksi\n",
        "trainPredict = model.predict(trainX)\n",
        "testPredict = model.predict(testX)\n",
        "\n",
        "# Inverse Transform untuk mendapatkan nilai asli\n",
        "trainPredict = scaler.inverse_transform(trainPredict)\n",
        "trainY = scaler.inverse_transform([trainY])\n",
        "testPredict = scaler.inverse_transform(testPredict)\n",
        "testY = scaler.inverse_transform([testY])\n",
        "\n",
        "# Flatten the arrays to 1-D\n",
        "trainPredict = trainPredict.flatten()  # Mengubah array hasil prediksi pada data training menjadi array 1-D\n",
        "testPredict = testPredict.flatten()    # Mengubah array hasil prediksi pada data testing menjadi array 1-D\n",
        "trainY = trainY.flatten()              # Mengubah array label asli (ground truth) dari data training menjadi array 1-D\n",
        "testY = testY.flatten()                # Mengubah array label asli (ground truth) dari data testing menjadi array 1-D\n",
        "\n",
        "# Membuat array waktu dari 800 ke 0\n",
        "total_length = len(trainY) + len(testY)  # Total panjang data\n",
        "waktu = np.linspace(800, 0, num=total_length)  # Waktu dari 800 ke 0\n",
        "\n",
        "# Plot prediksi vs nilai aktual\n",
        "plt.plot(waktu[:len(trainY)], trainY, label='Data Aktual (Training)')  # Data aktual training\n",
        "plt.plot(waktu[:len(trainY)], trainPredict, label='Prediksi (Training)')  # Prediksi training\n",
        "plt.plot(waktu[len(trainY):], testY, label='Data Aktual (Testing)')  # Data aktual testing\n",
        "plt.plot(waktu[len(trainY):], testPredict, label='Prediksi (Testing)')  # Prediksi testing\n",
        "\n",
        "# Menambahkan judul dan label\n",
        "plt.title('Grafik Hasil Training dan Testing')  # Judul grafik\n",
        "plt.xlabel('Waktu (ribu tahun lalu)')  # Label sumbu X\n",
        "plt.ylabel('Permukaan Laut Dibanding Sekarang (m)')  # Label sumbu Y\n",
        "\n",
        "plt.legend()  # Menampilkan legenda\n",
        "plt.xlim(800, 0)  # Mengatur batas sumbu X dari 800 ke 0\n",
        "plt.show()  # Menampilkan plot"
      ]
    },
    {
      "cell_type": "code",
      "execution_count": null,
      "metadata": {
        "colab": {
          "base_uri": "https://localhost:8080/"
        },
        "id": "xi9AVSmeb9G-",
        "outputId": "a44b8e42-9338-4aee-9eb1-b58b83d414e2"
      },
      "outputs": [
        {
          "output_type": "stream",
          "name": "stdout",
          "text": [
            "Train RMSE: 1.762294797860162\n",
            "Test RMSE: 1.7383467632354455\n"
          ]
        }
      ],
      "source": [
        "# Menghitung RMSE untuk data training\n",
        "train_rmse = math.sqrt(mean_squared_error(trainY, trainPredict))\n",
        "print('Train RMSE:', train_rmse)\n",
        "\n",
        "# Calculate RMSE for testing data\n",
        "test_rmse = math.sqrt(mean_squared_error(testY, testPredict))\n",
        "print('Test RMSE:', test_rmse)"
      ]
    },
    {
      "cell_type": "code",
      "execution_count": null,
      "metadata": {
        "colab": {
          "base_uri": "https://localhost:8080/"
        },
        "id": "vhGemtFscDyi",
        "outputId": "4e529de7-0b32-4e0d-adc7-5c1025bc88f6"
      },
      "outputs": [
        {
          "output_type": "stream",
          "name": "stdout",
          "text": [
            "Train R-squared: 0.9963587207023111\n",
            "Test R-squared: 0.997759925764761\n"
          ]
        }
      ],
      "source": [
        "# Menghitung R-squared untuk data training\n",
        "train_r2 = r2_score(trainY, trainPredict)\n",
        "print('Train R-squared:', train_r2)\n",
        "\n",
        "# Menghitung R-squared untuk data testing\n",
        "test_r2 = r2_score(testY, testPredict)\n",
        "print('Test R-squared:', test_r2)"
      ]
    },
    {
      "cell_type": "code",
      "execution_count": null,
      "metadata": {
        "colab": {
          "base_uri": "https://localhost:8080/"
        },
        "id": "FXDKLrZ1cH-v",
        "outputId": "313ea0a7-df54-4a9e-bb9c-2606fd965f70"
      },
      "outputs": [
        {
          "output_type": "stream",
          "name": "stdout",
          "text": [
            "\u001b[1m1/1\u001b[0m \u001b[32m━━━━━━━━━━━━━━━━━━━━\u001b[0m\u001b[37m\u001b[0m \u001b[1m0s\u001b[0m 22ms/step\n",
            "\u001b[1m1/1\u001b[0m \u001b[32m━━━━━━━━━━━━━━━━━━━━\u001b[0m\u001b[37m\u001b[0m \u001b[1m0s\u001b[0m 20ms/step\n",
            "\u001b[1m1/1\u001b[0m \u001b[32m━━━━━━━━━━━━━━━━━━━━\u001b[0m\u001b[37m\u001b[0m \u001b[1m0s\u001b[0m 20ms/step\n",
            "\u001b[1m1/1\u001b[0m \u001b[32m━━━━━━━━━━━━━━━━━━━━\u001b[0m\u001b[37m\u001b[0m \u001b[1m0s\u001b[0m 20ms/step\n",
            "\u001b[1m1/1\u001b[0m \u001b[32m━━━━━━━━━━━━━━━━━━━━\u001b[0m\u001b[37m\u001b[0m \u001b[1m0s\u001b[0m 27ms/step\n",
            "\u001b[1m1/1\u001b[0m \u001b[32m━━━━━━━━━━━━━━━━━━━━\u001b[0m\u001b[37m\u001b[0m \u001b[1m0s\u001b[0m 21ms/step\n",
            "\u001b[1m1/1\u001b[0m \u001b[32m━━━━━━━━━━━━━━━━━━━━\u001b[0m\u001b[37m\u001b[0m \u001b[1m0s\u001b[0m 25ms/step\n",
            "\u001b[1m1/1\u001b[0m \u001b[32m━━━━━━━━━━━━━━━━━━━━\u001b[0m\u001b[37m\u001b[0m \u001b[1m0s\u001b[0m 19ms/step\n",
            "\u001b[1m1/1\u001b[0m \u001b[32m━━━━━━━━━━━━━━━━━━━━\u001b[0m\u001b[37m\u001b[0m \u001b[1m0s\u001b[0m 19ms/step\n",
            "\u001b[1m1/1\u001b[0m \u001b[32m━━━━━━━━━━━━━━━━━━━━\u001b[0m\u001b[37m\u001b[0m \u001b[1m0s\u001b[0m 21ms/step\n",
            "\u001b[1m1/1\u001b[0m \u001b[32m━━━━━━━━━━━━━━━━━━━━\u001b[0m\u001b[37m\u001b[0m \u001b[1m0s\u001b[0m 19ms/step\n",
            "\u001b[1m1/1\u001b[0m \u001b[32m━━━━━━━━━━━━━━━━━━━━\u001b[0m\u001b[37m\u001b[0m \u001b[1m0s\u001b[0m 19ms/step\n",
            "\u001b[1m1/1\u001b[0m \u001b[32m━━━━━━━━━━━━━━━━━━━━\u001b[0m\u001b[37m\u001b[0m \u001b[1m0s\u001b[0m 21ms/step\n",
            "\u001b[1m1/1\u001b[0m \u001b[32m━━━━━━━━━━━━━━━━━━━━\u001b[0m\u001b[37m\u001b[0m \u001b[1m0s\u001b[0m 21ms/step\n",
            "\u001b[1m1/1\u001b[0m \u001b[32m━━━━━━━━━━━━━━━━━━━━\u001b[0m\u001b[37m\u001b[0m \u001b[1m0s\u001b[0m 20ms/step\n",
            "\u001b[1m1/1\u001b[0m \u001b[32m━━━━━━━━━━━━━━━━━━━━\u001b[0m\u001b[37m\u001b[0m \u001b[1m0s\u001b[0m 21ms/step\n",
            "\u001b[1m1/1\u001b[0m \u001b[32m━━━━━━━━━━━━━━━━━━━━\u001b[0m\u001b[37m\u001b[0m \u001b[1m0s\u001b[0m 20ms/step\n",
            "\u001b[1m1/1\u001b[0m \u001b[32m━━━━━━━━━━━━━━━━━━━━\u001b[0m\u001b[37m\u001b[0m \u001b[1m0s\u001b[0m 23ms/step\n",
            "\u001b[1m1/1\u001b[0m \u001b[32m━━━━━━━━━━━━━━━━━━━━\u001b[0m\u001b[37m\u001b[0m \u001b[1m0s\u001b[0m 20ms/step\n",
            "\u001b[1m1/1\u001b[0m \u001b[32m━━━━━━━━━━━━━━━━━━━━\u001b[0m\u001b[37m\u001b[0m \u001b[1m0s\u001b[0m 25ms/step\n",
            "\u001b[1m1/1\u001b[0m \u001b[32m━━━━━━━━━━━━━━━━━━━━\u001b[0m\u001b[37m\u001b[0m \u001b[1m0s\u001b[0m 26ms/step\n",
            "\u001b[1m1/1\u001b[0m \u001b[32m━━━━━━━━━━━━━━━━━━━━\u001b[0m\u001b[37m\u001b[0m \u001b[1m0s\u001b[0m 31ms/step\n",
            "\u001b[1m1/1\u001b[0m \u001b[32m━━━━━━━━━━━━━━━━━━━━\u001b[0m\u001b[37m\u001b[0m \u001b[1m0s\u001b[0m 19ms/step\n",
            "\u001b[1m1/1\u001b[0m \u001b[32m━━━━━━━━━━━━━━━━━━━━\u001b[0m\u001b[37m\u001b[0m \u001b[1m0s\u001b[0m 19ms/step\n",
            "    Waktu (ribu tahun lalu)  Permukaan Laut (m)\n",
            "0                        -1           -1.348605\n",
            "1                        -2           -2.906583\n",
            "2                        -3           -5.252882\n",
            "3                        -4           -7.948976\n",
            "4                        -5          -10.723859\n",
            "5                        -6          -13.367518\n",
            "6                        -7          -15.761996\n",
            "7                        -8          -17.883512\n",
            "8                        -9          -19.762323\n",
            "9                       -10          -21.446430\n",
            "10                      -11          -22.985456\n",
            "11                      -12          -24.422146\n",
            "12                      -13          -25.788059\n",
            "13                      -14          -27.103096\n",
            "14                      -15          -28.377892\n",
            "15                      -16          -29.616859\n",
            "16                      -17          -30.820719\n",
            "17                      -18          -31.988569\n",
            "18                      -19          -33.119125\n",
            "19                      -20          -34.211468\n",
            "20                      -21          -35.265327\n",
            "21                      -22          -36.281170\n",
            "22                      -23          -37.259964\n",
            "23                      -24          -38.203030\n"
          ]
        },
        {
          "output_type": "display_data",
          "data": {
            "text/plain": [
              "<Figure size 640x480 with 1 Axes>"
            ],
            "image/png": "[encoded data removed]"
          },
          "metadata": {}
        },
        {
          "output_type": "stream",
          "name": "stdout",
          "text": [
            "Forecast untuk 24 waktu ke depan: [ -1.348605  -2.906583  -5.252882  -7.948976 -10.723859 -13.367518\n",
            " -15.761996 -17.883512 -19.762323 -21.44643  -22.985456 -24.422146\n",
            " -25.78806  -27.103096 -28.377892 -29.61686  -30.820719 -31.98857\n",
            " -33.119125 -34.211468 -35.265327 -36.28117  -37.259964 -38.20303 ]\n"
          ]
        }
      ],
      "source": [
        "look_back = 6  # Jumlah langkah waktu yang digunakan untuk prediksi\n",
        "last_data = dataset[-look_back:]  # Ambil data terakhir sebanyak look_back\n",
        "forecast_data = []\n",
        "\n",
        "# Forecast untuk 10 waktu ke depan\n",
        "for _ in range(24):  # Forecast untuk 10 langkah waktu\n",
        "    input_data = np.reshape(last_data, (1, look_back, 1))\n",
        "    prediction = model.predict(input_data)\n",
        "    forecast_data.append(prediction[0][0])\n",
        "    last_data = np.append(last_data[1:], prediction)  # Update data terakhir dengan prediksi\n",
        "    last_data = last_data[-look_back:]\n",
        "\n",
        "# Inverse transform untuk mendapatkan nilai asli\n",
        "forecast_data = scaler.inverse_transform(np.array(forecast_data).reshape(-1, 1))\n",
        "forecast_data = forecast_data.flatten()\n",
        "\n",
        "# Membuat array waktu untuk 10 waktu ke depan dari -1 hingga -25\n",
        "waktu_prediksi = np.arange(-1, -25, -1)  # Waktu dari -1 ke -10\n",
        "\n",
        "# Membuat array waktu untuk data aktual dari 800 hingga 0\n",
        "total_length = len(trainY) + len(testY)  # Total panjang data\n",
        "waktu_aktual = np.linspace(800, 0, num=total_length)  # Waktu dari 800 ke 0\n",
        "\n",
        "# Membuat DataFrame untuk hasil prediksi\n",
        "data_prediksi = pd.DataFrame({\n",
        "    'Waktu (ribu tahun lalu)': waktu_prediksi,\n",
        "    'Permukaan Laut (m)': forecast_data\n",
        "})\n",
        "\n",
        "# Menampilkan tabel hasil prediksi\n",
        "print(data_prediksi)\n",
        "\n",
        "# Plot forecast\n",
        "plt.plot(waktu_aktual[:len(trainY)], trainY, label='Data Aktual (Training)')  # Data aktual training\n",
        "plt.plot(waktu_aktual[:len(trainY)], trainPredict, label='Data Prediksi (Training)')  # Prediksi training\n",
        "plt.plot(waktu_aktual[len(trainY):], testY, label='Data Aktual (Testing)')  # Data aktual testing\n",
        "plt.plot(waktu_aktual[len(trainY):], testPredict, label='Prediksi (Testing)')  # Prediksi testing\n",
        "plt.plot(waktu_prediksi, forecast_data, label='Prediksi 24 Waktu Ke Depan', linestyle='-')  # Prediksi 10 waktu ke depan\n",
        "\n",
        "# Menambahkan judul dan label\n",
        "plt.title('Prediksi Data Permukaan Laut 24 Waktu Mendatang')\n",
        "plt.xlabel('Waktu (ribu tahun lalu)')\n",
        "plt.ylabel('Permukaan Laut Dibanding Sekarang (m)')\n",
        "\n",
        "plt.legend()  # Menampilkan legenda\n",
        "plt.xlim(800, -110)  # Mengatur batas sumbu X dari 800 ke -20\n",
        "plt.show()  # Menampilkan plot\n",
        "\n",
        "print(\"Forecast untuk 24 waktu ke depan:\", forecast_data)"
      ]
    },
    {
      "cell_type": "code",
      "source": [
        "# Hasil Prediksi 1 Waktu Ke depan\n",
        "waktu_prediksi = np.arange(0, 2, 1)\n",
        "forecast_data = [-1.21, -1.348605]  # Example forecast values\n",
        "\n",
        "\n",
        "plt.plot(waktu_prediksi, forecast_data, label='Prediksi 1 Waktu Ke Depan', marker='o')\n",
        "\n",
        "# Menambahkan judul dan label\n",
        "plt.title('Prediksi Data Permukaan Laut 1 Waktu Mendatang')\n",
        "plt.xlabel('Waktu (ribu tahun lalu)')\n",
        "plt.ylabel('Permukaan Laut Dibanding Sekarang (m)')\n",
        "\n",
        "# Mengatur rentang sumbu Y dengan interval 0.05\n",
        "y_ticks = np.arange(min(forecast_data) - 0.01, max(forecast_data) + 0.01, 0.01)\n",
        "plt.yticks(y_ticks)\n",
        "# Mengatur rentang sumbu X dengan interval 0.1\n",
        "x_ticks = np.arange(0, 1.1, 0.1)  # Rentang dari 0 hingga 1 dengan interval 0.1\n",
        "plt.xticks(x_ticks)\n",
        "\n",
        "plt.legend()  # Menampilkan legenda\n",
        "plt.grid(True) #adds gridlines\n",
        "plt.show()  # Menampilkan plot"
      ],
      "metadata": {
        "colab": {
          "base_uri": "https://localhost:8080/",
          "height": 472
        },
        "id": "QBcwMKeA8B23",
        "outputId": "e068872d-a606-40ab-dc41-cb56f9c6fb3e"
      },
      "execution_count": null,
      "outputs": [
        {
          "output_type": "display_data",
          "data": {
            "text/plain": [
              "<Figure size 640x480 with 1 Axes>"
            ],
            "image/png": "[encoded data removed]"
          },
          "metadata": {}
        }
      ]
    },
    {
      "cell_type": "code",
      "execution_count": null,
      "metadata": {
        "colab": {
          "background_save": true,
          "base_uri": "https://localhost:8080/"
        },
        "id": "PzMadEoYcNw1",
        "outputId": "f49564e6-905e-40c0-8114-4b20a76de8a0"
      },
      "outputs": [
        {
          "name": "stdout",
          "output_type": "stream",
          "text": [
            "Training with: look_back=3, epochs=50, batch_size=16, learning_rate=0.001, units=64\n"
          ]
        },
        {
          "name": "stderr",
          "output_type": "stream",
          "text": [
            "/usr/local/lib/python3.10/dist-packages/keras/src/layers/rnn/rnn.py:204: UserWarning: Do not pass an `input_shape`/`input_dim` argument to a layer. When using Sequential models, prefer using an `Input(shape)` object as the first layer in the model instead.\n",
            "  super().__init__(**kwargs)\n"
          ]
        },
        {
          "name": "stdout",
          "output_type": "stream",
          "text": [
            "\u001b[1m5/5\u001b[0m \u001b[32m━━━━━━━━━━━━━━━━━━━━\u001b[0m\u001b[37m\u001b[0m \u001b[1m1s\u001b[0m 70ms/step\n",
            "Test RMSE: 3.861960484764777\n",
            "Training with: look_back=3, epochs=50, batch_size=16, learning_rate=0.001, units=128\n"
          ]
        },
        {
          "name": "stderr",
          "output_type": "stream",
          "text": [
            "/usr/local/lib/python3.10/dist-packages/keras/src/layers/rnn/rnn.py:204: UserWarning: Do not pass an `input_shape`/`input_dim` argument to a layer. When using Sequential models, prefer using an `Input(shape)` object as the first layer in the model instead.\n",
            "  super().__init__(**kwargs)\n"
          ]
        },
        {
          "name": "stdout",
          "output_type": "stream",
          "text": [
            "\r\u001b[1m1/5\u001b[0m \u001b[32m━━━━\u001b[0m\u001b[37m━━━━━━━━━━━━━━━━\u001b[0m \u001b[1m1s\u001b[0m 252ms/step"
          ]
        },
        {
          "name": "stderr",
          "output_type": "stream",
          "text": [
            "WARNING:tensorflow:5 out of the last 26 calls to <function TensorFlowTrainer.make_predict_function.<locals>.one_step_on_data_distributed at 0x7c6e23566f80> triggered tf.function retracing. Tracing is expensive and the excessive number of tracings could be due to (1) creating @tf.function repeatedly in a loop, (2) passing tensors with different shapes, (3) passing Python objects instead of tensors. For (1), please define your @tf.function outside of the loop. For (2), @tf.function has reduce_retracing=True option that can avoid unnecessary retracing. For (3), please refer to https://www.tensorflow.org/guide/function#controlling_retracing and https://www.tensorflow.org/api_docs/python/tf/function for  more details.\n"
          ]
        },
        {
          "name": "stdout",
          "output_type": "stream",
          "text": [
            "\u001b[1m5/5\u001b[0m \u001b[32m━━━━━━━━━━━━━━━━━━━━\u001b[0m\u001b[37m\u001b[0m \u001b[1m1s\u001b[0m 69ms/step\n"
          ]
        },
        {
          "name": "stderr",
          "output_type": "stream",
          "text": [
            "/usr/local/lib/python3.10/dist-packages/keras/src/layers/rnn/rnn.py:204: UserWarning: Do not pass an `input_shape`/`input_dim` argument to a layer. When using Sequential models, prefer using an `Input(shape)` object as the first layer in the model instead.\n",
            "  super().__init__(**kwargs)\n"
          ]
        },
        {
          "name": "stdout",
          "output_type": "stream",
          "text": [
            "Test RMSE: 3.0449141225586107\n",
            "Training with: look_back=3, epochs=50, batch_size=16, learning_rate=0.01, units=64\n"
          ]
        },
        {
          "name": "stderr",
          "output_type": "stream",
          "text": [
            "WARNING:tensorflow:5 out of the last 11 calls to <function TensorFlowTrainer.make_predict_function.<locals>.one_step_on_data_distributed at 0x7c6e21ef4940> triggered tf.function retracing. Tracing is expensive and the excessive number of tracings could be due to (1) creating @tf.function repeatedly in a loop, (2) passing tensors with different shapes, (3) passing Python objects instead of tensors. For (1), please define your @tf.function outside of the loop. For (2), @tf.function has reduce_retracing=True option that can avoid unnecessary retracing. For (3), please refer to https://www.tensorflow.org/guide/function#controlling_retracing and https://www.tensorflow.org/api_docs/python/tf/function for  more details.\n"
          ]
        },
        {
          "name": "stdout",
          "output_type": "stream",
          "text": [
            "\u001b[1m5/5\u001b[0m \u001b[32m━━━━━━━━━━━━━━━━━━━━\u001b[0m\u001b[37m\u001b[0m \u001b[1m1s\u001b[0m 102ms/step\n",
            "Test RMSE: 1.858641491472073\n",
            "Training with: look_back=3, epochs=50, batch_size=16, learning_rate=0.01, units=128\n"
          ]
        },
        {
          "name": "stderr",
          "output_type": "stream",
          "text": [
            "/usr/local/lib/python3.10/dist-packages/keras/src/layers/rnn/rnn.py:204: UserWarning: Do not pass an `input_shape`/`input_dim` argument to a layer. When using Sequential models, prefer using an `Input(shape)` object as the first layer in the model instead.\n",
            "  super().__init__(**kwargs)\n"
          ]
        },
        {
          "name": "stdout",
          "output_type": "stream",
          "text": [
            "\u001b[1m5/5\u001b[0m \u001b[32m━━━━━━━━━━━━━━━━━━━━\u001b[0m\u001b[37m\u001b[0m \u001b[1m1s\u001b[0m 65ms/step\n",
            "Test RMSE: 2.6412022557182304\n",
            "Training with: look_back=3, epochs=50, batch_size=32, learning_rate=0.001, units=64\n"
          ]
        },
        {
          "name": "stderr",
          "output_type": "stream",
          "text": [
            "/usr/local/lib/python3.10/dist-packages/keras/src/layers/rnn/rnn.py:204: UserWarning: Do not pass an `input_shape`/`input_dim` argument to a layer. When using Sequential models, prefer using an `Input(shape)` object as the first layer in the model instead.\n",
            "  super().__init__(**kwargs)\n"
          ]
        },
        {
          "name": "stdout",
          "output_type": "stream",
          "text": [
            "\u001b[1m5/5\u001b[0m \u001b[32m━━━━━━━━━━━━━━━━━━━━\u001b[0m\u001b[37m\u001b[0m \u001b[1m0s\u001b[0m 63ms/step\n",
            "Test RMSE: 9.385768826934513\n",
            "Training with: look_back=3, epochs=50, batch_size=32, learning_rate=0.001, units=128\n"
          ]
        },
        {
          "name": "stderr",
          "output_type": "stream",
          "text": [
            "/usr/local/lib/python3.10/dist-packages/keras/src/layers/rnn/rnn.py:204: UserWarning: Do not pass an `input_shape`/`input_dim` argument to a layer. When using Sequential models, prefer using an `Input(shape)` object as the first layer in the model instead.\n",
            "  super().__init__(**kwargs)\n"
          ]
        },
        {
          "name": "stdout",
          "output_type": "stream",
          "text": [
            "\u001b[1m5/5\u001b[0m \u001b[32m━━━━━━━━━━━━━━━━━━━━\u001b[0m\u001b[37m\u001b[0m \u001b[1m1s\u001b[0m 67ms/step\n",
            "Test RMSE: 7.622255461923554\n",
            "Training with: look_back=3, epochs=50, batch_size=32, learning_rate=0.01, units=64\n"
          ]
        },
        {
          "name": "stderr",
          "output_type": "stream",
          "text": [
            "/usr/local/lib/python3.10/dist-packages/keras/src/layers/rnn/rnn.py:204: UserWarning: Do not pass an `input_shape`/`input_dim` argument to a layer. When using Sequential models, prefer using an `Input(shape)` object as the first layer in the model instead.\n",
            "  super().__init__(**kwargs)\n"
          ]
        },
        {
          "name": "stdout",
          "output_type": "stream",
          "text": [
            "\u001b[1m5/5\u001b[0m \u001b[32m━━━━━━━━━━━━━━━━━━━━\u001b[0m\u001b[37m\u001b[0m \u001b[1m1s\u001b[0m 101ms/step\n",
            "Test RMSE: 2.0171982915491746\n",
            "Training with: look_back=3, epochs=50, batch_size=32, learning_rate=0.01, units=128\n"
          ]
        },
        {
          "name": "stderr",
          "output_type": "stream",
          "text": [
            "/usr/local/lib/python3.10/dist-packages/keras/src/layers/rnn/rnn.py:204: UserWarning: Do not pass an `input_shape`/`input_dim` argument to a layer. When using Sequential models, prefer using an `Input(shape)` object as the first layer in the model instead.\n",
            "  super().__init__(**kwargs)\n"
          ]
        },
        {
          "name": "stdout",
          "output_type": "stream",
          "text": [
            "\u001b[1m5/5\u001b[0m \u001b[32m━━━━━━━━━━━━━━━━━━━━\u001b[0m\u001b[37m\u001b[0m \u001b[1m1s\u001b[0m 66ms/step\n",
            "Test RMSE: 1.7901118807956056\n",
            "Training with: look_back=3, epochs=100, batch_size=16, learning_rate=0.001, units=64\n"
          ]
        },
        {
          "name": "stderr",
          "output_type": "stream",
          "text": [
            "/usr/local/lib/python3.10/dist-packages/keras/src/layers/rnn/rnn.py:204: UserWarning: Do not pass an `input_shape`/`input_dim` argument to a layer. When using Sequential models, prefer using an `Input(shape)` object as the first layer in the model instead.\n",
            "  super().__init__(**kwargs)\n"
          ]
        },
        {
          "name": "stdout",
          "output_type": "stream",
          "text": [
            "\u001b[1m5/5\u001b[0m \u001b[32m━━━━━━━━━━━━━━━━━━━━\u001b[0m\u001b[37m\u001b[0m \u001b[1m1s\u001b[0m 64ms/step\n",
            "Test RMSE: 2.018249425267405\n",
            "Training with: look_back=3, epochs=100, batch_size=16, learning_rate=0.001, units=128\n"
          ]
        },
        {
          "name": "stderr",
          "output_type": "stream",
          "text": [
            "/usr/local/lib/python3.10/dist-packages/keras/src/layers/rnn/rnn.py:204: UserWarning: Do not pass an `input_shape`/`input_dim` argument to a layer. When using Sequential models, prefer using an `Input(shape)` object as the first layer in the model instead.\n",
            "  super().__init__(**kwargs)\n"
          ]
        },
        {
          "name": "stdout",
          "output_type": "stream",
          "text": [
            "\u001b[1m5/5\u001b[0m \u001b[32m━━━━━━━━━━━━━━━━━━━━\u001b[0m\u001b[37m\u001b[0m \u001b[1m1s\u001b[0m 108ms/step\n",
            "Test RMSE: 1.845267257662278\n",
            "Training with: look_back=3, epochs=100, batch_size=16, learning_rate=0.01, units=64\n"
          ]
        },
        {
          "name": "stderr",
          "output_type": "stream",
          "text": [
            "/usr/local/lib/python3.10/dist-packages/keras/src/layers/rnn/rnn.py:204: UserWarning: Do not pass an `input_shape`/`input_dim` argument to a layer. When using Sequential models, prefer using an `Input(shape)` object as the first layer in the model instead.\n",
            "  super().__init__(**kwargs)\n"
          ]
        },
        {
          "name": "stdout",
          "output_type": "stream",
          "text": [
            "\u001b[1m5/5\u001b[0m \u001b[32m━━━━━━━━━━━━━━━━━━━━\u001b[0m\u001b[37m\u001b[0m \u001b[1m1s\u001b[0m 64ms/step\n",
            "Test RMSE: 2.3468954754732616\n",
            "Training with: look_back=3, epochs=100, batch_size=16, learning_rate=0.01, units=128\n"
          ]
        },
        {
          "name": "stderr",
          "output_type": "stream",
          "text": [
            "/usr/local/lib/python3.10/dist-packages/keras/src/layers/rnn/rnn.py:204: UserWarning: Do not pass an `input_shape`/`input_dim` argument to a layer. When using Sequential models, prefer using an `Input(shape)` object as the first layer in the model instead.\n",
            "  super().__init__(**kwargs)\n"
          ]
        },
        {
          "name": "stdout",
          "output_type": "stream",
          "text": [
            "\u001b[1m5/5\u001b[0m \u001b[32m━━━━━━━━━━━━━━━━━━━━\u001b[0m\u001b[37m\u001b[0m \u001b[1m1s\u001b[0m 67ms/step\n",
            "Test RMSE: 2.645280136183667\n",
            "Training with: look_back=3, epochs=100, batch_size=32, learning_rate=0.001, units=64\n"
          ]
        },
        {
          "name": "stderr",
          "output_type": "stream",
          "text": [
            "/usr/local/lib/python3.10/dist-packages/keras/src/layers/rnn/rnn.py:204: UserWarning: Do not pass an `input_shape`/`input_dim` argument to a layer. When using Sequential models, prefer using an `Input(shape)` object as the first layer in the model instead.\n",
            "  super().__init__(**kwargs)\n"
          ]
        },
        {
          "name": "stdout",
          "output_type": "stream",
          "text": [
            "\u001b[1m5/5\u001b[0m \u001b[32m━━━━━━━━━━━━━━━━━━━━\u001b[0m\u001b[37m\u001b[0m \u001b[1m1s\u001b[0m 67ms/step\n",
            "Test RMSE: 3.698797502968351\n",
            "Training with: look_back=3, epochs=100, batch_size=32, learning_rate=0.001, units=128\n"
          ]
        },
        {
          "name": "stderr",
          "output_type": "stream",
          "text": [
            "/usr/local/lib/python3.10/dist-packages/keras/src/layers/rnn/rnn.py:204: UserWarning: Do not pass an `input_shape`/`input_dim` argument to a layer. When using Sequential models, prefer using an `Input(shape)` object as the first layer in the model instead.\n",
            "  super().__init__(**kwargs)\n"
          ]
        },
        {
          "name": "stdout",
          "output_type": "stream",
          "text": [
            "\u001b[1m5/5\u001b[0m \u001b[32m━━━━━━━━━━━━━━━━━━━━\u001b[0m\u001b[37m\u001b[0m \u001b[1m1s\u001b[0m 67ms/step\n",
            "Test RMSE: 3.284154197496027\n",
            "Training with: look_back=3, epochs=100, batch_size=32, learning_rate=0.01, units=64\n"
          ]
        },
        {
          "name": "stderr",
          "output_type": "stream",
          "text": [
            "/usr/local/lib/python3.10/dist-packages/keras/src/layers/rnn/rnn.py:204: UserWarning: Do not pass an `input_shape`/`input_dim` argument to a layer. When using Sequential models, prefer using an `Input(shape)` object as the first layer in the model instead.\n",
            "  super().__init__(**kwargs)\n"
          ]
        },
        {
          "name": "stdout",
          "output_type": "stream",
          "text": [
            "\u001b[1m5/5\u001b[0m \u001b[32m━━━━━━━━━━━━━━━━━━━━\u001b[0m\u001b[37m\u001b[0m \u001b[1m1s\u001b[0m 69ms/step\n",
            "Test RMSE: 2.950855226285455\n",
            "Training with: look_back=3, epochs=100, batch_size=32, learning_rate=0.01, units=128\n"
          ]
        },
        {
          "name": "stderr",
          "output_type": "stream",
          "text": [
            "/usr/local/lib/python3.10/dist-packages/keras/src/layers/rnn/rnn.py:204: UserWarning: Do not pass an `input_shape`/`input_dim` argument to a layer. When using Sequential models, prefer using an `Input(shape)` object as the first layer in the model instead.\n",
            "  super().__init__(**kwargs)\n"
          ]
        },
        {
          "name": "stdout",
          "output_type": "stream",
          "text": [
            "\u001b[1m5/5\u001b[0m \u001b[32m━━━━━━━━━━━━━━━━━━━━\u001b[0m\u001b[37m\u001b[0m \u001b[1m1s\u001b[0m 68ms/step\n",
            "Test RMSE: 1.9807464812569568\n",
            "Training with: look_back=6, epochs=50, batch_size=16, learning_rate=0.001, units=64\n"
          ]
        },
        {
          "name": "stderr",
          "output_type": "stream",
          "text": [
            "/usr/local/lib/python3.10/dist-packages/keras/src/layers/rnn/rnn.py:204: UserWarning: Do not pass an `input_shape`/`input_dim` argument to a layer. When using Sequential models, prefer using an `Input(shape)` object as the first layer in the model instead.\n",
            "  super().__init__(**kwargs)\n"
          ]
        },
        {
          "name": "stdout",
          "output_type": "stream",
          "text": [
            "\u001b[1m5/5\u001b[0m \u001b[32m━━━━━━━━━━━━━━━━━━━━\u001b[0m\u001b[37m\u001b[0m \u001b[1m1s\u001b[0m 98ms/step\n",
            "Test RMSE: 3.9770762067358794\n",
            "Training with: look_back=6, epochs=50, batch_size=16, learning_rate=0.001, units=128\n"
          ]
        },
        {
          "name": "stderr",
          "output_type": "stream",
          "text": [
            "/usr/local/lib/python3.10/dist-packages/keras/src/layers/rnn/rnn.py:204: UserWarning: Do not pass an `input_shape`/`input_dim` argument to a layer. When using Sequential models, prefer using an `Input(shape)` object as the first layer in the model instead.\n",
            "  super().__init__(**kwargs)\n"
          ]
        },
        {
          "name": "stdout",
          "output_type": "stream",
          "text": [
            "\u001b[1m5/5\u001b[0m \u001b[32m━━━━━━━━━━━━━━━━━━━━\u001b[0m\u001b[37m\u001b[0m \u001b[1m1s\u001b[0m 72ms/step\n",
            "Test RMSE: 2.966825015601476\n",
            "Training with: look_back=6, epochs=50, batch_size=16, learning_rate=0.01, units=64\n"
          ]
        },
        {
          "name": "stderr",
          "output_type": "stream",
          "text": [
            "/usr/local/lib/python3.10/dist-packages/keras/src/layers/rnn/rnn.py:204: UserWarning: Do not pass an `input_shape`/`input_dim` argument to a layer. When using Sequential models, prefer using an `Input(shape)` object as the first layer in the model instead.\n",
            "  super().__init__(**kwargs)\n"
          ]
        },
        {
          "name": "stdout",
          "output_type": "stream",
          "text": [
            "\u001b[1m5/5\u001b[0m \u001b[32m━━━━━━━━━━━━━━━━━━━━\u001b[0m\u001b[37m\u001b[0m \u001b[1m1s\u001b[0m 68ms/step\n",
            "Test RMSE: 3.5701500942832882\n",
            "Training with: look_back=6, epochs=50, batch_size=16, learning_rate=0.01, units=128\n"
          ]
        },
        {
          "name": "stderr",
          "output_type": "stream",
          "text": [
            "/usr/local/lib/python3.10/dist-packages/keras/src/layers/rnn/rnn.py:204: UserWarning: Do not pass an `input_shape`/`input_dim` argument to a layer. When using Sequential models, prefer using an `Input(shape)` object as the first layer in the model instead.\n",
            "  super().__init__(**kwargs)\n"
          ]
        },
        {
          "name": "stdout",
          "output_type": "stream",
          "text": [
            "\u001b[1m5/5\u001b[0m \u001b[32m━━━━━━━━━━━━━━━━━━━━\u001b[0m\u001b[37m\u001b[0m \u001b[1m1s\u001b[0m 69ms/step\n",
            "Test RMSE: 1.692224405513201\n",
            "Training with: look_back=6, epochs=50, batch_size=32, learning_rate=0.001, units=64\n"
          ]
        },
        {
          "name": "stderr",
          "output_type": "stream",
          "text": [
            "/usr/local/lib/python3.10/dist-packages/keras/src/layers/rnn/rnn.py:204: UserWarning: Do not pass an `input_shape`/`input_dim` argument to a layer. When using Sequential models, prefer using an `Input(shape)` object as the first layer in the model instead.\n",
            "  super().__init__(**kwargs)\n"
          ]
        },
        {
          "name": "stdout",
          "output_type": "stream",
          "text": [
            "\u001b[1m5/5\u001b[0m \u001b[32m━━━━━━━━━━━━━━━━━━━━\u001b[0m\u001b[37m\u001b[0m \u001b[1m1s\u001b[0m 104ms/step\n",
            "Test RMSE: 6.707572025859142\n",
            "Training with: look_back=6, epochs=50, batch_size=32, learning_rate=0.001, units=128\n"
          ]
        },
        {
          "name": "stderr",
          "output_type": "stream",
          "text": [
            "/usr/local/lib/python3.10/dist-packages/keras/src/layers/rnn/rnn.py:204: UserWarning: Do not pass an `input_shape`/`input_dim` argument to a layer. When using Sequential models, prefer using an `Input(shape)` object as the first layer in the model instead.\n",
            "  super().__init__(**kwargs)\n"
          ]
        },
        {
          "name": "stdout",
          "output_type": "stream",
          "text": [
            "\u001b[1m5/5\u001b[0m \u001b[32m━━━━━━━━━━━━━━━━━━━━\u001b[0m\u001b[37m\u001b[0m \u001b[1m1s\u001b[0m 72ms/step\n",
            "Test RMSE: 5.649404783552798\n",
            "Training with: look_back=6, epochs=50, batch_size=32, learning_rate=0.01, units=64\n"
          ]
        },
        {
          "name": "stderr",
          "output_type": "stream",
          "text": [
            "/usr/local/lib/python3.10/dist-packages/keras/src/layers/rnn/rnn.py:204: UserWarning: Do not pass an `input_shape`/`input_dim` argument to a layer. When using Sequential models, prefer using an `Input(shape)` object as the first layer in the model instead.\n",
            "  super().__init__(**kwargs)\n"
          ]
        },
        {
          "name": "stdout",
          "output_type": "stream",
          "text": [
            "\u001b[1m5/5\u001b[0m \u001b[32m━━━━━━━━━━━━━━━━━━━━\u001b[0m\u001b[37m\u001b[0m \u001b[1m1s\u001b[0m 67ms/step\n",
            "Test RMSE: 1.9619905614720219\n",
            "Training with: look_back=6, epochs=50, batch_size=32, learning_rate=0.01, units=128\n"
          ]
        },
        {
          "name": "stderr",
          "output_type": "stream",
          "text": [
            "/usr/local/lib/python3.10/dist-packages/keras/src/layers/rnn/rnn.py:204: UserWarning: Do not pass an `input_shape`/`input_dim` argument to a layer. When using Sequential models, prefer using an `Input(shape)` object as the first layer in the model instead.\n",
            "  super().__init__(**kwargs)\n"
          ]
        },
        {
          "name": "stdout",
          "output_type": "stream",
          "text": [
            "\u001b[1m5/5\u001b[0m \u001b[32m━━━━━━━━━━━━━━━━━━━━\u001b[0m\u001b[37m\u001b[0m \u001b[1m1s\u001b[0m 71ms/step\n",
            "Test RMSE: 1.9555398659103849\n",
            "Training with: look_back=6, epochs=100, batch_size=16, learning_rate=0.001, units=64\n"
          ]
        },
        {
          "name": "stderr",
          "output_type": "stream",
          "text": [
            "/usr/local/lib/python3.10/dist-packages/keras/src/layers/rnn/rnn.py:204: UserWarning: Do not pass an `input_shape`/`input_dim` argument to a layer. When using Sequential models, prefer using an `Input(shape)` object as the first layer in the model instead.\n",
            "  super().__init__(**kwargs)\n"
          ]
        },
        {
          "name": "stdout",
          "output_type": "stream",
          "text": [
            "\u001b[1m5/5\u001b[0m \u001b[32m━━━━━━━━━━━━━━━━━━━━\u001b[0m\u001b[37m\u001b[0m \u001b[1m1s\u001b[0m 99ms/step\n",
            "Test RMSE: 1.9826344593483085\n",
            "Training with: look_back=6, epochs=100, batch_size=16, learning_rate=0.001, units=128\n"
          ]
        },
        {
          "name": "stderr",
          "output_type": "stream",
          "text": [
            "/usr/local/lib/python3.10/dist-packages/keras/src/layers/rnn/rnn.py:204: UserWarning: Do not pass an `input_shape`/`input_dim` argument to a layer. When using Sequential models, prefer using an `Input(shape)` object as the first layer in the model instead.\n",
            "  super().__init__(**kwargs)\n"
          ]
        },
        {
          "name": "stdout",
          "output_type": "stream",
          "text": [
            "\u001b[1m5/5\u001b[0m \u001b[32m━━━━━━━━━━━━━━━━━━━━\u001b[0m\u001b[37m\u001b[0m \u001b[1m1s\u001b[0m 107ms/step\n",
            "Test RMSE: 1.8346308501017432\n",
            "Training with: look_back=6, epochs=100, batch_size=16, learning_rate=0.01, units=64\n"
          ]
        },
        {
          "name": "stderr",
          "output_type": "stream",
          "text": [
            "/usr/local/lib/python3.10/dist-packages/keras/src/layers/rnn/rnn.py:204: UserWarning: Do not pass an `input_shape`/`input_dim` argument to a layer. When using Sequential models, prefer using an `Input(shape)` object as the first layer in the model instead.\n",
            "  super().__init__(**kwargs)\n"
          ]
        },
        {
          "name": "stdout",
          "output_type": "stream",
          "text": [
            "\u001b[1m5/5\u001b[0m \u001b[32m━━━━━━━━━━━━━━━━━━━━\u001b[0m\u001b[37m\u001b[0m \u001b[1m1s\u001b[0m 66ms/step\n",
            "Test RMSE: 1.8870917195547579\n",
            "Training with: look_back=6, epochs=100, batch_size=16, learning_rate=0.01, units=128\n"
          ]
        },
        {
          "name": "stderr",
          "output_type": "stream",
          "text": [
            "/usr/local/lib/python3.10/dist-packages/keras/src/layers/rnn/rnn.py:204: UserWarning: Do not pass an `input_shape`/`input_dim` argument to a layer. When using Sequential models, prefer using an `Input(shape)` object as the first layer in the model instead.\n",
            "  super().__init__(**kwargs)\n"
          ]
        },
        {
          "name": "stdout",
          "output_type": "stream",
          "text": [
            "\u001b[1m5/5\u001b[0m \u001b[32m━━━━━━━━━━━━━━━━━━━━\u001b[0m\u001b[37m\u001b[0m \u001b[1m1s\u001b[0m 71ms/step\n",
            "Test RMSE: 1.9940132609669978\n",
            "Training with: look_back=6, epochs=100, batch_size=32, learning_rate=0.001, units=64\n"
          ]
        },
        {
          "name": "stderr",
          "output_type": "stream",
          "text": [
            "/usr/local/lib/python3.10/dist-packages/keras/src/layers/rnn/rnn.py:204: UserWarning: Do not pass an `input_shape`/`input_dim` argument to a layer. When using Sequential models, prefer using an `Input(shape)` object as the first layer in the model instead.\n",
            "  super().__init__(**kwargs)\n"
          ]
        },
        {
          "name": "stdout",
          "output_type": "stream",
          "text": [
            "\u001b[1m5/5\u001b[0m \u001b[32m━━━━━━━━━━━━━━━━━━━━\u001b[0m\u001b[37m\u001b[0m \u001b[1m1s\u001b[0m 105ms/step\n",
            "Test RMSE: 3.688323260772583\n",
            "Training with: look_back=6, epochs=100, batch_size=32, learning_rate=0.001, units=128\n"
          ]
        },
        {
          "name": "stderr",
          "output_type": "stream",
          "text": [
            "/usr/local/lib/python3.10/dist-packages/keras/src/layers/rnn/rnn.py:204: UserWarning: Do not pass an `input_shape`/`input_dim` argument to a layer. When using Sequential models, prefer using an `Input(shape)` object as the first layer in the model instead.\n",
            "  super().__init__(**kwargs)\n"
          ]
        },
        {
          "name": "stdout",
          "output_type": "stream",
          "text": [
            "\u001b[1m5/5\u001b[0m \u001b[32m━━━━━━━━━━━━━━━━━━━━\u001b[0m\u001b[37m\u001b[0m \u001b[1m1s\u001b[0m 100ms/step\n",
            "Test RMSE: 2.6572236275016943\n",
            "Training with: look_back=6, epochs=100, batch_size=32, learning_rate=0.01, units=64\n"
          ]
        },
        {
          "name": "stderr",
          "output_type": "stream",
          "text": [
            "/usr/local/lib/python3.10/dist-packages/keras/src/layers/rnn/rnn.py:204: UserWarning: Do not pass an `input_shape`/`input_dim` argument to a layer. When using Sequential models, prefer using an `Input(shape)` object as the first layer in the model instead.\n",
            "  super().__init__(**kwargs)\n"
          ]
        },
        {
          "name": "stdout",
          "output_type": "stream",
          "text": [
            "\u001b[1m5/5\u001b[0m \u001b[32m━━━━━━━━━━━━━━━━━━━━\u001b[0m\u001b[37m\u001b[0m \u001b[1m1s\u001b[0m 96ms/step\n",
            "Test RMSE: 2.484681987850636\n",
            "Training with: look_back=6, epochs=100, batch_size=32, learning_rate=0.01, units=128\n"
          ]
        },
        {
          "name": "stderr",
          "output_type": "stream",
          "text": [
            "/usr/local/lib/python3.10/dist-packages/keras/src/layers/rnn/rnn.py:204: UserWarning: Do not pass an `input_shape`/`input_dim` argument to a layer. When using Sequential models, prefer using an `Input(shape)` object as the first layer in the model instead.\n",
            "  super().__init__(**kwargs)\n"
          ]
        },
        {
          "name": "stdout",
          "output_type": "stream",
          "text": [
            "\u001b[1m5/5\u001b[0m \u001b[32m━━━━━━━━━━━━━━━━━━━━\u001b[0m\u001b[37m\u001b[0m \u001b[1m1s\u001b[0m 68ms/step\n",
            "Test RMSE: 2.188888653687828\n",
            "Training with: look_back=12, epochs=50, batch_size=16, learning_rate=0.001, units=64\n"
          ]
        },
        {
          "name": "stderr",
          "output_type": "stream",
          "text": [
            "/usr/local/lib/python3.10/dist-packages/keras/src/layers/rnn/rnn.py:204: UserWarning: Do not pass an `input_shape`/`input_dim` argument to a layer. When using Sequential models, prefer using an `Input(shape)` object as the first layer in the model instead.\n",
            "  super().__init__(**kwargs)\n"
          ]
        },
        {
          "name": "stdout",
          "output_type": "stream",
          "text": [
            "\u001b[1m5/5\u001b[0m \u001b[32m━━━━━━━━━━━━━━━━━━━━\u001b[0m\u001b[37m\u001b[0m \u001b[1m1s\u001b[0m 68ms/step\n",
            "Test RMSE: 2.9579271599689574\n",
            "Training with: look_back=12, epochs=50, batch_size=16, learning_rate=0.001, units=128\n"
          ]
        },
        {
          "name": "stderr",
          "output_type": "stream",
          "text": [
            "/usr/local/lib/python3.10/dist-packages/keras/src/layers/rnn/rnn.py:204: UserWarning: Do not pass an `input_shape`/`input_dim` argument to a layer. When using Sequential models, prefer using an `Input(shape)` object as the first layer in the model instead.\n",
            "  super().__init__(**kwargs)\n"
          ]
        },
        {
          "name": "stdout",
          "output_type": "stream",
          "text": [
            "\u001b[1m5/5\u001b[0m \u001b[32m━━━━━━━━━━━━━━━━━━━━\u001b[0m\u001b[37m\u001b[0m \u001b[1m1s\u001b[0m 76ms/step\n",
            "Test RMSE: 2.344997917572138\n",
            "Training with: look_back=12, epochs=50, batch_size=16, learning_rate=0.01, units=64\n"
          ]
        },
        {
          "name": "stderr",
          "output_type": "stream",
          "text": [
            "/usr/local/lib/python3.10/dist-packages/keras/src/layers/rnn/rnn.py:204: UserWarning: Do not pass an `input_shape`/`input_dim` argument to a layer. When using Sequential models, prefer using an `Input(shape)` object as the first layer in the model instead.\n",
            "  super().__init__(**kwargs)\n"
          ]
        },
        {
          "name": "stdout",
          "output_type": "stream",
          "text": [
            "\u001b[1m5/5\u001b[0m \u001b[32m━━━━━━━━━━━━━━━━━━━━\u001b[0m\u001b[37m\u001b[0m \u001b[1m1s\u001b[0m 71ms/step\n",
            "Test RMSE: 2.0597379082881404\n",
            "Training with: look_back=12, epochs=50, batch_size=16, learning_rate=0.01, units=128\n"
          ]
        },
        {
          "name": "stderr",
          "output_type": "stream",
          "text": [
            "/usr/local/lib/python3.10/dist-packages/keras/src/layers/rnn/rnn.py:204: UserWarning: Do not pass an `input_shape`/`input_dim` argument to a layer. When using Sequential models, prefer using an `Input(shape)` object as the first layer in the model instead.\n",
            "  super().__init__(**kwargs)\n"
          ]
        },
        {
          "name": "stdout",
          "output_type": "stream",
          "text": [
            "\u001b[1m5/5\u001b[0m \u001b[32m━━━━━━━━━━━━━━━━━━━━\u001b[0m\u001b[37m\u001b[0m \u001b[1m2s\u001b[0m 405ms/step\n",
            "Test RMSE: 2.931316319904898\n",
            "Training with: look_back=12, epochs=50, batch_size=32, learning_rate=0.001, units=64\n"
          ]
        },
        {
          "name": "stderr",
          "output_type": "stream",
          "text": [
            "/usr/local/lib/python3.10/dist-packages/keras/src/layers/rnn/rnn.py:204: UserWarning: Do not pass an `input_shape`/`input_dim` argument to a layer. When using Sequential models, prefer using an `Input(shape)` object as the first layer in the model instead.\n",
            "  super().__init__(**kwargs)\n"
          ]
        },
        {
          "name": "stdout",
          "output_type": "stream",
          "text": [
            "\u001b[1m5/5\u001b[0m \u001b[32m━━━━━━━━━━━━━━━━━━━━\u001b[0m\u001b[37m\u001b[0m \u001b[1m1s\u001b[0m 78ms/step\n",
            "Test RMSE: 4.311977981603676\n",
            "Training with: look_back=12, epochs=50, batch_size=32, learning_rate=0.001, units=128\n"
          ]
        },
        {
          "name": "stderr",
          "output_type": "stream",
          "text": [
            "/usr/local/lib/python3.10/dist-packages/keras/src/layers/rnn/rnn.py:204: UserWarning: Do not pass an `input_shape`/`input_dim` argument to a layer. When using Sequential models, prefer using an `Input(shape)` object as the first layer in the model instead.\n",
            "  super().__init__(**kwargs)\n"
          ]
        },
        {
          "name": "stdout",
          "output_type": "stream",
          "text": [
            "\u001b[1m5/5\u001b[0m \u001b[32m━━━━━━━━━━━━━━━━━━━━\u001b[0m\u001b[37m\u001b[0m \u001b[1m1s\u001b[0m 81ms/step\n",
            "Test RMSE: 3.8014032840805063\n",
            "Training with: look_back=12, epochs=50, batch_size=32, learning_rate=0.01, units=64\n"
          ]
        },
        {
          "name": "stderr",
          "output_type": "stream",
          "text": [
            "/usr/local/lib/python3.10/dist-packages/keras/src/layers/rnn/rnn.py:204: UserWarning: Do not pass an `input_shape`/`input_dim` argument to a layer. When using Sequential models, prefer using an `Input(shape)` object as the first layer in the model instead.\n",
            "  super().__init__(**kwargs)\n"
          ]
        },
        {
          "name": "stdout",
          "output_type": "stream",
          "text": [
            "\u001b[1m5/5\u001b[0m \u001b[32m━━━━━━━━━━━━━━━━━━━━\u001b[0m\u001b[37m\u001b[0m \u001b[1m1s\u001b[0m 72ms/step\n",
            "Test RMSE: 2.2570344404523874\n",
            "Training with: look_back=12, epochs=50, batch_size=32, learning_rate=0.01, units=128\n"
          ]
        },
        {
          "name": "stderr",
          "output_type": "stream",
          "text": [
            "/usr/local/lib/python3.10/dist-packages/keras/src/layers/rnn/rnn.py:204: UserWarning: Do not pass an `input_shape`/`input_dim` argument to a layer. When using Sequential models, prefer using an `Input(shape)` object as the first layer in the model instead.\n",
            "  super().__init__(**kwargs)\n"
          ]
        },
        {
          "name": "stdout",
          "output_type": "stream",
          "text": [
            "\u001b[1m5/5\u001b[0m \u001b[32m━━━━━━━━━━━━━━━━━━━━\u001b[0m\u001b[37m\u001b[0m \u001b[1m1s\u001b[0m 73ms/step\n",
            "Test RMSE: 1.7908116182788465\n",
            "Training with: look_back=12, epochs=100, batch_size=16, learning_rate=0.001, units=64\n"
          ]
        },
        {
          "name": "stderr",
          "output_type": "stream",
          "text": [
            "/usr/local/lib/python3.10/dist-packages/keras/src/layers/rnn/rnn.py:204: UserWarning: Do not pass an `input_shape`/`input_dim` argument to a layer. When using Sequential models, prefer using an `Input(shape)` object as the first layer in the model instead.\n",
            "  super().__init__(**kwargs)\n"
          ]
        },
        {
          "name": "stdout",
          "output_type": "stream",
          "text": [
            "\u001b[1m5/5\u001b[0m \u001b[32m━━━━━━━━━━━━━━━━━━━━\u001b[0m\u001b[37m\u001b[0m \u001b[1m1s\u001b[0m 76ms/step\n",
            "Test RMSE: 2.0135363739501804\n",
            "Training with: look_back=12, epochs=100, batch_size=16, learning_rate=0.001, units=128\n"
          ]
        },
        {
          "name": "stderr",
          "output_type": "stream",
          "text": [
            "/usr/local/lib/python3.10/dist-packages/keras/src/layers/rnn/rnn.py:204: UserWarning: Do not pass an `input_shape`/`input_dim` argument to a layer. When using Sequential models, prefer using an `Input(shape)` object as the first layer in the model instead.\n",
            "  super().__init__(**kwargs)\n"
          ]
        },
        {
          "name": "stdout",
          "output_type": "stream",
          "text": [
            "\u001b[1m5/5\u001b[0m \u001b[32m━━━━━━━━━━━━━━━━━━━━\u001b[0m\u001b[37m\u001b[0m \u001b[1m1s\u001b[0m 73ms/step\n",
            "Test RMSE: 1.7764441164089066\n",
            "Training with: look_back=12, epochs=100, batch_size=16, learning_rate=0.01, units=64\n"
          ]
        },
        {
          "name": "stderr",
          "output_type": "stream",
          "text": [
            "/usr/local/lib/python3.10/dist-packages/keras/src/layers/rnn/rnn.py:204: UserWarning: Do not pass an `input_shape`/`input_dim` argument to a layer. When using Sequential models, prefer using an `Input(shape)` object as the first layer in the model instead.\n",
            "  super().__init__(**kwargs)\n"
          ]
        },
        {
          "name": "stdout",
          "output_type": "stream",
          "text": [
            "\u001b[1m5/5\u001b[0m \u001b[32m━━━━━━━━━━━━━━━━━━━━\u001b[0m\u001b[37m\u001b[0m \u001b[1m1s\u001b[0m 95ms/step\n",
            "Test RMSE: 2.187700546532277\n",
            "Training with: look_back=12, epochs=100, batch_size=16, learning_rate=0.01, units=128\n"
          ]
        },
        {
          "name": "stderr",
          "output_type": "stream",
          "text": [
            "/usr/local/lib/python3.10/dist-packages/keras/src/layers/rnn/rnn.py:204: UserWarning: Do not pass an `input_shape`/`input_dim` argument to a layer. When using Sequential models, prefer using an `Input(shape)` object as the first layer in the model instead.\n",
            "  super().__init__(**kwargs)\n"
          ]
        },
        {
          "name": "stdout",
          "output_type": "stream",
          "text": [
            "\u001b[1m5/5\u001b[0m \u001b[32m━━━━━━━━━━━━━━━━━━━━\u001b[0m\u001b[37m\u001b[0m \u001b[1m1s\u001b[0m 73ms/step\n",
            "Test RMSE: 1.864631061177006\n",
            "Training with: look_back=12, epochs=100, batch_size=32, learning_rate=0.001, units=64\n"
          ]
        },
        {
          "name": "stderr",
          "output_type": "stream",
          "text": [
            "/usr/local/lib/python3.10/dist-packages/keras/src/layers/rnn/rnn.py:204: UserWarning: Do not pass an `input_shape`/`input_dim` argument to a layer. When using Sequential models, prefer using an `Input(shape)` object as the first layer in the model instead.\n",
            "  super().__init__(**kwargs)\n"
          ]
        },
        {
          "name": "stdout",
          "output_type": "stream",
          "text": [
            "\u001b[1m5/5\u001b[0m \u001b[32m━━━━━━━━━━━━━━━━━━━━\u001b[0m\u001b[37m\u001b[0m \u001b[1m1s\u001b[0m 66ms/step\n",
            "Test RMSE: 2.4549328364716527\n",
            "Training with: look_back=12, epochs=100, batch_size=32, learning_rate=0.001, units=128\n"
          ]
        },
        {
          "name": "stderr",
          "output_type": "stream",
          "text": [
            "/usr/local/lib/python3.10/dist-packages/keras/src/layers/rnn/rnn.py:204: UserWarning: Do not pass an `input_shape`/`input_dim` argument to a layer. When using Sequential models, prefer using an `Input(shape)` object as the first layer in the model instead.\n",
            "  super().__init__(**kwargs)\n"
          ]
        },
        {
          "name": "stdout",
          "output_type": "stream",
          "text": [
            "\u001b[1m5/5\u001b[0m \u001b[32m━━━━━━━━━━━━━━━━━━━━\u001b[0m\u001b[37m\u001b[0m \u001b[1m1s\u001b[0m 77ms/step\n",
            "Test RMSE: 2.289501843820415\n",
            "Training with: look_back=12, epochs=100, batch_size=32, learning_rate=0.01, units=64\n"
          ]
        },
        {
          "name": "stderr",
          "output_type": "stream",
          "text": [
            "/usr/local/lib/python3.10/dist-packages/keras/src/layers/rnn/rnn.py:204: UserWarning: Do not pass an `input_shape`/`input_dim` argument to a layer. When using Sequential models, prefer using an `Input(shape)` object as the first layer in the model instead.\n",
            "  super().__init__(**kwargs)\n"
          ]
        },
        {
          "name": "stdout",
          "output_type": "stream",
          "text": [
            "\u001b[1m5/5\u001b[0m \u001b[32m━━━━━━━━━━━━━━━━━━━━\u001b[0m\u001b[37m\u001b[0m \u001b[1m1s\u001b[0m 69ms/step\n",
            "Test RMSE: 1.708807422118995\n",
            "Training with: look_back=12, epochs=100, batch_size=32, learning_rate=0.01, units=128\n"
          ]
        },
        {
          "name": "stderr",
          "output_type": "stream",
          "text": [
            "/usr/local/lib/python3.10/dist-packages/keras/src/layers/rnn/rnn.py:204: UserWarning: Do not pass an `input_shape`/`input_dim` argument to a layer. When using Sequential models, prefer using an `Input(shape)` object as the first layer in the model instead.\n",
            "  super().__init__(**kwargs)\n"
          ]
        },
        {
          "name": "stdout",
          "output_type": "stream",
          "text": [
            "\u001b[1m5/5\u001b[0m \u001b[32m━━━━━━━━━━━━━━━━━━━━\u001b[0m\u001b[37m\u001b[0m \u001b[1m1s\u001b[0m 71ms/step\n",
            "Test RMSE: 1.7309082095516597\n",
            "Best Hyperparameters:\n",
            "{'look_back': 6, 'epochs': 50, 'batch_size': 16, 'learning_rate': 0.01, 'units': 128, 'test_rmse': 1.692224405513201}\n"
          ]
        }
      ],
      "source": [
        "#from itertools import product\n",
        "\n",
        "# Parameter untuk Grid Search\n",
        "# look_back_list = [3, 6, 12]  # Variasi look_back yang ingin diuji\n",
        "# epochs_list = [50, 100]\n",
        "# batch_size_list = [16, 32]\n",
        "# learning_rate_list = [0.001, 0.01]\n",
        "# units_list = [64, 128]\n",
        "\n",
        "# Menyimpan hasil tuning\n",
        "# results = []\n",
        "\n",
        "# Iterasi semua kombinasi hyperparameter\n",
        "# for look_back, epochs, batch_size, learning_rate, units in product(look_back_list, epochs_list, batch_size_list, learning_rate_list, units_list):\n",
        "    #print(f\"Training with: look_back={look_back}, epochs={epochs}, batch_size={batch_size}, learning_rate={learning_rate}, units={units}\")\n",
        "\n",
        "    # Membentuk dataset berdasarkan look_back\n",
        "    # trainX, trainY = create_dataset(train, look_back)\n",
        "    # testX, testY = create_dataset(test, look_back)\n",
        "\n",
        "    # Reshape input untuk LSTM (samples, timesteps, features)\n",
        "    # trainX = np.reshape(trainX, (trainX.shape[0], trainX.shape[1], 1))\n",
        "    # testX = np.reshape(testX, (testX.shape[0], testX.shape[1], 1))\n",
        "\n",
        "    # Buat model\n",
        "    # model = Sequential()\n",
        "    # model.add(LSTM(units=units, return_sequences=True, input_shape=(look_back, 1)))\n",
        "    # model.add(LSTM(units=units))\n",
        "    # model.add(Dense(1))\n",
        "\n",
        "    # Compile model\n",
        "    # optimizer = Adam(learning_rate=learning_rate)\n",
        "    # model.compile(loss='mean_squared_error', optimizer=optimizer)\n",
        "\n",
        "    # Train model\n",
        "    # history = model.fit(trainX, trainY, epochs=epochs, batch_size=batch_size, verbose=0)\n",
        "\n",
        "    # Prediksi\n",
        "    # testPredict = model.predict(testX)\n",
        "    # testPredict = scaler.inverse_transform(testPredict)\n",
        "    # testY_actual = scaler.inverse_transform([testY])\n",
        "\n",
        "    # Menghitung RMSE\n",
        "    # test_rmse = math.sqrt(mean_squared_error(testY_actual.flatten(), testPredict.flatten()))\n",
        "    # print(f\"Test RMSE: {test_rmse}\")\n",
        "\n",
        "    # Simpan hasil\n",
        "    # results.append({\n",
        "        # 'look_back': look_back,\n",
        "        # 'epochs': epochs,\n",
        "        # 'batch_size': batch_size,\n",
        "        # 'learning_rate': learning_rate,\n",
        "        # 'units': units,\n",
        "        # 'test_rmse': test_rmse\n",
        "    # })\n",
        "\n",
        "# Cari kombinasi terbaik\n",
        "# best_result = min(results, key=lambda x: x['test_rmse'])\n",
        "# print(\"Best Hyperparameters:\")\n",
        "# print(best_result)"
      ]
    }
  ],
  "metadata": {
    "colab": {
      "provenance": [],
      "authorship_tag": "ABX9TyPJLX//XMgLz7EAe0XrTmd2",
      "include_colab_link": true
    },
    "kernelspec": {
      "display_name": "Python 3",
      "name": "python3"
    },
    "language_info": {
      "name": "python"
    }
  },
  "nbformat": 4,
  "nbformat_minor": 0
}