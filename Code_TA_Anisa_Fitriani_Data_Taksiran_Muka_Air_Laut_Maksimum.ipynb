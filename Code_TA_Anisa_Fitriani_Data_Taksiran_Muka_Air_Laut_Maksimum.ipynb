{
  "nbformat": 4,
  "nbformat_minor": 0,
  "metadata": {
    "colab": {
      "provenance": [],
      "authorship_tag": "ABX9TyOmVljTA2kvdbc4H9siBhy1",
      "include_colab_link": true
    },
    "kernelspec": {
      "name": "python3",
      "display_name": "Python 3"
    },
    "language_info": {
      "name": "python"
    }
  },
  "cells": [
    {
      "cell_type": "markdown",
      "metadata": {
        "id": "view-in-github",
        "colab_type": "text"
      },
      "source": [
        "<a href=\"https://colab.research.google.com/github/anisafitriani1122/Tugas-Akhir/blob/main/Code_TA_Anisa_Fitriani_Data_Taksiran_Muka_Air_Laut_Maksimum.ipynb\" target=\"_parent\"><img src=\"https://colab.research.google.com/assets/colab-badge.svg\" alt=\"Open In Colab\"/></a>"
      ]
    },
    {
      "cell_type": "code",
      "execution_count": null,
      "metadata": {
        "id": "53xCtBE5D90F"
      },
      "outputs": [],
      "source": [
        "import numpy as np\n",
        "import matplotlib.pyplot as plt\n",
        "import pandas as pd\n",
        "import math\n",
        "from keras.models import Sequential\n",
        "from keras.layers import Dense\n",
        "from keras.layers import LSTM\n",
        "from sklearn.preprocessing import MinMaxScaler\n",
        "from sklearn.metrics import mean_squared_error\n",
        "from sklearn.metrics import r2_score\n",
        "from tensorflow.keras.optimizers import Adam"
      ]
    },
    {
      "cell_type": "code",
      "source": [
        "# Import Dataset\n",
        "link = 'https://docs.google.com/spreadsheets/d/e/2PACX-1vTacoDEDwQG-V8RUcgo3PEiFqrBBAFePbGjxNoXMrNh8ozninhqJh30Et2mmBc-5mEa9aGD2qaq_-7X/pub?output=xlsx'\n",
        "\n",
        "# Membaca file Excel dari URL dan memuatnya sebagai DataFrame Pandas\n",
        "data = pd.read_excel(link)\n",
        "\n",
        "# Mengambil kolom 'Sea Level' dari DataFrame\n",
        "sea_level_data = data['Sea Level Error Upper']\n",
        "\n",
        "# Menampilkan 5 baris pertama dari kolom 'Sea Level'\n",
        "print(\"5 Baris Pertama dari Kolom 'Sea Level Error Upper':\")\n",
        "print(sea_level_data.head())\n",
        "\n",
        "# Menampilkan statistik deskriptif dari kolom 'Sea Level'\n",
        "print(\"\\nStatistik Deskriptif 'Sea Level':\")\n",
        "print(sea_level_data.describe())\n",
        "\n",
        "# Mengambil kolom 'Sea Level' dari DataFrame dan mengubahnya menjadi array NumPy\n",
        "dataset = data['Sea Level Error Upper'].values\n",
        "\n",
        "# Mengonversi array NumPy ke tipe data float32\n",
        "dataset = dataset.astype('float32')"
      ],
      "metadata": {
        "id": "rK_pCUtbEIsK",
        "colab": {
          "base_uri": "https://localhost:8080/"
        },
        "outputId": "2554e860-1b02-49a1-fdd4-8d6b99c3ecd7"
      },
      "execution_count": null,
      "outputs": [
        {
          "output_type": "stream",
          "name": "stdout",
          "text": [
            "5 Baris Pertama dari Kolom 'Sea Level Error Upper':\n",
            "0   -75.73\n",
            "1   -74.96\n",
            "2   -74.88\n",
            "3   -73.30\n",
            "4   -72.14\n",
            "Name: Sea Level Error Upper, dtype: float64\n",
            "\n",
            "Statistik Deskriptif 'Sea Level':\n",
            "count    799.000000\n",
            "mean     -30.976283\n",
            "std       32.779242\n",
            "min     -113.970000\n",
            "25%      -57.280000\n",
            "50%      -28.410000\n",
            "75%       -5.360000\n",
            "max       47.050000\n",
            "Name: Sea Level Error Upper, dtype: float64\n"
          ]
        }
      ]
    },
    {
      "cell_type": "code",
      "source": [
        "# Normalisasi Data\n",
        "scaler = MinMaxScaler(feature_range=(0, 1))  # Menentukan rentang nilai output normalisasi (0 hingga 1)\n",
        "dataset = np.reshape(dataset, (-1, 1))  # Mengubah array dataset menjadi array 2 dimensi dengan satu kolom\n",
        "dataset = scaler.fit_transform(dataset)  # Normalisasi data agar nilainya berada dalam rentang 0 hingga 1\n",
        "\n",
        "# Menampilkan dataset yang telah dinormalisasi\n",
        "print(dataset)"
      ],
      "metadata": {
        "colab": {
          "base_uri": "https://localhost:8080/"
        },
        "id": "7hJpIwNkEohx",
        "outputId": "4fa97c1e-f257-4bf3-e65d-3aea53d3a274"
      },
      "execution_count": null,
      "outputs": [
        {
          "output_type": "stream",
          "name": "stdout",
          "text": [
            "[[0.237486  ]\n",
            " [0.24226806]\n",
            " [0.24276489]\n",
            " [0.2525773 ]\n",
            " [0.2597814 ]\n",
            " [0.2645013 ]\n",
            " [0.27611476]\n",
            " [0.30462056]\n",
            " [0.35678798]\n",
            " [0.42926344]\n",
            " [0.49906844]\n",
            " [0.5611725 ]\n",
            " [0.61035895]\n",
            " [0.6429636 ]\n",
            " [0.6730841 ]\n",
            " [0.6894175 ]\n",
            " [0.7078624 ]\n",
            " [0.71047074]\n",
            " [0.7149422 ]\n",
            " [0.71997267]\n",
            " [0.7275494 ]\n",
            " [0.73369765]\n",
            " [0.7399081 ]\n",
            " [0.74090177]\n",
            " [0.74363434]\n",
            " [0.743448  ]\n",
            " [0.7376723 ]\n",
            " [0.71059495]\n",
            " [0.67252517]\n",
            " [0.6431499 ]\n",
            " [0.61961246]\n",
            " [0.5992423 ]\n",
            " [0.59048563]\n",
            " [0.57427645]\n",
            " [0.5735933 ]\n",
            " [0.5671966 ]\n",
            " [0.5421687 ]\n",
            " [0.51316607]\n",
            " [0.46994162]\n",
            " [0.45522296]\n",
            " [0.4453484 ]\n",
            " [0.43895167]\n",
            " [0.43876538]\n",
            " [0.44323686]\n",
            " [0.42659298]\n",
            " [0.40485653]\n",
            " [0.39926717]\n",
            " [0.39523038]\n",
            " [0.3935536 ]\n",
            " [0.38597688]\n",
            " [0.37895912]\n",
            " [0.38069806]\n",
            " [0.38187802]\n",
            " [0.3844243 ]\n",
            " [0.39206308]\n",
            " [0.3982735 ]\n",
            " [0.41261956]\n",
            " [0.4363433 ]\n",
            " [0.4532356 ]\n",
            " [0.46932057]\n",
            " [0.48683393]\n",
            " [0.50130415]\n",
            " [0.5203701 ]\n",
            " [0.5453981 ]\n",
            " [0.5624146 ]\n",
            " [0.578748  ]\n",
            " [0.5852689 ]\n",
            " [0.59520555]\n",
            " [0.60265803]\n",
            " [0.57843745]\n",
            " [0.5434108 ]\n",
            " [0.5057136 ]\n",
            " [0.47820145]\n",
            " [0.42460564]\n",
            " [0.3707614 ]\n",
            " [0.34623027]\n",
            " [0.32865483]\n",
            " [0.30921623]\n",
            " [0.28971556]\n",
            " [0.28089678]\n",
            " [0.28344303]\n",
            " [0.30008695]\n",
            " [0.32362437]\n",
            " [0.35921   ]\n",
            " [0.40249658]\n",
            " [0.42603403]\n",
            " [0.4388896 ]\n",
            " [0.45106196]\n",
            " [0.46255124]\n",
            " [0.4636691 ]\n",
            " [0.519687  ]\n",
            " [0.5676935 ]\n",
            " [0.5943982 ]\n",
            " [0.6197988 ]\n",
            " [0.6397342 ]\n",
            " [0.66470003]\n",
            " [0.699913  ]\n",
            " [0.7158738 ]\n",
            " [0.74475217]\n",
            " [0.7525773 ]\n",
            " [0.7669855 ]\n",
            " [0.7758663 ]\n",
            " [0.77884734]\n",
            " [0.78195256]\n",
            " [0.76568127]\n",
            " [0.75226676]\n",
            " [0.73723763]\n",
            " [0.7363681 ]\n",
            " [0.7417091 ]\n",
            " [0.74537325]\n",
            " [0.75164574]\n",
            " [0.75798035]\n",
            " [0.75294995]\n",
            " [0.7431375 ]\n",
            " [0.7220842 ]\n",
            " [0.7095392 ]\n",
            " [0.68916905]\n",
            " [0.6598559 ]\n",
            " [0.6373742 ]\n",
            " [0.600236  ]\n",
            " [0.56452614]\n",
            " [0.5303068 ]\n",
            " [0.50962615]\n",
            " [0.4769594 ]\n",
            " [0.44497576]\n",
            " [0.43118867]\n",
            " [0.42063096]\n",
            " [0.4342318 ]\n",
            " [0.43435597]\n",
            " [0.42528877]\n",
            " [0.41429636]\n",
            " [0.39957768]\n",
            " [0.3828717 ]\n",
            " [0.36678672]\n",
            " [0.34728605]\n",
            " [0.32735065]\n",
            " [0.33082846]\n",
            " [0.33294   ]\n",
            " [0.33995777]\n",
            " [0.3240591 ]\n",
            " [0.31760028]\n",
            " [0.3010806 ]\n",
            " [0.30182585]\n",
            " [0.30604893]\n",
            " [0.30803624]\n",
            " [0.30188796]\n",
            " [0.30443424]\n",
            " [0.3068563 ]\n",
            " [0.30865732]\n",
            " [0.3105204 ]\n",
            " [0.30958885]\n",
            " [0.30809838]\n",
            " [0.30250898]\n",
            " [0.29785118]\n",
            " [0.29257235]\n",
            " [0.2872935 ]\n",
            " [0.27890947]\n",
            " [0.27238852]\n",
            " [0.2645013 ]\n",
            " [0.24754688]\n",
            " [0.23059249]\n",
            " [0.20935285]\n",
            " [0.19699419]\n",
            " [0.1992299 ]\n",
            " [0.2094771 ]\n",
            " [0.21866846]\n",
            " [0.22512731]\n",
            " [0.22978511]\n",
            " [0.22792202]\n",
            " [0.21922743]\n",
            " [0.2141349 ]\n",
            " [0.22096634]\n",
            " [0.21401066]\n",
            " [0.22152525]\n",
            " [0.2311514 ]\n",
            " [0.23835552]\n",
            " [0.25735933]\n",
            " [0.3039995 ]\n",
            " [0.39467147]\n",
            " [0.5244069 ]\n",
            " [0.6130294 ]\n",
            " [0.69550365]\n",
            " [0.776239  ]\n",
            " [0.7817041 ]\n",
            " [0.7902124 ]\n",
            " [0.79698175]\n",
            " [0.7837536 ]\n",
            " [0.77735686]\n",
            " [0.7799652 ]\n",
            " [0.7769842 ]\n",
            " [0.7797789 ]\n",
            " [0.76841384]\n",
            " [0.74127436]\n",
            " [0.7172401 ]\n",
            " [0.6836418 ]\n",
            " [0.6650106 ]\n",
            " [0.6492361 ]\n",
            " [0.6512234 ]\n",
            " [0.6545771 ]\n",
            " [0.6639548 ]\n",
            " [0.6745125 ]\n",
            " [0.67277354]\n",
            " [0.6733946 ]\n",
            " [0.66830206]\n",
            " [0.66327167]\n",
            " [0.66029066]\n",
            " [0.6541423 ]\n",
            " [0.64569616]\n",
            " [0.6279965 ]\n",
            " [0.60681903]\n",
            " [0.58235   ]\n",
            " [0.5502422 ]\n",
            " [0.53216994]\n",
            " [0.52813315]\n",
            " [0.52627003]\n",
            " [0.53732455]\n",
            " [0.5688113 ]\n",
            " [0.61917776]\n",
            " [0.6795429 ]\n",
            " [0.71357596]\n",
            " [0.7388523 ]\n",
            " [0.7472985 ]\n",
            " [0.7582288 ]\n",
            " [0.7635697 ]\n",
            " [0.7753695 ]\n",
            " [0.7769221 ]\n",
            " [0.7718296 ]\n",
            " [0.7640666 ]\n",
            " [0.7490374 ]\n",
            " [0.7364302 ]\n",
            " [0.72382313]\n",
            " [0.7062477 ]\n",
            " [0.6905974 ]\n",
            " [0.6743883 ]\n",
            " [0.65097505]\n",
            " [0.62538815]\n",
            " [0.61843246]\n",
            " [0.61042106]\n",
            " [0.60458326]\n",
            " [0.59178984]\n",
            " [0.5712334 ]\n",
            " [0.54502547]\n",
            " [0.5109303 ]\n",
            " [0.47764254]\n",
            " [0.4513104 ]\n",
            " [0.43354863]\n",
            " [0.42386037]\n",
            " [0.4195752 ]\n",
            " [0.4275245 ]\n",
            " [0.42938763]\n",
            " [0.4516209 ]\n",
            " [0.48080984]\n",
            " [0.5126692 ]\n",
            " [0.53136253]\n",
            " [0.55477583]\n",
            " [0.55862623]\n",
            " [0.55247796]\n",
            " [0.53862876]\n",
            " [0.5186933 ]\n",
            " [0.48993912]\n",
            " [0.45217985]\n",
            " [0.427214  ]\n",
            " [0.4258477 ]\n",
            " [0.43957272]\n",
            " [0.44758415]\n",
            " [0.45764503]\n",
            " [0.45863867]\n",
            " [0.4696311 ]\n",
            " [0.4800646 ]\n",
            " [0.4913054 ]\n",
            " [0.5023599 ]\n",
            " [0.5127313 ]\n",
            " [0.5174512 ]\n",
            " [0.5218606 ]\n",
            " [0.5253385 ]\n",
            " [0.5306173 ]\n",
            " [0.53577197]\n",
            " [0.54372126]\n",
            " [0.55254006]\n",
            " [0.560862  ]\n",
            " [0.5673208 ]\n",
            " [0.5654577 ]\n",
            " [0.57166815]\n",
            " [0.572786  ]\n",
            " [0.57390386]\n",
            " [0.5689976 ]\n",
            " [0.5760775 ]\n",
            " [0.579369  ]\n",
            " [0.5782511 ]\n",
            " [0.58949196]\n",
            " [0.61607254]\n",
            " [0.6449509 ]\n",
            " [0.6737672 ]\n",
            " [0.7027077 ]\n",
            " [0.71978635]\n",
            " [0.74077755]\n",
            " [0.75288785]\n",
            " [0.76040244]\n",
            " [0.77654946]\n",
            " [0.7891566 ]\n",
            " [0.7872314 ]\n",
            " [0.7867346 ]\n",
            " [0.78487146]\n",
            " [0.7875419 ]\n",
            " [0.7869209 ]\n",
            " [0.7799031 ]\n",
            " [0.7728233 ]\n",
            " [0.75766987]\n",
            " [0.73655444]\n",
            " [0.7144454 ]\n",
            " [0.69258475]\n",
            " [0.6745746 ]\n",
            " [0.65432864]\n",
            " [0.6371879 ]\n",
            " [0.6200472 ]\n",
            " [0.5984971 ]\n",
            " [0.5764501 ]\n",
            " [0.5765122 ]\n",
            " [0.5989318 ]\n",
            " [0.62874174]\n",
            " [0.6453236 ]\n",
            " [0.65308654]\n",
            " [0.66190535]\n",
            " [0.66606635]\n",
            " [0.65898645]\n",
            " [0.64513725]\n",
            " [0.634269  ]\n",
            " [0.621103  ]\n",
            " [0.6122221 ]\n",
            " [0.5904235 ]\n",
            " [0.57042605]\n",
            " [0.5348404 ]\n",
            " [0.4865234 ]\n",
            " [0.41529003]\n",
            " [0.37635076]\n",
            " [0.34598187]\n",
            " [0.33126318]\n",
            " [0.31797293]\n",
            " [0.30250898]\n",
            " [0.29542914]\n",
            " [0.2861135 ]\n",
            " [0.28207675]\n",
            " [0.27462426]\n",
            " [0.2682897 ]\n",
            " [0.25829092]\n",
            " [0.2505279 ]\n",
            " [0.2399081 ]\n",
            " [0.22568625]\n",
            " [0.20978758]\n",
            " [0.19854677]\n",
            " [0.19842255]\n",
            " [0.21096757]\n",
            " [0.22078004]\n",
            " [0.23183456]\n",
            " [0.23854181]\n",
            " [0.24052915]\n",
            " [0.24469009]\n",
            " [0.24282697]\n",
            " [0.2358092 ]\n",
            " [0.21829587]\n",
            " [0.19718045]\n",
            " [0.17308408]\n",
            " [0.153956  ]\n",
            " [0.13569742]\n",
            " [0.13010806]\n",
            " [0.12147558]\n",
            " [0.11489254]\n",
            " [0.11321574]\n",
            " [0.11936402]\n",
            " [0.12855548]\n",
            " [0.14457828]\n",
            " [0.17314619]\n",
            " [0.2321451 ]\n",
            " [0.26878646]\n",
            " [0.32250652]\n",
            " [0.37150663]\n",
            " [0.4289529 ]\n",
            " [0.5000621 ]\n",
            " [0.57514596]\n",
            " [0.6152652 ]\n",
            " [0.6320333 ]\n",
            " [0.63638055]\n",
            " [0.65153396]\n",
            " [0.6743262 ]\n",
            " [0.7166191 ]\n",
            " [0.73841757]\n",
            " [0.7600298 ]\n",
            " [0.80145323]\n",
            " [0.835921  ]\n",
            " [0.884859  ]\n",
            " [0.8983977 ]\n",
            " [0.9269035 ]\n",
            " [0.9506894 ]\n",
            " [0.9675816 ]\n",
            " [0.9780773 ]\n",
            " [0.98521924]\n",
            " [1.        ]\n",
            " [0.99869585]\n",
            " [0.98931813]\n",
            " [0.9855919 ]\n",
            " [0.9545398 ]\n",
            " [0.91920257]\n",
            " [0.88038754]\n",
            " [0.8659794 ]\n",
            " [0.8405167 ]\n",
            " [0.81362563]\n",
            " [0.7665507 ]\n",
            " [0.71798533]\n",
            " [0.6820271 ]\n",
            " [0.6745125 ]\n",
            " [0.6823997 ]\n",
            " [0.69954044]\n",
            " [0.7074276 ]\n",
            " [0.72109056]\n",
            " [0.72289157]\n",
            " [0.7527015 ]\n",
            " [0.76214135]\n",
            " [0.77897155]\n",
            " [0.7572351 ]\n",
            " [0.71798533]\n",
            " [0.6594212 ]\n",
            " [0.5480686 ]\n",
            " [0.4788846 ]\n",
            " [0.47360575]\n",
            " [0.47652465]\n",
            " [0.49186435]\n",
            " [0.51465654]\n",
            " [0.5503043 ]\n",
            " [0.57346916]\n",
            " [0.59812444]\n",
            " [0.5886225 ]\n",
            " [0.57999   ]\n",
            " [0.54893804]\n",
            " [0.5198733 ]\n",
            " [0.47497204]\n",
            " [0.4193889 ]\n",
            " [0.39523038]\n",
            " [0.35809216]\n",
            " [0.29294497]\n",
            " [0.24021861]\n",
            " [0.20140356]\n",
            " [0.19109428]\n",
            " [0.20643395]\n",
            " [0.2556825 ]\n",
            " [0.2795305 ]\n",
            " [0.29213762]\n",
            " [0.2951807 ]\n",
            " [0.27735686]\n",
            " [0.2526394 ]\n",
            " [0.215998  ]\n",
            " [0.19991308]\n",
            " [0.20866972]\n",
            " [0.21295491]\n",
            " [0.21637064]\n",
            " [0.21456963]\n",
            " [0.21096757]\n",
            " [0.23444292]\n",
            " [0.24127436]\n",
            " [0.2688486 ]\n",
            " [0.28027576]\n",
            " [0.31499192]\n",
            " [0.42143834]\n",
            " [0.542976  ]\n",
            " [0.6164452 ]\n",
            " [0.65451497]\n",
            " [0.6792324 ]\n",
            " [0.7200348 ]\n",
            " [0.78530616]\n",
            " [0.8156751 ]\n",
            " [0.8371631 ]\n",
            " [0.84623027]\n",
            " [0.8220718 ]\n",
            " [0.80797416]\n",
            " [0.8163582 ]\n",
            " [0.8244318 ]\n",
            " [0.8457955 ]\n",
            " [0.84554714]\n",
            " [0.8424419 ]\n",
            " [0.8301453 ]\n",
            " [0.8177245 ]\n",
            " [0.8296485 ]\n",
            " [0.83697677]\n",
            " [0.84840393]\n",
            " [0.8406409 ]\n",
            " [0.83405787]\n",
            " [0.8225686 ]\n",
            " [0.80617315]\n",
            " [0.7935039 ]\n",
            " [0.7745622 ]\n",
            " [0.75624144]\n",
            " [0.74108803]\n",
            " [0.7293504 ]\n",
            " [0.7101602 ]\n",
            " [0.699913  ]\n",
            " [0.69097006]\n",
            " [0.6810955 ]\n",
            " [0.6726494 ]\n",
            " [0.6568749 ]\n",
            " [0.6256987 ]\n",
            " [0.61091787]\n",
            " [0.5986834 ]\n",
            " [0.5837784 ]\n",
            " [0.56576824]\n",
            " [0.55129796]\n",
            " [0.5259595 ]\n",
            " [0.48739284]\n",
            " [0.46484908]\n",
            " [0.44143584]\n",
            " [0.43243074]\n",
            " [0.45516086]\n",
            " [0.48795182]\n",
            " [0.51422185]\n",
            " [0.53850454]\n",
            " [0.55303687]\n",
            " [0.57346916]\n",
            " [0.59483296]\n",
            " [0.5991802 ]\n",
            " [0.60700536]\n",
            " [0.60414857]\n",
            " [0.61215997]\n",
            " [0.60862005]\n",
            " [0.5928456 ]\n",
            " [0.5603031 ]\n",
            " [0.52167434]\n",
            " [0.47863618]\n",
            " [0.4226804 ]\n",
            " [0.3574711 ]\n",
            " [0.33542418]\n",
            " [0.3089057 ]\n",
            " [0.30368897]\n",
            " [0.31760028]\n",
            " [0.34852815]\n",
            " [0.35958266]\n",
            " [0.39243573]\n",
            " [0.3740529 ]\n",
            " [0.37169296]\n",
            " [0.36976773]\n",
            " [0.35436592]\n",
            " [0.32281703]\n",
            " [0.2936902 ]\n",
            " [0.29896906]\n",
            " [0.38988945]\n",
            " [0.4133648 ]\n",
            " [0.47459942]\n",
            " [0.4375854 ]\n",
            " [0.42727613]\n",
            " [0.3767855 ]\n",
            " [0.35219228]\n",
            " [0.34231773]\n",
            " [0.34877655]\n",
            " [0.3756055 ]\n",
            " [0.5126692 ]\n",
            " [0.5365793 ]\n",
            " [0.677804  ]\n",
            " [0.656316  ]\n",
            " [0.6886101 ]\n",
            " [0.5886846 ]\n",
            " [0.6197988 ]\n",
            " [0.63625634]\n",
            " [0.6565023 ]\n",
            " [0.67407775]\n",
            " [0.6768103 ]\n",
            " [0.6779903 ]\n",
            " [0.6680536 ]\n",
            " [0.6385542 ]\n",
            " [0.60576326]\n",
            " [0.5635946 ]\n",
            " [0.5359583 ]\n",
            " [0.47919512]\n",
            " [0.43354863]\n",
            " [0.39821142]\n",
            " [0.3862253 ]\n",
            " [0.38560426]\n",
            " [0.39336726]\n",
            " [0.41094273]\n",
            " [0.4316855 ]\n",
            " [0.4680785 ]\n",
            " [0.5073904 ]\n",
            " [0.5555831 ]\n",
            " [0.60737795]\n",
            " [0.6615948 ]\n",
            " [0.7161843 ]\n",
            " [0.7531363 ]\n",
            " [0.7839399 ]\n",
            " [0.8083468 ]\n",
            " [0.82480437]\n",
            " [0.82592225]\n",
            " [0.82356226]\n",
            " [0.814433  ]\n",
            " [0.80915415]\n",
            " [0.8010806 ]\n",
            " [0.79226184]\n",
            " [0.77779156]\n",
            " [0.7502795 ]\n",
            " [0.7312756 ]\n",
            " [0.7095392 ]\n",
            " [0.7061856 ]\n",
            " [0.71935165]\n",
            " [0.72854304]\n",
            " [0.73034406]\n",
            " [0.7276736 ]\n",
            " [0.7157496 ]\n",
            " [0.6791082 ]\n",
            " [0.63408273]\n",
            " [0.5961371 ]\n",
            " [0.56763136]\n",
            " [0.54154766]\n",
            " [0.5278847 ]\n",
            " [0.5048441 ]\n",
            " [0.488076  ]\n",
            " [0.47031423]\n",
            " [0.4636691 ]\n",
            " [0.4483294 ]\n",
            " [0.44305053]\n",
            " [0.45056516]\n",
            " [0.45727238]\n",
            " [0.45795554]\n",
            " [0.44789466]\n",
            " [0.44596943]\n",
            " [0.4573345 ]\n",
            " [0.4683269 ]\n",
            " [0.4802509 ]\n",
            " [0.48403925]\n",
            " [0.48546764]\n",
            " [0.47801515]\n",
            " [0.4787604 ]\n",
            " [0.4800646 ]\n",
            " [0.48627502]\n",
            " [0.4906844 ]\n",
            " [0.48683393]\n",
            " [0.48298347]\n",
            " [0.46484908]\n",
            " [0.449882  ]\n",
            " [0.44472736]\n",
            " [0.42590982]\n",
            " [0.41671842]\n",
            " [0.40026084]\n",
            " [0.37200347]\n",
            " [0.35231647]\n",
            " [0.34809342]\n",
            " [0.35150912]\n",
            " [0.3467271 ]\n",
            " [0.34436715]\n",
            " [0.35008073]\n",
            " [0.3632468 ]\n",
            " [0.3664762 ]\n",
            " [0.36274996]\n",
            " [0.35194385]\n",
            " [0.3284064 ]\n",
            " [0.2969196 ]\n",
            " [0.26232764]\n",
            " [0.23655447]\n",
            " [0.22500312]\n",
            " [0.20245928]\n",
            " [0.17817664]\n",
            " [0.15619177]\n",
            " [0.12930071]\n",
            " [0.10886842]\n",
            " [0.08905727]\n",
            " [0.07409018]\n",
            " [0.05595577]\n",
            " [0.04775804]\n",
            " [0.0427897 ]\n",
            " [0.0596199 ]\n",
            " [0.11296731]\n",
            " [0.18885851]\n",
            " [0.2718296 ]\n",
            " [0.3682151 ]\n",
            " [0.48242453]\n",
            " [0.56458825]\n",
            " [0.62557447]\n",
            " [0.6761272 ]\n",
            " [0.7097255 ]\n",
            " [0.7277978 ]\n",
            " [0.7584151 ]\n",
            " [0.7833188 ]\n",
            " [0.78828716]\n",
            " [0.7949323 ]\n",
            " [0.78760403]\n",
            " [0.7745622 ]\n",
            " [0.7391628 ]\n",
            " [0.70289403]\n",
            " [0.6776798 ]\n",
            " [0.6519687 ]\n",
            " [0.61278105]\n",
            " [0.5752702 ]\n",
            " [0.54247916]\n",
            " [0.51757544]\n",
            " [0.5044094 ]\n",
            " [0.50385046]\n",
            " [0.50540304]\n",
            " [0.51813436]\n",
            " [0.5318594 ]\n",
            " [0.5534716 ]\n",
            " [0.57222706]\n",
            " [0.636629  ]\n",
            " [0.65445286]\n",
            " [0.6794808 ]\n",
            " [0.6702894 ]\n",
            " [0.6730841 ]\n",
            " [0.662899  ]\n",
            " [0.6517824 ]\n",
            " [0.62874174]\n",
            " [0.6037138 ]\n",
            " [0.5689355 ]\n",
            " [0.54769593]\n",
            " [0.57154393]\n",
            " [0.59644765]\n",
            " [0.6001118 ]\n",
            " [0.6021612 ]\n",
            " [0.6076885 ]\n",
            " [0.6355732 ]\n",
            " [0.6486772 ]\n",
            " [0.6722146 ]\n",
            " [0.67879766]\n",
            " [0.66948205]\n",
            " [0.65612966]\n",
            " [0.6414731 ]\n",
            " [0.60278225]\n",
            " [0.6153894 ]\n",
            " [0.62830704]\n",
            " [0.6397963 ]\n",
            " [0.6408521 ]\n",
            " [0.6428394 ]\n",
            " [0.63600796]\n",
            " [0.61961246]\n",
            " [0.5914172 ]\n",
            " [0.5567631 ]\n",
            " [0.51291764]\n",
            " [0.45522296]\n",
            " [0.39280835]\n",
            " [0.35436592]\n",
            " [0.32747483]\n",
            " [0.3035648 ]\n",
            " [0.32157496]\n",
            " [0.34945968]\n",
            " [0.38448638]\n",
            " [0.3811949 ]\n",
            " [0.37777916]\n",
            " [0.35461435]\n",
            " [0.3314495 ]\n",
            " [0.31983602]\n",
            " [0.3282201 ]\n",
            " [0.34734815]\n",
            " [0.3586511 ]\n",
            " [0.37672338]\n",
            " [0.37982857]\n",
            " [0.37045088]\n",
            " [0.3572227 ]\n",
            " [0.3421314 ]\n",
            " [0.32921377]\n",
            " [0.31933922]\n",
            " [0.3148677 ]\n",
            " [0.3146193 ]\n",
            " [0.31008568]\n",
            " [0.30008695]\n",
            " [0.28803876]\n",
            " [0.27710843]\n",
            " [0.25680038]\n",
            " [0.23363557]\n",
            " [0.20711708]\n",
            " [0.19600046]\n",
            " [0.20202458]\n",
            " [0.20686871]\n",
            " [0.20314246]\n",
            " [0.20407403]\n",
            " [0.18991429]\n",
            " [0.1640169 ]\n",
            " [0.1447646 ]\n",
            " [0.12054402]\n",
            " [0.10290647]\n",
            " [0.06955659]\n",
            " [0.04695064]\n",
            " [0.01881754]\n",
            " [0.        ]\n",
            " [0.03713828]\n",
            " [0.09787607]\n",
            " [0.1409142 ]\n",
            " [0.19935411]\n",
            " [0.2274873 ]\n",
            " [0.25332257]\n",
            " [0.28064838]\n",
            " [0.32312757]\n",
            " [0.3736803 ]\n",
            " [0.43143708]\n",
            " [0.49149173]\n",
            " [0.55881256]\n",
            " [0.637809  ]\n",
            " [0.6843249 ]\n",
            " [0.7236989 ]\n",
            " [0.73313874]\n",
            " [0.7304683 ]\n",
            " [0.7218358 ]\n",
            " [0.73493975]\n",
            " [0.75518566]\n",
            " [0.77549374]\n",
            " [0.7960502 ]\n",
            " [0.8139983 ]\n",
            " [0.8343684 ]]\n"
          ]
        }
      ]
    },
    {
      "cell_type": "code",
      "source": [
        "# Bagi Data Menjadi Training dan Testing\n",
        "train_size = int(len(dataset) * 0.80)\n",
        "test_size = len(dataset) - train_size\n",
        "train, test = dataset[0:train_size,:], dataset[train_size:len(dataset),:]\n",
        "print(len(train), len(test))"
      ],
      "metadata": {
        "colab": {
          "base_uri": "https://localhost:8080/"
        },
        "id": "3AO5DZXDEt8y",
        "outputId": "6db79c8c-6fa1-4961-b45f-63b4ee7c75b1"
      },
      "execution_count": null,
      "outputs": [
        {
          "output_type": "stream",
          "name": "stdout",
          "text": [
            "639 160\n"
          ]
        }
      ]
    },
    {
      "cell_type": "code",
      "source": [
        "# Fungsi untuk Membuat Dataset untuk LSTM\n",
        "def create_dataset(dataset, look_back=1):\n",
        "    dataX, dataY = [], []\n",
        "    for i in range(len(dataset)-look_back-1):\n",
        "        a = dataset[i:(i+look_back), 0]\n",
        "        dataX.append(a)\n",
        "        dataY.append(dataset[i + look_back, 0])\n",
        "    return np.array(dataX), np.array(dataY)\n",
        "\n",
        "look_back = 6  # Jumlah langkah waktu yang digunakan untuk prediksi\n",
        "trainX, trainY = create_dataset(train, look_back)\n",
        "testX, testY = create_dataset(test, look_back)"
      ],
      "metadata": {
        "id": "rvInxFaxE0Wf"
      },
      "execution_count": null,
      "outputs": []
    },
    {
      "cell_type": "code",
      "source": [
        "# Reshape input untuk LSTM (samples, timesteps, features)\n",
        "trainX = np.reshape(trainX, (trainX.shape[0], trainX.shape[1], 1))\n",
        "testX = np.reshape(testX, (testX.shape[0], testX.shape[1], 1))"
      ],
      "metadata": {
        "id": "X2QJRvOGE4QG"
      },
      "execution_count": null,
      "outputs": []
    },
    {
      "cell_type": "code",
      "source": [
        "# Hyperparameter yang akan dituning selain look_back\n",
        "epochs = 100          #[50, 100]\n",
        "batch_size = 16       #[16, 32]\n",
        "learning_rate = 0.01  #[0.001, 0.01]\n",
        "units = 128            #[64, 128]\n",
        "\n",
        "# Model LSTM\n",
        "model = Sequential()\n",
        "model.add(LSTM(units=units, return_sequences=True, input_shape=(look_back, 1)))\n",
        "model.add(LSTM(units=units))\n",
        "model.add(Dense(1))"
      ],
      "metadata": {
        "colab": {
          "base_uri": "https://localhost:8080/"
        },
        "id": "Ov-zD7GTE7uU",
        "outputId": "7cd4168b-bac7-4ec9-8ec2-b5f9eff4aefa"
      },
      "execution_count": null,
      "outputs": [
        {
          "output_type": "stream",
          "name": "stderr",
          "text": [
            "/usr/local/lib/python3.10/dist-packages/keras/src/layers/rnn/rnn.py:204: UserWarning: Do not pass an `input_shape`/`input_dim` argument to a layer. When using Sequential models, prefer using an `Input(shape)` object as the first layer in the model instead.\n",
            "  super().__init__(**kwargs)\n"
          ]
        }
      ]
    },
    {
      "cell_type": "code",
      "source": [
        "# Compile Model dengan Adam Optimizer dan Learning Rate yang bisa diubah\n",
        "optimizer = Adam(learning_rate=learning_rate)\n",
        "model.compile(loss='mean_squared_error', optimizer=optimizer)\n",
        "\n",
        "#Train Model dengan Epoch dan Batch Size yang bisa diubah\n",
        "history = model.fit(trainX, trainY, epochs=epochs, batch_size=batch_size, verbose=0)"
      ],
      "metadata": {
        "id": "47X7kVcVE_NQ"
      },
      "execution_count": null,
      "outputs": []
    },
    {
      "cell_type": "code",
      "source": [
        "# Plot loss\n",
        "plt.plot(history.history['loss'], label='Loss Training')  # Mengambil nilai loss dari history\n",
        "plt.title('Model Loss Selama Training')  # Judul grafik\n",
        "plt.xlabel('Epoch')  # Label sumbu X\n",
        "plt.ylabel('Loss')  # Label sumbu Y\n",
        "plt.legend()  # Menambahkan legenda untuk membedakan grafik loss training\n",
        "plt.grid()  # Menambahkan grid untuk memperjelas grafik\n",
        "plt.show()  # Menampilkan grafik"
      ],
      "metadata": {
        "colab": {
          "base_uri": "https://localhost:8080/",
          "height": 472
        },
        "id": "jQ5wuVIDFPtR",
        "outputId": "2f183a3d-3e28-482b-c263-b8ae6b1e607e"
      },
      "execution_count": null,
      "outputs": [
        {
          "output_type": "display_data",
          "data": {
            "text/plain": [
              "<Figure size 640x480 with 1 Axes>"
            ],
            "image/png": "[encoded data removed]"
          },
          "metadata": {}
        }
      ]
    },
    {
      "cell_type": "code",
      "source": [
        "# Prediksi\n",
        "trainPredict = model.predict(trainX)\n",
        "testPredict = model.predict(testX)\n",
        "\n",
        "# Inverse Transform untuk mendapatkan nilai asli\n",
        "trainPredict = scaler.inverse_transform(trainPredict)\n",
        "trainY = scaler.inverse_transform([trainY])\n",
        "testPredict = scaler.inverse_transform(testPredict)\n",
        "testY = scaler.inverse_transform([testY])\n",
        "\n",
        "# Flatten the arrays to 1-D\n",
        "trainPredict = trainPredict.flatten()  # Mengubah array hasil prediksi pada data training menjadi array 1-D\n",
        "testPredict = testPredict.flatten()    # Mengubah array hasil prediksi pada data testing menjadi array 1-D\n",
        "trainY = trainY.flatten()              # Mengubah array label asli (ground truth) dari data training menjadi array 1-D\n",
        "testY = testY.flatten()                # Mengubah array label asli (ground truth) dari data testing menjadi array 1-D\n",
        "\n",
        "# Membuat array waktu dari 800 ke 0\n",
        "total_length = len(trainY) + len(testY)  # Total panjang data\n",
        "waktu = np.linspace(800, 0, num=total_length)  # Waktu dari 800 ke 0\n",
        "\n",
        "# Plot prediksi vs nilai aktual\n",
        "plt.plot(waktu[:len(trainY)], trainY, label='Data Aktual (Training)')  # Data aktual training\n",
        "plt.plot(waktu[:len(trainY)], trainPredict, label='Prediksi (Training)')  # Prediksi training\n",
        "plt.plot(waktu[len(trainY):], testY, label='Data Aktual (Testing)')  # Data aktual testing\n",
        "plt.plot(waktu[len(trainY):], testPredict, label='Prediksi (Testing)')  # Prediksi testing\n",
        "\n",
        "# Menambahkan judul dan label\n",
        "plt.title('Grafik Hasil Training dan Testing')  # Judul grafik\n",
        "plt.xlabel('Waktu (ribu tahun lalu)')  # Label sumbu X\n",
        "plt.ylabel('Permukaan Laut Dibanding Sekarang (m)')  # Label sumbu Y\n",
        "\n",
        "plt.legend()  # Menampilkan legenda\n",
        "plt.xlim(800, 0)  # Mengatur batas sumbu X dari 800 ke 0\n",
        "plt.show()  # Menampilkan plot"
      ],
      "metadata": {
        "colab": {
          "base_uri": "https://localhost:8080/",
          "height": 507
        },
        "id": "iHlZJeaq3XJD",
        "outputId": "4ce53545-e2ba-40e5-e713-7a09f00b5213"
      },
      "execution_count": null,
      "outputs": [
        {
          "output_type": "stream",
          "name": "stdout",
          "text": [
            "\u001b[1m20/20\u001b[0m \u001b[32m━━━━━━━━━━━━━━━━━━━━\u001b[0m\u001b[37m\u001b[0m \u001b[1m1s\u001b[0m 23ms/step\n",
            "\u001b[1m5/5\u001b[0m \u001b[32m━━━━━━━━━━━━━━━━━━━━\u001b[0m\u001b[37m\u001b[0m \u001b[1m0s\u001b[0m 7ms/step \n"
          ]
        },
        {
          "output_type": "display_data",
          "data": {
            "text/plain": [
              "<Figure size 640x480 with 1 Axes>"
            ],
            "image/png": "[encoded data removed]"
          },
          "metadata": {}
        }
      ]
    },
    {
      "cell_type": "code",
      "source": [
        "# Menghitung RMSE untuk data training\n",
        "train_rmse = math.sqrt(mean_squared_error(trainY, trainPredict))\n",
        "print('Train RMSE:', train_rmse)\n",
        "\n",
        "# Calculate RMSE for testing data\n",
        "test_rmse = math.sqrt(mean_squared_error(testY, testPredict))\n",
        "print('Test RMSE:', test_rmse)"
      ],
      "metadata": {
        "colab": {
          "base_uri": "https://localhost:8080/"
        },
        "id": "aML74HkVFZna",
        "outputId": "fb16c16f-3b5e-4627-c02a-2c0d3f8ffb17"
      },
      "execution_count": null,
      "outputs": [
        {
          "output_type": "stream",
          "name": "stdout",
          "text": [
            "Train RMSE: 2.86467585483841\n",
            "Test RMSE: 2.771720608110556\n"
          ]
        }
      ]
    },
    {
      "cell_type": "code",
      "source": [
        "# Menghitung R-squared untuk data training\n",
        "train_r2 = r2_score(trainY, trainPredict)\n",
        "print('Train R-squared:', train_r2)\n",
        "\n",
        "# Menghitung R-squared untuk data testing\n",
        "test_r2 = r2_score(testY, testPredict)\n",
        "print('Test R-squared:', test_r2)"
      ],
      "metadata": {
        "colab": {
          "base_uri": "https://localhost:8080/"
        },
        "id": "TQb8-5AwFduA",
        "outputId": "59f3b07a-a173-4045-c271-7b455ea33f10"
      },
      "execution_count": null,
      "outputs": [
        {
          "output_type": "stream",
          "name": "stdout",
          "text": [
            "Train R-squared: 0.9914950368651942\n",
            "Test R-squared: 0.9940297844213695\n"
          ]
        }
      ]
    },
    {
      "cell_type": "code",
      "source": [
        "look_back = 6  # Jumlah langkah waktu yang digunakan untuk prediksi\n",
        "last_data = dataset[-look_back:]  # Ambil data terakhir sebanyak look_back\n",
        "forecast_data = []\n",
        "\n",
        "# Forecast untuk 10 waktu ke depan\n",
        "for _ in range(100):  # Forecast untuk 10 langkah waktu\n",
        "    input_data = np.reshape(last_data, (1, look_back, 1))\n",
        "    prediction = model.predict(input_data)\n",
        "    forecast_data.append(prediction[0][0])\n",
        "    last_data = np.append(last_data[1:], prediction)  # Update data terakhir dengan prediksi\n",
        "    last_data = last_data[-look_back:]\n",
        "\n",
        "# Inverse transform untuk mendapatkan nilai asli\n",
        "forecast_data = scaler.inverse_transform(np.array(forecast_data).reshape(-1, 1))\n",
        "forecast_data = forecast_data.flatten()\n",
        "\n",
        "# Membuat array waktu untuk 10 waktu ke depan dari -1 hingga -25\n",
        "waktu_prediksi = np.arange(-1, -101, -1)  # Waktu dari -1 ke -10\n",
        "\n",
        "# Membuat array waktu untuk data aktual dari 800 hingga 0\n",
        "total_length = len(trainY) + len(testY)  # Total panjang data\n",
        "waktu_aktual = np.linspace(800, 0, num=total_length)  # Waktu dari 800 ke 0\n",
        "\n",
        "# Membuat DataFrame untuk hasil prediksi\n",
        "data_prediksi = pd.DataFrame({\n",
        "    'Waktu (ribu tahun lalu)': waktu_prediksi,\n",
        "    'Permukaan Laut (m)': forecast_data\n",
        "})\n",
        "\n",
        "# Menampilkan tabel hasil prediksi\n",
        "print(data_prediksi)\n",
        "\n",
        "# Plot forecast\n",
        "plt.plot(waktu_aktual[:len(trainY)], trainY, label='Data Aktual (Training)')  # Data aktual training\n",
        "plt.plot(waktu_aktual[:len(trainY)], trainPredict, label='Data Prediksi (Training)')  # Prediksi training\n",
        "plt.plot(waktu_aktual[len(trainY):], testY, label='Data Aktual (Testing)')  # Data aktual testing\n",
        "plt.plot(waktu_aktual[len(trainY):], testPredict, label='Prediksi (Testing)')  # Prediksi testing\n",
        "plt.plot(waktu_prediksi, forecast_data, label='Prediksi 100 Waktu Ke Depan', linestyle='-')  # Prediksi 10 waktu ke depan\n",
        "\n",
        "# Menambahkan judul dan label\n",
        "plt.title('Prediksi Data Permukaan Laut 100 Waktu Mendatang')\n",
        "plt.xlabel('Waktu (ribu tahun lalu)')\n",
        "plt.ylabel('Permukaan Laut Dibanding Sekarang (m)')\n",
        "\n",
        "plt.legend()  # Menampilkan legenda\n",
        "plt.xlim(800, -110)  # Mengatur batas sumbu X dari 800 ke -20\n",
        "plt.show()  # Menampilkan plot\n",
        "\n",
        "print(\"Forecast untuk 24 waktu ke depan:\", forecast_data)"
      ],
      "metadata": {
        "colab": {
          "base_uri": "https://localhost:8080/",
          "height": 1000
        },
        "id": "QH63PFHPFiM7",
        "outputId": "999ee9a3-5b8f-4cbe-93f3-f3982e919d4d"
      },
      "execution_count": null,
      "outputs": [
        {
          "output_type": "stream",
          "name": "stdout",
          "text": [
            "\u001b[1m1/1\u001b[0m \u001b[32m━━━━━━━━━━━━━━━━━━━━\u001b[0m\u001b[37m\u001b[0m \u001b[1m0s\u001b[0m 34ms/step\n",
            "\u001b[1m1/1\u001b[0m \u001b[32m━━━━━━━━━━━━━━━━━━━━\u001b[0m\u001b[37m\u001b[0m \u001b[1m0s\u001b[0m 42ms/step\n",
            "\u001b[1m1/1\u001b[0m \u001b[32m━━━━━━━━━━━━━━━━━━━━\u001b[0m\u001b[37m\u001b[0m \u001b[1m0s\u001b[0m 43ms/step\n",
            "\u001b[1m1/1\u001b[0m \u001b[32m━━━━━━━━━━━━━━━━━━━━\u001b[0m\u001b[37m\u001b[0m \u001b[1m0s\u001b[0m 34ms/step\n",
            "\u001b[1m1/1\u001b[0m \u001b[32m━━━━━━━━━━━━━━━━━━━━\u001b[0m\u001b[37m\u001b[0m \u001b[1m0s\u001b[0m 37ms/step\n",
            "\u001b[1m1/1\u001b[0m \u001b[32m━━━━━━━━━━━━━━━━━━━━\u001b[0m\u001b[37m\u001b[0m \u001b[1m0s\u001b[0m 44ms/step\n",
            "\u001b[1m1/1\u001b[0m \u001b[32m━━━━━━━━━━━━━━━━━━━━\u001b[0m\u001b[37m\u001b[0m \u001b[1m0s\u001b[0m 35ms/step\n",
            "\u001b[1m1/1\u001b[0m \u001b[32m━━━━━━━━━━━━━━━━━━━━\u001b[0m\u001b[37m\u001b[0m \u001b[1m0s\u001b[0m 36ms/step\n",
            "\u001b[1m1/1\u001b[0m \u001b[32m━━━━━━━━━━━━━━━━━━━━\u001b[0m\u001b[37m\u001b[0m \u001b[1m0s\u001b[0m 35ms/step\n",
            "\u001b[1m1/1\u001b[0m \u001b[32m━━━━━━━━━━━━━━━━━━━━\u001b[0m\u001b[37m\u001b[0m \u001b[1m0s\u001b[0m 35ms/step\n",
            "\u001b[1m1/1\u001b[0m \u001b[32m━━━━━━━━━━━━━━━━━━━━\u001b[0m\u001b[37m\u001b[0m \u001b[1m0s\u001b[0m 34ms/step\n",
            "\u001b[1m1/1\u001b[0m \u001b[32m━━━━━━━━━━━━━━━━━━━━\u001b[0m\u001b[37m\u001b[0m \u001b[1m0s\u001b[0m 47ms/step\n",
            "\u001b[1m1/1\u001b[0m \u001b[32m━━━━━━━━━━━━━━━━━━━━\u001b[0m\u001b[37m\u001b[0m \u001b[1m0s\u001b[0m 36ms/step\n",
            "\u001b[1m1/1\u001b[0m \u001b[32m━━━━━━━━━━━━━━━━━━━━\u001b[0m\u001b[37m\u001b[0m \u001b[1m0s\u001b[0m 43ms/step\n",
            "\u001b[1m1/1\u001b[0m \u001b[32m━━━━━━━━━━━━━━━━━━━━\u001b[0m\u001b[37m\u001b[0m \u001b[1m0s\u001b[0m 41ms/step\n",
            "\u001b[1m1/1\u001b[0m \u001b[32m━━━━━━━━━━━━━━━━━━━━\u001b[0m\u001b[37m\u001b[0m \u001b[1m0s\u001b[0m 25ms/step\n",
            "\u001b[1m1/1\u001b[0m \u001b[32m━━━━━━━━━━━━━━━━━━━━\u001b[0m\u001b[37m\u001b[0m \u001b[1m0s\u001b[0m 23ms/step\n",
            "\u001b[1m1/1\u001b[0m \u001b[32m━━━━━━━━━━━━━━━━━━━━\u001b[0m\u001b[37m\u001b[0m \u001b[1m0s\u001b[0m 26ms/step\n",
            "\u001b[1m1/1\u001b[0m \u001b[32m━━━━━━━━━━━━━━━━━━━━\u001b[0m\u001b[37m\u001b[0m \u001b[1m0s\u001b[0m 24ms/step\n",
            "\u001b[1m1/1\u001b[0m \u001b[32m━━━━━━━━━━━━━━━━━━━━\u001b[0m\u001b[37m\u001b[0m \u001b[1m0s\u001b[0m 27ms/step\n",
            "\u001b[1m1/1\u001b[0m \u001b[32m━━━━━━━━━━━━━━━━━━━━\u001b[0m\u001b[37m\u001b[0m \u001b[1m0s\u001b[0m 23ms/step\n",
            "\u001b[1m1/1\u001b[0m \u001b[32m━━━━━━━━━━━━━━━━━━━━\u001b[0m\u001b[37m\u001b[0m \u001b[1m0s\u001b[0m 24ms/step\n",
            "\u001b[1m1/1\u001b[0m \u001b[32m━━━━━━━━━━━━━━━━━━━━\u001b[0m\u001b[37m\u001b[0m \u001b[1m0s\u001b[0m 22ms/step\n",
            "\u001b[1m1/1\u001b[0m \u001b[32m━━━━━━━━━━━━━━━━━━━━\u001b[0m\u001b[37m\u001b[0m \u001b[1m0s\u001b[0m 22ms/step\n",
            "\u001b[1m1/1\u001b[0m \u001b[32m━━━━━━━━━━━━━━━━━━━━\u001b[0m\u001b[37m\u001b[0m \u001b[1m0s\u001b[0m 32ms/step\n",
            "\u001b[1m1/1\u001b[0m \u001b[32m━━━━━━━━━━━━━━━━━━━━\u001b[0m\u001b[37m\u001b[0m \u001b[1m0s\u001b[0m 31ms/step\n",
            "\u001b[1m1/1\u001b[0m \u001b[32m━━━━━━━━━━━━━━━━━━━━\u001b[0m\u001b[37m\u001b[0m \u001b[1m0s\u001b[0m 26ms/step\n",
            "\u001b[1m1/1\u001b[0m \u001b[32m━━━━━━━━━━━━━━━━━━━━\u001b[0m\u001b[37m\u001b[0m \u001b[1m0s\u001b[0m 23ms/step\n",
            "\u001b[1m1/1\u001b[0m \u001b[32m━━━━━━━━━━━━━━━━━━━━\u001b[0m\u001b[37m\u001b[0m \u001b[1m0s\u001b[0m 25ms/step\n",
            "\u001b[1m1/1\u001b[0m \u001b[32m━━━━━━━━━━━━━━━━━━━━\u001b[0m\u001b[37m\u001b[0m \u001b[1m0s\u001b[0m 24ms/step\n",
            "\u001b[1m1/1\u001b[0m \u001b[32m━━━━━━━━━━━━━━━━━━━━\u001b[0m\u001b[37m\u001b[0m \u001b[1m0s\u001b[0m 22ms/step\n",
            "\u001b[1m1/1\u001b[0m \u001b[32m━━━━━━━━━━━━━━━━━━━━\u001b[0m\u001b[37m\u001b[0m \u001b[1m0s\u001b[0m 23ms/step\n",
            "\u001b[1m1/1\u001b[0m \u001b[32m━━━━━━━━━━━━━━━━━━━━\u001b[0m\u001b[37m\u001b[0m \u001b[1m0s\u001b[0m 24ms/step\n",
            "\u001b[1m1/1\u001b[0m \u001b[32m━━━━━━━━━━━━━━━━━━━━\u001b[0m\u001b[37m\u001b[0m \u001b[1m0s\u001b[0m 22ms/step\n",
            "\u001b[1m1/1\u001b[0m \u001b[32m━━━━━━━━━━━━━━━━━━━━\u001b[0m\u001b[37m\u001b[0m \u001b[1m0s\u001b[0m 22ms/step\n",
            "\u001b[1m1/1\u001b[0m \u001b[32m━━━━━━━━━━━━━━━━━━━━\u001b[0m\u001b[37m\u001b[0m \u001b[1m0s\u001b[0m 23ms/step\n",
            "\u001b[1m1/1\u001b[0m \u001b[32m━━━━━━━━━━━━━━━━━━━━\u001b[0m\u001b[37m\u001b[0m \u001b[1m0s\u001b[0m 29ms/step\n",
            "\u001b[1m1/1\u001b[0m \u001b[32m━━━━━━━━━━━━━━━━━━━━\u001b[0m\u001b[37m\u001b[0m \u001b[1m0s\u001b[0m 24ms/step\n",
            "\u001b[1m1/1\u001b[0m \u001b[32m━━━━━━━━━━━━━━━━━━━━\u001b[0m\u001b[37m\u001b[0m \u001b[1m0s\u001b[0m 27ms/step\n",
            "\u001b[1m1/1\u001b[0m \u001b[32m━━━━━━━━━━━━━━━━━━━━\u001b[0m\u001b[37m\u001b[0m \u001b[1m0s\u001b[0m 24ms/step\n",
            "\u001b[1m1/1\u001b[0m \u001b[32m━━━━━━━━━━━━━━━━━━━━\u001b[0m\u001b[37m\u001b[0m \u001b[1m0s\u001b[0m 23ms/step\n",
            "\u001b[1m1/1\u001b[0m \u001b[32m━━━━━━━━━━━━━━━━━━━━\u001b[0m\u001b[37m\u001b[0m \u001b[1m0s\u001b[0m 28ms/step\n",
            "\u001b[1m1/1\u001b[0m \u001b[32m━━━━━━━━━━━━━━━━━━━━\u001b[0m\u001b[37m\u001b[0m \u001b[1m0s\u001b[0m 24ms/step\n",
            "\u001b[1m1/1\u001b[0m \u001b[32m━━━━━━━━━━━━━━━━━━━━\u001b[0m\u001b[37m\u001b[0m \u001b[1m0s\u001b[0m 22ms/step\n",
            "\u001b[1m1/1\u001b[0m \u001b[32m━━━━━━━━━━━━━━━━━━━━\u001b[0m\u001b[37m\u001b[0m \u001b[1m0s\u001b[0m 22ms/step\n",
            "\u001b[1m1/1\u001b[0m \u001b[32m━━━━━━━━━━━━━━━━━━━━\u001b[0m\u001b[37m\u001b[0m \u001b[1m0s\u001b[0m 30ms/step\n",
            "\u001b[1m1/1\u001b[0m \u001b[32m━━━━━━━━━━━━━━━━━━━━\u001b[0m\u001b[37m\u001b[0m \u001b[1m0s\u001b[0m 22ms/step\n",
            "\u001b[1m1/1\u001b[0m \u001b[32m━━━━━━━━━━━━━━━━━━━━\u001b[0m\u001b[37m\u001b[0m \u001b[1m0s\u001b[0m 26ms/step\n",
            "\u001b[1m1/1\u001b[0m \u001b[32m━━━━━━━━━━━━━━━━━━━━\u001b[0m\u001b[37m\u001b[0m \u001b[1m0s\u001b[0m 35ms/step\n",
            "\u001b[1m1/1\u001b[0m \u001b[32m━━━━━━━━━━━━━━━━━━━━\u001b[0m\u001b[37m\u001b[0m \u001b[1m0s\u001b[0m 24ms/step\n",
            "\u001b[1m1/1\u001b[0m \u001b[32m━━━━━━━━━━━━━━━━━━━━\u001b[0m\u001b[37m\u001b[0m \u001b[1m0s\u001b[0m 24ms/step\n",
            "\u001b[1m1/1\u001b[0m \u001b[32m━━━━━━━━━━━━━━━━━━━━\u001b[0m\u001b[37m\u001b[0m \u001b[1m0s\u001b[0m 23ms/step\n",
            "\u001b[1m1/1\u001b[0m \u001b[32m━━━━━━━━━━━━━━━━━━━━\u001b[0m\u001b[37m\u001b[0m \u001b[1m0s\u001b[0m 23ms/step\n",
            "\u001b[1m1/1\u001b[0m \u001b[32m━━━━━━━━━━━━━━━━━━━━\u001b[0m\u001b[37m\u001b[0m \u001b[1m0s\u001b[0m 24ms/step\n",
            "\u001b[1m1/1\u001b[0m \u001b[32m━━━━━━━━━━━━━━━━━━━━\u001b[0m\u001b[37m\u001b[0m \u001b[1m0s\u001b[0m 23ms/step\n",
            "\u001b[1m1/1\u001b[0m \u001b[32m━━━━━━━━━━━━━━━━━━━━\u001b[0m\u001b[37m\u001b[0m \u001b[1m0s\u001b[0m 24ms/step\n",
            "\u001b[1m1/1\u001b[0m \u001b[32m━━━━━━━━━━━━━━━━━━━━\u001b[0m\u001b[37m\u001b[0m \u001b[1m0s\u001b[0m 23ms/step\n",
            "\u001b[1m1/1\u001b[0m \u001b[32m━━━━━━━━━━━━━━━━━━━━\u001b[0m\u001b[37m\u001b[0m \u001b[1m0s\u001b[0m 23ms/step\n",
            "\u001b[1m1/1\u001b[0m \u001b[32m━━━━━━━━━━━━━━━━━━━━\u001b[0m\u001b[37m\u001b[0m \u001b[1m0s\u001b[0m 22ms/step\n",
            "\u001b[1m1/1\u001b[0m \u001b[32m━━━━━━━━━━━━━━━━━━━━\u001b[0m\u001b[37m\u001b[0m \u001b[1m0s\u001b[0m 29ms/step\n",
            "\u001b[1m1/1\u001b[0m \u001b[32m━━━━━━━━━━━━━━━━━━━━\u001b[0m\u001b[37m\u001b[0m \u001b[1m0s\u001b[0m 31ms/step\n",
            "\u001b[1m1/1\u001b[0m \u001b[32m━━━━━━━━━━━━━━━━━━━━\u001b[0m\u001b[37m\u001b[0m \u001b[1m0s\u001b[0m 24ms/step\n",
            "\u001b[1m1/1\u001b[0m \u001b[32m━━━━━━━━━━━━━━━━━━━━\u001b[0m\u001b[37m\u001b[0m \u001b[1m0s\u001b[0m 24ms/step\n",
            "\u001b[1m1/1\u001b[0m \u001b[32m━━━━━━━━━━━━━━━━━━━━\u001b[0m\u001b[37m\u001b[0m \u001b[1m0s\u001b[0m 24ms/step\n",
            "\u001b[1m1/1\u001b[0m \u001b[32m━━━━━━━━━━━━━━━━━━━━\u001b[0m\u001b[37m\u001b[0m \u001b[1m0s\u001b[0m 25ms/step\n",
            "\u001b[1m1/1\u001b[0m \u001b[32m━━━━━━━━━━━━━━━━━━━━\u001b[0m\u001b[37m\u001b[0m \u001b[1m0s\u001b[0m 23ms/step\n",
            "\u001b[1m1/1\u001b[0m \u001b[32m━━━━━━━━━━━━━━━━━━━━\u001b[0m\u001b[37m\u001b[0m \u001b[1m0s\u001b[0m 26ms/step\n",
            "\u001b[1m1/1\u001b[0m \u001b[32m━━━━━━━━━━━━━━━━━━━━\u001b[0m\u001b[37m\u001b[0m \u001b[1m0s\u001b[0m 23ms/step\n",
            "\u001b[1m1/1\u001b[0m \u001b[32m━━━━━━━━━━━━━━━━━━━━\u001b[0m\u001b[37m\u001b[0m \u001b[1m0s\u001b[0m 23ms/step\n",
            "\u001b[1m1/1\u001b[0m \u001b[32m━━━━━━━━━━━━━━━━━━━━\u001b[0m\u001b[37m\u001b[0m \u001b[1m0s\u001b[0m 22ms/step\n",
            "\u001b[1m1/1\u001b[0m \u001b[32m━━━━━━━━━━━━━━━━━━━━\u001b[0m\u001b[37m\u001b[0m \u001b[1m0s\u001b[0m 24ms/step\n",
            "\u001b[1m1/1\u001b[0m \u001b[32m━━━━━━━━━━━━━━━━━━━━\u001b[0m\u001b[37m\u001b[0m \u001b[1m0s\u001b[0m 28ms/step\n",
            "\u001b[1m1/1\u001b[0m \u001b[32m━━━━━━━━━━━━━━━━━━━━\u001b[0m\u001b[37m\u001b[0m \u001b[1m0s\u001b[0m 23ms/step\n",
            "\u001b[1m1/1\u001b[0m \u001b[32m━━━━━━━━━━━━━━━━━━━━\u001b[0m\u001b[37m\u001b[0m \u001b[1m0s\u001b[0m 26ms/step\n",
            "\u001b[1m1/1\u001b[0m \u001b[32m━━━━━━━━━━━━━━━━━━━━\u001b[0m\u001b[37m\u001b[0m \u001b[1m0s\u001b[0m 23ms/step\n",
            "\u001b[1m1/1\u001b[0m \u001b[32m━━━━━━━━━━━━━━━━━━━━\u001b[0m\u001b[37m\u001b[0m \u001b[1m0s\u001b[0m 24ms/step\n",
            "\u001b[1m1/1\u001b[0m \u001b[32m━━━━━━━━━━━━━━━━━━━━\u001b[0m\u001b[37m\u001b[0m \u001b[1m0s\u001b[0m 26ms/step\n",
            "\u001b[1m1/1\u001b[0m \u001b[32m━━━━━━━━━━━━━━━━━━━━\u001b[0m\u001b[37m\u001b[0m \u001b[1m0s\u001b[0m 25ms/step\n",
            "\u001b[1m1/1\u001b[0m \u001b[32m━━━━━━━━━━━━━━━━━━━━\u001b[0m\u001b[37m\u001b[0m \u001b[1m0s\u001b[0m 22ms/step\n",
            "\u001b[1m1/1\u001b[0m \u001b[32m━━━━━━━━━━━━━━━━━━━━\u001b[0m\u001b[37m\u001b[0m \u001b[1m0s\u001b[0m 22ms/step\n",
            "\u001b[1m1/1\u001b[0m \u001b[32m━━━━━━━━━━━━━━━━━━━━\u001b[0m\u001b[37m\u001b[0m \u001b[1m0s\u001b[0m 23ms/step\n",
            "\u001b[1m1/1\u001b[0m \u001b[32m━━━━━━━━━━━━━━━━━━━━\u001b[0m\u001b[37m\u001b[0m \u001b[1m0s\u001b[0m 23ms/step\n",
            "\u001b[1m1/1\u001b[0m \u001b[32m━━━━━━━━━━━━━━━━━━━━\u001b[0m\u001b[37m\u001b[0m \u001b[1m0s\u001b[0m 24ms/step\n",
            "\u001b[1m1/1\u001b[0m \u001b[32m━━━━━━━━━━━━━━━━━━━━\u001b[0m\u001b[37m\u001b[0m \u001b[1m0s\u001b[0m 28ms/step\n",
            "\u001b[1m1/1\u001b[0m \u001b[32m━━━━━━━━━━━━━━━━━━━━\u001b[0m\u001b[37m\u001b[0m \u001b[1m0s\u001b[0m 23ms/step\n",
            "\u001b[1m1/1\u001b[0m \u001b[32m━━━━━━━━━━━━━━━━━━━━\u001b[0m\u001b[37m\u001b[0m \u001b[1m0s\u001b[0m 25ms/step\n",
            "\u001b[1m1/1\u001b[0m \u001b[32m━━━━━━━━━━━━━━━━━━━━\u001b[0m\u001b[37m\u001b[0m \u001b[1m0s\u001b[0m 23ms/step\n",
            "\u001b[1m1/1\u001b[0m \u001b[32m━━━━━━━━━━━━━━━━━━━━\u001b[0m\u001b[37m\u001b[0m \u001b[1m0s\u001b[0m 24ms/step\n",
            "\u001b[1m1/1\u001b[0m \u001b[32m━━━━━━━━━━━━━━━━━━━━\u001b[0m\u001b[37m\u001b[0m \u001b[1m0s\u001b[0m 24ms/step\n",
            "\u001b[1m1/1\u001b[0m \u001b[32m━━━━━━━━━━━━━━━━━━━━\u001b[0m\u001b[37m\u001b[0m \u001b[1m0s\u001b[0m 24ms/step\n",
            "\u001b[1m1/1\u001b[0m \u001b[32m━━━━━━━━━━━━━━━━━━━━\u001b[0m\u001b[37m\u001b[0m \u001b[1m0s\u001b[0m 23ms/step\n",
            "\u001b[1m1/1\u001b[0m \u001b[32m━━━━━━━━━━━━━━━━━━━━\u001b[0m\u001b[37m\u001b[0m \u001b[1m0s\u001b[0m 23ms/step\n",
            "\u001b[1m1/1\u001b[0m \u001b[32m━━━━━━━━━━━━━━━━━━━━\u001b[0m\u001b[37m\u001b[0m \u001b[1m0s\u001b[0m 22ms/step\n",
            "\u001b[1m1/1\u001b[0m \u001b[32m━━━━━━━━━━━━━━━━━━━━\u001b[0m\u001b[37m\u001b[0m \u001b[1m0s\u001b[0m 22ms/step\n",
            "\u001b[1m1/1\u001b[0m \u001b[32m━━━━━━━━━━━━━━━━━━━━\u001b[0m\u001b[37m\u001b[0m \u001b[1m0s\u001b[0m 30ms/step\n",
            "\u001b[1m1/1\u001b[0m \u001b[32m━━━━━━━━━━━━━━━━━━━━\u001b[0m\u001b[37m\u001b[0m \u001b[1m0s\u001b[0m 29ms/step\n",
            "\u001b[1m1/1\u001b[0m \u001b[32m━━━━━━━━━━━━━━━━━━━━\u001b[0m\u001b[37m\u001b[0m \u001b[1m0s\u001b[0m 21ms/step\n",
            "\u001b[1m1/1\u001b[0m \u001b[32m━━━━━━━━━━━━━━━━━━━━\u001b[0m\u001b[37m\u001b[0m \u001b[1m0s\u001b[0m 25ms/step\n",
            "\u001b[1m1/1\u001b[0m \u001b[32m━━━━━━━━━━━━━━━━━━━━\u001b[0m\u001b[37m\u001b[0m \u001b[1m0s\u001b[0m 23ms/step\n",
            "\u001b[1m1/1\u001b[0m \u001b[32m━━━━━━━━━━━━━━━━━━━━\u001b[0m\u001b[37m\u001b[0m \u001b[1m0s\u001b[0m 23ms/step\n",
            "    Waktu (ribu tahun lalu)  Permukaan Laut (m)\n",
            "0                        -1           19.347355\n",
            "1                        -2           16.400738\n",
            "2                        -3           10.570798\n",
            "3                        -4            3.420314\n",
            "4                        -5           -5.171644\n",
            "..                      ...                 ...\n",
            "95                      -96          -43.949257\n",
            "96                      -97          -44.159096\n",
            "97                      -98          -44.308647\n",
            "98                      -99          -44.394005\n",
            "99                     -100          -44.414875\n",
            "\n",
            "[100 rows x 2 columns]\n"
          ]
        },
        {
          "output_type": "display_data",
          "data": {
            "text/plain": [
              "<Figure size 640x480 with 1 Axes>"
            ],
            "image/png": "[encoded data removed]"
          },
          "metadata": {}
        },
        {
          "output_type": "stream",
          "name": "stdout",
          "text": [
            "Forecast untuk 24 waktu ke depan: [ 19.347355   16.400738   10.570798    3.4203136  -5.171644  -14.509695\n",
            " -24.352818  -34.15752   -43.498066  -51.91774   -59.09071   -64.802284\n",
            " -68.93917   -71.42531   -72.224144  -71.39615   -69.15053   -65.82909\n",
            " -61.835117  -57.54906   -53.26988   -49.195724  -45.437782  -42.0526\n",
            " -39.076817  -36.54989   -34.518925  -33.030144  -32.11647   -31.788568\n",
            " -32.03153   -32.805573  -34.04879   -35.680454  -37.604763  -39.714996\n",
            " -41.89837   -44.04133   -46.0353    -47.78238   -49.20098   -50.230835\n",
            " -50.83693   -51.01167   -50.77466   -50.169727  -49.259586  -48.118885\n",
            " -46.827156  -45.462654  -44.097942  -42.797253  -41.615303  -40.596786\n",
            " -39.776237  -39.177723  -38.81468   -38.689747  -38.795013  -39.11256\n",
            " -39.615517  -40.269474  -41.03431   -41.866215  -42.719944  -43.551132\n",
            " -44.31853   -44.986145  -45.52501   -45.91458   -46.14355   -46.21003\n",
            " -46.12111   -45.89183   -45.543686  -45.102802  -44.59808   -44.05931\n",
            " -43.515625  -42.994053  -42.5185    -42.108936  -41.780807  -41.544724\n",
            " -41.406303  -41.366203  -41.42043   -41.560677  -41.775     -42.048477\n",
            " -42.36411   -42.703697  -43.048843  -43.381832  -43.68656   -43.949257\n",
            " -44.159096  -44.308647  -44.394005  -44.414875 ]\n"
          ]
        }
      ]
    },
    {
      "cell_type": "code",
      "source": [
        "# Hasil Prediksi 1 Waktu Ke depan\n",
        "# waktu_prediksi = np.arange(0, 2, 1)\n",
        "# forecast_data = [20.38, 19.347355]  # Example forecast values\n",
        "\n",
        "\n",
        "# plt.plot(waktu_prediksi, forecast_data, label='Prediksi 1 Waktu Ke Depan', marker='o')\n",
        "\n",
        "# Menambahkan judul dan label\n",
        "# plt.title('Prediksi Data Permukaan Laut 1 Waktu Mendatang')\n",
        "# plt.xlabel('Waktu (ribu tahun lalu)')\n",
        "# plt.ylabel('Permukaan Laut Dibanding Sekarang (m)')\n",
        "\n",
        "# Mengatur rentang sumbu Y dengan interval 0.05\n",
        "# y_ticks = np.arange(min(forecast_data) - 0.05, max(forecast_data) + 0.05, 0.05)\n",
        "# plt.yticks(y_ticks)\n",
        "# Mengatur rentang sumbu X dengan interval 0.1\n",
        "# x_ticks = np.arange(0, 1.1, 0.1)  # Rentang dari 0 hingga 2 dengan interval 0.1\n",
        "# plt.xticks(x_ticks)\n",
        "\n",
        "# plt.legend()  # Menampilkan legenda\n",
        "# plt.grid(True) #adds gridlines\n",
        "# plt.show()  # Menampilkan plot"
      ],
      "metadata": {
        "id": "dmEqgyQUrk7V"
      },
      "execution_count": null,
      "outputs": []
    },
    {
      "cell_type": "code",
      "source": [
        "#from itertools import product\n",
        "\n",
        "# Parameter untuk Grid Search\n",
        "# look_back_list = [3, 6, 12]  # Variasi look_back yang ingin diuji\n",
        "# epochs_list = [50, 100]\n",
        "# batch_size_list = [16, 32]\n",
        "# learning_rate_list = [0.001, 0.01]\n",
        "# units_list = [64, 128]\n",
        "\n",
        "# Menyimpan hasil tuning\n",
        "# results = []\n",
        "\n",
        "# Iterasi semua kombinasi hyperparameter\n",
        "# for look_back, epochs, batch_size, learning_rate, units in product(look_back_list, epochs_list, batch_size_list, learning_rate_list, units_list):\n",
        "    # print(f\"Training with: look_back={look_back}, epochs={epochs}, batch_size={batch_size}, learning_rate={learning_rate}, units={units}\")\n",
        "\n",
        "    # Membentuk dataset berdasarkan look_back\n",
        "    # trainX, trainY = create_dataset(train, look_back)\n",
        "    # testX, testY = create_dataset(test, look_back)\n",
        "\n",
        "    # Reshape input untuk LSTM (samples, timesteps, features)\n",
        "    # trainX = np.reshape(trainX, (trainX.shape[0], trainX.shape[1], 1))\n",
        "    # testX = np.reshape(testX, (testX.shape[0], testX.shape[1], 1))\n",
        "\n",
        "    # Buat model\n",
        "    # model = Sequential()\n",
        "    # model.add(LSTM(units=units, return_sequences=True, input_shape=(look_back, 1)))\n",
        "    # model.add(LSTM(units=units))\n",
        "    # model.add(Dense(1))\n",
        "\n",
        "    # Compile model\n",
        "    # optimizer = Adam(learning_rate=learning_rate)\n",
        "    # model.compile(loss='mean_squared_error', optimizer=optimizer)\n",
        "\n",
        "    # Train model\n",
        "    # history = model.fit(trainX, trainY, epochs=epochs, batch_size=batch_size, verbose=0)\n",
        "\n",
        "    # Prediksi\n",
        "    # testPredict = model.predict(testX)\n",
        "    # testPredict = scaler.inverse_transform(testPredict)\n",
        "    # testY_actual = scaler.inverse_transform([testY])\n",
        "\n",
        "    # Menghitung RMSE\n",
        "    # test_rmse = math.sqrt(mean_squared_error(testY_actual.flatten(), testPredict.flatten()))\n",
        "    # print(f\"Test RMSE: {test_rmse}\")\n",
        "\n",
        "    # Simpan hasil\n",
        "    # results.append({\n",
        "        # 'look_back': look_back,\n",
        "        # 'epochs': epochs,\n",
        "        # 'batch_size': batch_size,\n",
        "        # 'learning_rate': learning_rate,\n",
        "        # 'units': units,\n",
        "        # 'test_rmse': test_rmse\n",
        "    # })\n",
        "\n",
        "# Cari kombinasi terbaik\n",
        "# best_result = min(results, key=lambda x: x['test_rmse'])\n",
        "# print(\"Best Hyperparameters:\")\n",
        "# print(best_result)\n"
      ],
      "metadata": {
        "colab": {
          "base_uri": "https://localhost:8080/"
        },
        "id": "CgoRuThwFmP5",
        "outputId": "6ed11a40-d4ed-4dc1-f0f5-18a52b09b5a3"
      },
      "execution_count": null,
      "outputs": [
        {
          "output_type": "stream",
          "name": "stdout",
          "text": [
            "Training with: look_back=3, epochs=50, batch_size=16, learning_rate=0.001, units=64\n"
          ]
        },
        {
          "output_type": "stream",
          "name": "stderr",
          "text": [
            "/usr/local/lib/python3.10/dist-packages/keras/src/layers/rnn/rnn.py:204: UserWarning: Do not pass an `input_shape`/`input_dim` argument to a layer. When using Sequential models, prefer using an `Input(shape)` object as the first layer in the model instead.\n",
            "  super().__init__(**kwargs)\n"
          ]
        },
        {
          "output_type": "stream",
          "name": "stdout",
          "text": [
            "\u001b[1m5/5\u001b[0m \u001b[32m━━━━━━━━━━━━━━━━━━━━\u001b[0m\u001b[37m\u001b[0m \u001b[1m1s\u001b[0m 72ms/step\n",
            "Test RMSE: 4.446637408671594\n",
            "Training with: look_back=3, epochs=50, batch_size=16, learning_rate=0.001, units=128\n"
          ]
        },
        {
          "output_type": "stream",
          "name": "stderr",
          "text": [
            "/usr/local/lib/python3.10/dist-packages/keras/src/layers/rnn/rnn.py:204: UserWarning: Do not pass an `input_shape`/`input_dim` argument to a layer. When using Sequential models, prefer using an `Input(shape)` object as the first layer in the model instead.\n",
            "  super().__init__(**kwargs)\n"
          ]
        },
        {
          "output_type": "stream",
          "name": "stdout",
          "text": [
            "\r\u001b[1m1/5\u001b[0m \u001b[32m━━━━\u001b[0m\u001b[37m━━━━━━━━━━━━━━━━\u001b[0m \u001b[1m1s\u001b[0m 287ms/step"
          ]
        },
        {
          "output_type": "stream",
          "name": "stderr",
          "text": [
            "WARNING:tensorflow:5 out of the last 26 calls to <function TensorFlowTrainer.make_predict_function.<locals>.one_step_on_data_distributed at 0x79c5d9397eb0> triggered tf.function retracing. Tracing is expensive and the excessive number of tracings could be due to (1) creating @tf.function repeatedly in a loop, (2) passing tensors with different shapes, (3) passing Python objects instead of tensors. For (1), please define your @tf.function outside of the loop. For (2), @tf.function has reduce_retracing=True option that can avoid unnecessary retracing. For (3), please refer to https://www.tensorflow.org/guide/function#controlling_retracing and https://www.tensorflow.org/api_docs/python/tf/function for  more details.\n"
          ]
        },
        {
          "output_type": "stream",
          "name": "stdout",
          "text": [
            "\u001b[1m5/5\u001b[0m \u001b[32m━━━━━━━━━━━━━━━━━━━━\u001b[0m\u001b[37m\u001b[0m \u001b[1m1s\u001b[0m 76ms/step\n"
          ]
        },
        {
          "output_type": "stream",
          "name": "stderr",
          "text": [
            "/usr/local/lib/python3.10/dist-packages/keras/src/layers/rnn/rnn.py:204: UserWarning: Do not pass an `input_shape`/`input_dim` argument to a layer. When using Sequential models, prefer using an `Input(shape)` object as the first layer in the model instead.\n",
            "  super().__init__(**kwargs)\n"
          ]
        },
        {
          "output_type": "stream",
          "name": "stdout",
          "text": [
            "Test RMSE: 4.316709156284108\n",
            "Training with: look_back=3, epochs=50, batch_size=16, learning_rate=0.01, units=64\n"
          ]
        },
        {
          "output_type": "stream",
          "name": "stderr",
          "text": [
            "WARNING:tensorflow:5 out of the last 11 calls to <function TensorFlowTrainer.make_predict_function.<locals>.one_step_on_data_distributed at 0x79c5dc670d30> triggered tf.function retracing. Tracing is expensive and the excessive number of tracings could be due to (1) creating @tf.function repeatedly in a loop, (2) passing tensors with different shapes, (3) passing Python objects instead of tensors. For (1), please define your @tf.function outside of the loop. For (2), @tf.function has reduce_retracing=True option that can avoid unnecessary retracing. For (3), please refer to https://www.tensorflow.org/guide/function#controlling_retracing and https://www.tensorflow.org/api_docs/python/tf/function for  more details.\n"
          ]
        },
        {
          "output_type": "stream",
          "name": "stdout",
          "text": [
            "\u001b[1m5/5\u001b[0m \u001b[32m━━━━━━━━━━━━━━━━━━━━\u001b[0m\u001b[37m\u001b[0m \u001b[1m1s\u001b[0m 73ms/step\n",
            "Test RMSE: 2.42657455253735\n",
            "Training with: look_back=3, epochs=50, batch_size=16, learning_rate=0.01, units=128\n"
          ]
        },
        {
          "output_type": "stream",
          "name": "stderr",
          "text": [
            "/usr/local/lib/python3.10/dist-packages/keras/src/layers/rnn/rnn.py:204: UserWarning: Do not pass an `input_shape`/`input_dim` argument to a layer. When using Sequential models, prefer using an `Input(shape)` object as the first layer in the model instead.\n",
            "  super().__init__(**kwargs)\n"
          ]
        },
        {
          "output_type": "stream",
          "name": "stdout",
          "text": [
            "\u001b[1m5/5\u001b[0m \u001b[32m━━━━━━━━━━━━━━━━━━━━\u001b[0m\u001b[37m\u001b[0m \u001b[1m1s\u001b[0m 72ms/step\n",
            "Test RMSE: 2.7827928725191375\n",
            "Training with: look_back=3, epochs=50, batch_size=32, learning_rate=0.001, units=64\n"
          ]
        },
        {
          "output_type": "stream",
          "name": "stderr",
          "text": [
            "/usr/local/lib/python3.10/dist-packages/keras/src/layers/rnn/rnn.py:204: UserWarning: Do not pass an `input_shape`/`input_dim` argument to a layer. When using Sequential models, prefer using an `Input(shape)` object as the first layer in the model instead.\n",
            "  super().__init__(**kwargs)\n"
          ]
        },
        {
          "output_type": "stream",
          "name": "stdout",
          "text": [
            "\u001b[1m5/5\u001b[0m \u001b[32m━━━━━━━━━━━━━━━━━━━━\u001b[0m\u001b[37m\u001b[0m \u001b[1m1s\u001b[0m 75ms/step\n",
            "Test RMSE: 9.268813643577126\n",
            "Training with: look_back=3, epochs=50, batch_size=32, learning_rate=0.001, units=128\n"
          ]
        },
        {
          "output_type": "stream",
          "name": "stderr",
          "text": [
            "/usr/local/lib/python3.10/dist-packages/keras/src/layers/rnn/rnn.py:204: UserWarning: Do not pass an `input_shape`/`input_dim` argument to a layer. When using Sequential models, prefer using an `Input(shape)` object as the first layer in the model instead.\n",
            "  super().__init__(**kwargs)\n"
          ]
        },
        {
          "output_type": "stream",
          "name": "stdout",
          "text": [
            "\u001b[1m5/5\u001b[0m \u001b[32m━━━━━━━━━━━━━━━━━━━━\u001b[0m\u001b[37m\u001b[0m \u001b[1m1s\u001b[0m 75ms/step\n",
            "Test RMSE: 6.702416311145712\n",
            "Training with: look_back=3, epochs=50, batch_size=32, learning_rate=0.01, units=64\n"
          ]
        },
        {
          "output_type": "stream",
          "name": "stderr",
          "text": [
            "/usr/local/lib/python3.10/dist-packages/keras/src/layers/rnn/rnn.py:204: UserWarning: Do not pass an `input_shape`/`input_dim` argument to a layer. When using Sequential models, prefer using an `Input(shape)` object as the first layer in the model instead.\n",
            "  super().__init__(**kwargs)\n"
          ]
        },
        {
          "output_type": "stream",
          "name": "stdout",
          "text": [
            "\u001b[1m5/5\u001b[0m \u001b[32m━━━━━━━━━━━━━━━━━━━━\u001b[0m\u001b[37m\u001b[0m \u001b[1m1s\u001b[0m 73ms/step\n",
            "Test RMSE: 2.766920364801396\n",
            "Training with: look_back=3, epochs=50, batch_size=32, learning_rate=0.01, units=128\n"
          ]
        },
        {
          "output_type": "stream",
          "name": "stderr",
          "text": [
            "/usr/local/lib/python3.10/dist-packages/keras/src/layers/rnn/rnn.py:204: UserWarning: Do not pass an `input_shape`/`input_dim` argument to a layer. When using Sequential models, prefer using an `Input(shape)` object as the first layer in the model instead.\n",
            "  super().__init__(**kwargs)\n"
          ]
        },
        {
          "output_type": "stream",
          "name": "stdout",
          "text": [
            "\u001b[1m5/5\u001b[0m \u001b[32m━━━━━━━━━━━━━━━━━━━━\u001b[0m\u001b[37m\u001b[0m \u001b[1m1s\u001b[0m 78ms/step\n",
            "Test RMSE: 3.335984204096215\n",
            "Training with: look_back=3, epochs=100, batch_size=16, learning_rate=0.001, units=64\n"
          ]
        },
        {
          "output_type": "stream",
          "name": "stderr",
          "text": [
            "/usr/local/lib/python3.10/dist-packages/keras/src/layers/rnn/rnn.py:204: UserWarning: Do not pass an `input_shape`/`input_dim` argument to a layer. When using Sequential models, prefer using an `Input(shape)` object as the first layer in the model instead.\n",
            "  super().__init__(**kwargs)\n"
          ]
        },
        {
          "output_type": "stream",
          "name": "stdout",
          "text": [
            "\u001b[1m5/5\u001b[0m \u001b[32m━━━━━━━━━━━━━━━━━━━━\u001b[0m\u001b[37m\u001b[0m \u001b[1m1s\u001b[0m 78ms/step\n",
            "Test RMSE: 3.213427084139861\n",
            "Training with: look_back=3, epochs=100, batch_size=16, learning_rate=0.001, units=128\n"
          ]
        },
        {
          "output_type": "stream",
          "name": "stderr",
          "text": [
            "/usr/local/lib/python3.10/dist-packages/keras/src/layers/rnn/rnn.py:204: UserWarning: Do not pass an `input_shape`/`input_dim` argument to a layer. When using Sequential models, prefer using an `Input(shape)` object as the first layer in the model instead.\n",
            "  super().__init__(**kwargs)\n"
          ]
        },
        {
          "output_type": "stream",
          "name": "stdout",
          "text": [
            "\u001b[1m5/5\u001b[0m \u001b[32m━━━━━━━━━━━━━━━━━━━━\u001b[0m\u001b[37m\u001b[0m \u001b[1m1s\u001b[0m 79ms/step\n",
            "Test RMSE: 3.2337122433373704\n",
            "Training with: look_back=3, epochs=100, batch_size=16, learning_rate=0.01, units=64\n"
          ]
        },
        {
          "output_type": "stream",
          "name": "stderr",
          "text": [
            "/usr/local/lib/python3.10/dist-packages/keras/src/layers/rnn/rnn.py:204: UserWarning: Do not pass an `input_shape`/`input_dim` argument to a layer. When using Sequential models, prefer using an `Input(shape)` object as the first layer in the model instead.\n",
            "  super().__init__(**kwargs)\n"
          ]
        },
        {
          "output_type": "stream",
          "name": "stdout",
          "text": [
            "\u001b[1m5/5\u001b[0m \u001b[32m━━━━━━━━━━━━━━━━━━━━\u001b[0m\u001b[37m\u001b[0m \u001b[1m1s\u001b[0m 72ms/step\n",
            "Test RMSE: 2.760085735320323\n",
            "Training with: look_back=3, epochs=100, batch_size=16, learning_rate=0.01, units=128\n"
          ]
        },
        {
          "output_type": "stream",
          "name": "stderr",
          "text": [
            "/usr/local/lib/python3.10/dist-packages/keras/src/layers/rnn/rnn.py:204: UserWarning: Do not pass an `input_shape`/`input_dim` argument to a layer. When using Sequential models, prefer using an `Input(shape)` object as the first layer in the model instead.\n",
            "  super().__init__(**kwargs)\n"
          ]
        },
        {
          "output_type": "stream",
          "name": "stdout",
          "text": [
            "\u001b[1m5/5\u001b[0m \u001b[32m━━━━━━━━━━━━━━━━━━━━\u001b[0m\u001b[37m\u001b[0m \u001b[1m1s\u001b[0m 81ms/step\n",
            "Test RMSE: 3.479807080186607\n",
            "Training with: look_back=3, epochs=100, batch_size=32, learning_rate=0.001, units=64\n"
          ]
        },
        {
          "output_type": "stream",
          "name": "stderr",
          "text": [
            "/usr/local/lib/python3.10/dist-packages/keras/src/layers/rnn/rnn.py:204: UserWarning: Do not pass an `input_shape`/`input_dim` argument to a layer. When using Sequential models, prefer using an `Input(shape)` object as the first layer in the model instead.\n",
            "  super().__init__(**kwargs)\n"
          ]
        },
        {
          "output_type": "stream",
          "name": "stdout",
          "text": [
            "\u001b[1m5/5\u001b[0m \u001b[32m━━━━━━━━━━━━━━━━━━━━\u001b[0m\u001b[37m\u001b[0m \u001b[1m1s\u001b[0m 73ms/step\n",
            "Test RMSE: 4.301088081723022\n",
            "Training with: look_back=3, epochs=100, batch_size=32, learning_rate=0.001, units=128\n"
          ]
        },
        {
          "output_type": "stream",
          "name": "stderr",
          "text": [
            "/usr/local/lib/python3.10/dist-packages/keras/src/layers/rnn/rnn.py:204: UserWarning: Do not pass an `input_shape`/`input_dim` argument to a layer. When using Sequential models, prefer using an `Input(shape)` object as the first layer in the model instead.\n",
            "  super().__init__(**kwargs)\n"
          ]
        },
        {
          "output_type": "stream",
          "name": "stdout",
          "text": [
            "\u001b[1m5/5\u001b[0m \u001b[32m━━━━━━━━━━━━━━━━━━━━\u001b[0m\u001b[37m\u001b[0m \u001b[1m1s\u001b[0m 74ms/step\n",
            "Test RMSE: 3.7442547848936636\n",
            "Training with: look_back=3, epochs=100, batch_size=32, learning_rate=0.01, units=64\n"
          ]
        },
        {
          "output_type": "stream",
          "name": "stderr",
          "text": [
            "/usr/local/lib/python3.10/dist-packages/keras/src/layers/rnn/rnn.py:204: UserWarning: Do not pass an `input_shape`/`input_dim` argument to a layer. When using Sequential models, prefer using an `Input(shape)` object as the first layer in the model instead.\n",
            "  super().__init__(**kwargs)\n"
          ]
        },
        {
          "output_type": "stream",
          "name": "stdout",
          "text": [
            "\u001b[1m5/5\u001b[0m \u001b[32m━━━━━━━━━━━━━━━━━━━━\u001b[0m\u001b[37m\u001b[0m \u001b[1m1s\u001b[0m 110ms/step\n",
            "Test RMSE: 2.4778525414291854\n",
            "Training with: look_back=3, epochs=100, batch_size=32, learning_rate=0.01, units=128\n"
          ]
        },
        {
          "output_type": "stream",
          "name": "stderr",
          "text": [
            "/usr/local/lib/python3.10/dist-packages/keras/src/layers/rnn/rnn.py:204: UserWarning: Do not pass an `input_shape`/`input_dim` argument to a layer. When using Sequential models, prefer using an `Input(shape)` object as the first layer in the model instead.\n",
            "  super().__init__(**kwargs)\n"
          ]
        },
        {
          "output_type": "stream",
          "name": "stdout",
          "text": [
            "\u001b[1m5/5\u001b[0m \u001b[32m━━━━━━━━━━━━━━━━━━━━\u001b[0m\u001b[37m\u001b[0m \u001b[1m1s\u001b[0m 73ms/step\n",
            "Test RMSE: 2.626318428739193\n",
            "Training with: look_back=6, epochs=50, batch_size=16, learning_rate=0.001, units=64\n"
          ]
        },
        {
          "output_type": "stream",
          "name": "stderr",
          "text": [
            "/usr/local/lib/python3.10/dist-packages/keras/src/layers/rnn/rnn.py:204: UserWarning: Do not pass an `input_shape`/`input_dim` argument to a layer. When using Sequential models, prefer using an `Input(shape)` object as the first layer in the model instead.\n",
            "  super().__init__(**kwargs)\n"
          ]
        },
        {
          "output_type": "stream",
          "name": "stdout",
          "text": [
            "\u001b[1m5/5\u001b[0m \u001b[32m━━━━━━━━━━━━━━━━━━━━\u001b[0m\u001b[37m\u001b[0m \u001b[1m1s\u001b[0m 83ms/step\n",
            "Test RMSE: 4.381863144431049\n",
            "Training with: look_back=6, epochs=50, batch_size=16, learning_rate=0.001, units=128\n"
          ]
        },
        {
          "output_type": "stream",
          "name": "stderr",
          "text": [
            "/usr/local/lib/python3.10/dist-packages/keras/src/layers/rnn/rnn.py:204: UserWarning: Do not pass an `input_shape`/`input_dim` argument to a layer. When using Sequential models, prefer using an `Input(shape)` object as the first layer in the model instead.\n",
            "  super().__init__(**kwargs)\n"
          ]
        },
        {
          "output_type": "stream",
          "name": "stdout",
          "text": [
            "\u001b[1m5/5\u001b[0m \u001b[32m━━━━━━━━━━━━━━━━━━━━\u001b[0m\u001b[37m\u001b[0m \u001b[1m1s\u001b[0m 84ms/step\n",
            "Test RMSE: 3.136304594824817\n",
            "Training with: look_back=6, epochs=50, batch_size=16, learning_rate=0.01, units=64\n"
          ]
        },
        {
          "output_type": "stream",
          "name": "stderr",
          "text": [
            "/usr/local/lib/python3.10/dist-packages/keras/src/layers/rnn/rnn.py:204: UserWarning: Do not pass an `input_shape`/`input_dim` argument to a layer. When using Sequential models, prefer using an `Input(shape)` object as the first layer in the model instead.\n",
            "  super().__init__(**kwargs)\n"
          ]
        },
        {
          "output_type": "stream",
          "name": "stdout",
          "text": [
            "\u001b[1m5/5\u001b[0m \u001b[32m━━━━━━━━━━━━━━━━━━━━\u001b[0m\u001b[37m\u001b[0m \u001b[1m1s\u001b[0m 73ms/step\n",
            "Test RMSE: 3.3206489326231425\n",
            "Training with: look_back=6, epochs=50, batch_size=16, learning_rate=0.01, units=128\n"
          ]
        },
        {
          "output_type": "stream",
          "name": "stderr",
          "text": [
            "/usr/local/lib/python3.10/dist-packages/keras/src/layers/rnn/rnn.py:204: UserWarning: Do not pass an `input_shape`/`input_dim` argument to a layer. When using Sequential models, prefer using an `Input(shape)` object as the first layer in the model instead.\n",
            "  super().__init__(**kwargs)\n"
          ]
        },
        {
          "output_type": "stream",
          "name": "stdout",
          "text": [
            "\u001b[1m5/5\u001b[0m \u001b[32m━━━━━━━━━━━━━━━━━━━━\u001b[0m\u001b[37m\u001b[0m \u001b[1m1s\u001b[0m 76ms/step\n",
            "Test RMSE: 2.860553444403078\n",
            "Training with: look_back=6, epochs=50, batch_size=32, learning_rate=0.001, units=64\n"
          ]
        },
        {
          "output_type": "stream",
          "name": "stderr",
          "text": [
            "/usr/local/lib/python3.10/dist-packages/keras/src/layers/rnn/rnn.py:204: UserWarning: Do not pass an `input_shape`/`input_dim` argument to a layer. When using Sequential models, prefer using an `Input(shape)` object as the first layer in the model instead.\n",
            "  super().__init__(**kwargs)\n"
          ]
        },
        {
          "output_type": "stream",
          "name": "stdout",
          "text": [
            "\u001b[1m5/5\u001b[0m \u001b[32m━━━━━━━━━━━━━━━━━━━━\u001b[0m\u001b[37m\u001b[0m \u001b[1m1s\u001b[0m 81ms/step\n",
            "Test RMSE: 7.345190236600576\n",
            "Training with: look_back=6, epochs=50, batch_size=32, learning_rate=0.001, units=128\n"
          ]
        },
        {
          "output_type": "stream",
          "name": "stderr",
          "text": [
            "/usr/local/lib/python3.10/dist-packages/keras/src/layers/rnn/rnn.py:204: UserWarning: Do not pass an `input_shape`/`input_dim` argument to a layer. When using Sequential models, prefer using an `Input(shape)` object as the first layer in the model instead.\n",
            "  super().__init__(**kwargs)\n"
          ]
        },
        {
          "output_type": "stream",
          "name": "stdout",
          "text": [
            "\u001b[1m5/5\u001b[0m \u001b[32m━━━━━━━━━━━━━━━━━━━━\u001b[0m\u001b[37m\u001b[0m \u001b[1m1s\u001b[0m 81ms/step\n",
            "Test RMSE: 6.335206060959508\n",
            "Training with: look_back=6, epochs=50, batch_size=32, learning_rate=0.01, units=64\n"
          ]
        },
        {
          "output_type": "stream",
          "name": "stderr",
          "text": [
            "/usr/local/lib/python3.10/dist-packages/keras/src/layers/rnn/rnn.py:204: UserWarning: Do not pass an `input_shape`/`input_dim` argument to a layer. When using Sequential models, prefer using an `Input(shape)` object as the first layer in the model instead.\n",
            "  super().__init__(**kwargs)\n"
          ]
        },
        {
          "output_type": "stream",
          "name": "stdout",
          "text": [
            "\u001b[1m5/5\u001b[0m \u001b[32m━━━━━━━━━━━━━━━━━━━━\u001b[0m\u001b[37m\u001b[0m \u001b[1m1s\u001b[0m 111ms/step\n",
            "Test RMSE: 2.554668476319156\n",
            "Training with: look_back=6, epochs=50, batch_size=32, learning_rate=0.01, units=128\n"
          ]
        },
        {
          "output_type": "stream",
          "name": "stderr",
          "text": [
            "/usr/local/lib/python3.10/dist-packages/keras/src/layers/rnn/rnn.py:204: UserWarning: Do not pass an `input_shape`/`input_dim` argument to a layer. When using Sequential models, prefer using an `Input(shape)` object as the first layer in the model instead.\n",
            "  super().__init__(**kwargs)\n"
          ]
        },
        {
          "output_type": "stream",
          "name": "stdout",
          "text": [
            "\u001b[1m5/5\u001b[0m \u001b[32m━━━━━━━━━━━━━━━━━━━━\u001b[0m\u001b[37m\u001b[0m \u001b[1m1s\u001b[0m 77ms/step\n",
            "Test RMSE: 2.807905522646325\n",
            "Training with: look_back=6, epochs=100, batch_size=16, learning_rate=0.001, units=64\n"
          ]
        },
        {
          "output_type": "stream",
          "name": "stderr",
          "text": [
            "/usr/local/lib/python3.10/dist-packages/keras/src/layers/rnn/rnn.py:204: UserWarning: Do not pass an `input_shape`/`input_dim` argument to a layer. When using Sequential models, prefer using an `Input(shape)` object as the first layer in the model instead.\n",
            "  super().__init__(**kwargs)\n"
          ]
        },
        {
          "output_type": "stream",
          "name": "stdout",
          "text": [
            "\u001b[1m5/5\u001b[0m \u001b[32m━━━━━━━━━━━━━━━━━━━━\u001b[0m\u001b[37m\u001b[0m \u001b[1m1s\u001b[0m 70ms/step\n",
            "Test RMSE: 2.7865581926348866\n",
            "Training with: look_back=6, epochs=100, batch_size=16, learning_rate=0.001, units=128\n"
          ]
        },
        {
          "output_type": "stream",
          "name": "stderr",
          "text": [
            "/usr/local/lib/python3.10/dist-packages/keras/src/layers/rnn/rnn.py:204: UserWarning: Do not pass an `input_shape`/`input_dim` argument to a layer. When using Sequential models, prefer using an `Input(shape)` object as the first layer in the model instead.\n",
            "  super().__init__(**kwargs)\n"
          ]
        },
        {
          "output_type": "stream",
          "name": "stdout",
          "text": [
            "\u001b[1m5/5\u001b[0m \u001b[32m━━━━━━━━━━━━━━━━━━━━\u001b[0m\u001b[37m\u001b[0m \u001b[1m1s\u001b[0m 75ms/step\n",
            "Test RMSE: 2.7534596149390187\n",
            "Training with: look_back=6, epochs=100, batch_size=16, learning_rate=0.01, units=64\n"
          ]
        },
        {
          "output_type": "stream",
          "name": "stderr",
          "text": [
            "/usr/local/lib/python3.10/dist-packages/keras/src/layers/rnn/rnn.py:204: UserWarning: Do not pass an `input_shape`/`input_dim` argument to a layer. When using Sequential models, prefer using an `Input(shape)` object as the first layer in the model instead.\n",
            "  super().__init__(**kwargs)\n"
          ]
        },
        {
          "output_type": "stream",
          "name": "stdout",
          "text": [
            "\u001b[1m5/5\u001b[0m \u001b[32m━━━━━━━━━━━━━━━━━━━━\u001b[0m\u001b[37m\u001b[0m \u001b[1m1s\u001b[0m 70ms/step\n",
            "Test RMSE: 2.917501935073491\n",
            "Training with: look_back=6, epochs=100, batch_size=16, learning_rate=0.01, units=128\n"
          ]
        },
        {
          "output_type": "stream",
          "name": "stderr",
          "text": [
            "/usr/local/lib/python3.10/dist-packages/keras/src/layers/rnn/rnn.py:204: UserWarning: Do not pass an `input_shape`/`input_dim` argument to a layer. When using Sequential models, prefer using an `Input(shape)` object as the first layer in the model instead.\n",
            "  super().__init__(**kwargs)\n"
          ]
        },
        {
          "output_type": "stream",
          "name": "stdout",
          "text": [
            "\u001b[1m5/5\u001b[0m \u001b[32m━━━━━━━━━━━━━━━━━━━━\u001b[0m\u001b[37m\u001b[0m \u001b[1m1s\u001b[0m 86ms/step\n",
            "Test RMSE: 2.4264342108402537\n",
            "Training with: look_back=6, epochs=100, batch_size=32, learning_rate=0.001, units=64\n"
          ]
        },
        {
          "output_type": "stream",
          "name": "stderr",
          "text": [
            "/usr/local/lib/python3.10/dist-packages/keras/src/layers/rnn/rnn.py:204: UserWarning: Do not pass an `input_shape`/`input_dim` argument to a layer. When using Sequential models, prefer using an `Input(shape)` object as the first layer in the model instead.\n",
            "  super().__init__(**kwargs)\n"
          ]
        },
        {
          "output_type": "stream",
          "name": "stdout",
          "text": [
            "\u001b[1m5/5\u001b[0m \u001b[32m━━━━━━━━━━━━━━━━━━━━\u001b[0m\u001b[37m\u001b[0m \u001b[1m1s\u001b[0m 74ms/step\n",
            "Test RMSE: 3.714806487869274\n",
            "Training with: look_back=6, epochs=100, batch_size=32, learning_rate=0.001, units=128\n"
          ]
        },
        {
          "output_type": "stream",
          "name": "stderr",
          "text": [
            "/usr/local/lib/python3.10/dist-packages/keras/src/layers/rnn/rnn.py:204: UserWarning: Do not pass an `input_shape`/`input_dim` argument to a layer. When using Sequential models, prefer using an `Input(shape)` object as the first layer in the model instead.\n",
            "  super().__init__(**kwargs)\n"
          ]
        },
        {
          "output_type": "stream",
          "name": "stdout",
          "text": [
            "\u001b[1m5/5\u001b[0m \u001b[32m━━━━━━━━━━━━━━━━━━━━\u001b[0m\u001b[37m\u001b[0m \u001b[1m1s\u001b[0m 75ms/step\n",
            "Test RMSE: 3.32378497306969\n",
            "Training with: look_back=6, epochs=100, batch_size=32, learning_rate=0.01, units=64\n"
          ]
        },
        {
          "output_type": "stream",
          "name": "stderr",
          "text": [
            "/usr/local/lib/python3.10/dist-packages/keras/src/layers/rnn/rnn.py:204: UserWarning: Do not pass an `input_shape`/`input_dim` argument to a layer. When using Sequential models, prefer using an `Input(shape)` object as the first layer in the model instead.\n",
            "  super().__init__(**kwargs)\n"
          ]
        },
        {
          "output_type": "stream",
          "name": "stdout",
          "text": [
            "\u001b[1m5/5\u001b[0m \u001b[32m━━━━━━━━━━━━━━━━━━━━\u001b[0m\u001b[37m\u001b[0m \u001b[1m1s\u001b[0m 72ms/step\n",
            "Test RMSE: 2.7424898882774853\n",
            "Training with: look_back=6, epochs=100, batch_size=32, learning_rate=0.01, units=128\n"
          ]
        },
        {
          "output_type": "stream",
          "name": "stderr",
          "text": [
            "/usr/local/lib/python3.10/dist-packages/keras/src/layers/rnn/rnn.py:204: UserWarning: Do not pass an `input_shape`/`input_dim` argument to a layer. When using Sequential models, prefer using an `Input(shape)` object as the first layer in the model instead.\n",
            "  super().__init__(**kwargs)\n"
          ]
        },
        {
          "output_type": "stream",
          "name": "stdout",
          "text": [
            "\u001b[1m5/5\u001b[0m \u001b[32m━━━━━━━━━━━━━━━━━━━━\u001b[0m\u001b[37m\u001b[0m \u001b[1m1s\u001b[0m 78ms/step\n",
            "Test RMSE: 3.255447265343867\n",
            "Training with: look_back=12, epochs=50, batch_size=16, learning_rate=0.001, units=64\n"
          ]
        },
        {
          "output_type": "stream",
          "name": "stderr",
          "text": [
            "/usr/local/lib/python3.10/dist-packages/keras/src/layers/rnn/rnn.py:204: UserWarning: Do not pass an `input_shape`/`input_dim` argument to a layer. When using Sequential models, prefer using an `Input(shape)` object as the first layer in the model instead.\n",
            "  super().__init__(**kwargs)\n"
          ]
        },
        {
          "output_type": "stream",
          "name": "stdout",
          "text": [
            "\u001b[1m5/5\u001b[0m \u001b[32m━━━━━━━━━━━━━━━━━━━━\u001b[0m\u001b[37m\u001b[0m \u001b[1m1s\u001b[0m 77ms/step\n",
            "Test RMSE: 4.411346048095391\n",
            "Training with: look_back=12, epochs=50, batch_size=16, learning_rate=0.001, units=128\n"
          ]
        },
        {
          "output_type": "stream",
          "name": "stderr",
          "text": [
            "/usr/local/lib/python3.10/dist-packages/keras/src/layers/rnn/rnn.py:204: UserWarning: Do not pass an `input_shape`/`input_dim` argument to a layer. When using Sequential models, prefer using an `Input(shape)` object as the first layer in the model instead.\n",
            "  super().__init__(**kwargs)\n"
          ]
        },
        {
          "output_type": "stream",
          "name": "stdout",
          "text": [
            "\u001b[1m5/5\u001b[0m \u001b[32m━━━━━━━━━━━━━━━━━━━━\u001b[0m\u001b[37m\u001b[0m \u001b[1m1s\u001b[0m 88ms/step\n",
            "Test RMSE: 3.3910191438275095\n",
            "Training with: look_back=12, epochs=50, batch_size=16, learning_rate=0.01, units=64\n"
          ]
        },
        {
          "output_type": "stream",
          "name": "stderr",
          "text": [
            "/usr/local/lib/python3.10/dist-packages/keras/src/layers/rnn/rnn.py:204: UserWarning: Do not pass an `input_shape`/`input_dim` argument to a layer. When using Sequential models, prefer using an `Input(shape)` object as the first layer in the model instead.\n",
            "  super().__init__(**kwargs)\n"
          ]
        },
        {
          "output_type": "stream",
          "name": "stdout",
          "text": [
            "\u001b[1m5/5\u001b[0m \u001b[32m━━━━━━━━━━━━━━━━━━━━\u001b[0m\u001b[37m\u001b[0m \u001b[1m1s\u001b[0m 77ms/step\n",
            "Test RMSE: 2.696765021509037\n",
            "Training with: look_back=12, epochs=50, batch_size=16, learning_rate=0.01, units=128\n"
          ]
        },
        {
          "output_type": "stream",
          "name": "stderr",
          "text": [
            "/usr/local/lib/python3.10/dist-packages/keras/src/layers/rnn/rnn.py:204: UserWarning: Do not pass an `input_shape`/`input_dim` argument to a layer. When using Sequential models, prefer using an `Input(shape)` object as the first layer in the model instead.\n",
            "  super().__init__(**kwargs)\n"
          ]
        },
        {
          "output_type": "stream",
          "name": "stdout",
          "text": [
            "\u001b[1m5/5\u001b[0m \u001b[32m━━━━━━━━━━━━━━━━━━━━\u001b[0m\u001b[37m\u001b[0m \u001b[1m2s\u001b[0m 99ms/step\n",
            "Test RMSE: 2.8607975096163463\n",
            "Training with: look_back=12, epochs=50, batch_size=32, learning_rate=0.001, units=64\n"
          ]
        },
        {
          "output_type": "stream",
          "name": "stderr",
          "text": [
            "/usr/local/lib/python3.10/dist-packages/keras/src/layers/rnn/rnn.py:204: UserWarning: Do not pass an `input_shape`/`input_dim` argument to a layer. When using Sequential models, prefer using an `Input(shape)` object as the first layer in the model instead.\n",
            "  super().__init__(**kwargs)\n"
          ]
        },
        {
          "output_type": "stream",
          "name": "stdout",
          "text": [
            "\u001b[1m5/5\u001b[0m \u001b[32m━━━━━━━━━━━━━━━━━━━━\u001b[0m\u001b[37m\u001b[0m \u001b[1m1s\u001b[0m 75ms/step\n",
            "Test RMSE: 5.672873968262737\n",
            "Training with: look_back=12, epochs=50, batch_size=32, learning_rate=0.001, units=128\n"
          ]
        },
        {
          "output_type": "stream",
          "name": "stderr",
          "text": [
            "/usr/local/lib/python3.10/dist-packages/keras/src/layers/rnn/rnn.py:204: UserWarning: Do not pass an `input_shape`/`input_dim` argument to a layer. When using Sequential models, prefer using an `Input(shape)` object as the first layer in the model instead.\n",
            "  super().__init__(**kwargs)\n"
          ]
        },
        {
          "output_type": "stream",
          "name": "stdout",
          "text": [
            "\u001b[1m5/5\u001b[0m \u001b[32m━━━━━━━━━━━━━━━━━━━━\u001b[0m\u001b[37m\u001b[0m \u001b[1m1s\u001b[0m 124ms/step\n",
            "Test RMSE: 4.1685027006959725\n",
            "Training with: look_back=12, epochs=50, batch_size=32, learning_rate=0.01, units=64\n"
          ]
        },
        {
          "output_type": "stream",
          "name": "stderr",
          "text": [
            "/usr/local/lib/python3.10/dist-packages/keras/src/layers/rnn/rnn.py:204: UserWarning: Do not pass an `input_shape`/`input_dim` argument to a layer. When using Sequential models, prefer using an `Input(shape)` object as the first layer in the model instead.\n",
            "  super().__init__(**kwargs)\n"
          ]
        },
        {
          "output_type": "stream",
          "name": "stdout",
          "text": [
            "\u001b[1m5/5\u001b[0m \u001b[32m━━━━━━━━━━━━━━━━━━━━\u001b[0m\u001b[37m\u001b[0m \u001b[1m1s\u001b[0m 74ms/step\n",
            "Test RMSE: 3.049681269755631\n",
            "Training with: look_back=12, epochs=50, batch_size=32, learning_rate=0.01, units=128\n"
          ]
        },
        {
          "output_type": "stream",
          "name": "stderr",
          "text": [
            "/usr/local/lib/python3.10/dist-packages/keras/src/layers/rnn/rnn.py:204: UserWarning: Do not pass an `input_shape`/`input_dim` argument to a layer. When using Sequential models, prefer using an `Input(shape)` object as the first layer in the model instead.\n",
            "  super().__init__(**kwargs)\n"
          ]
        },
        {
          "output_type": "stream",
          "name": "stdout",
          "text": [
            "\u001b[1m5/5\u001b[0m \u001b[32m━━━━━━━━━━━━━━━━━━━━\u001b[0m\u001b[37m\u001b[0m \u001b[1m1s\u001b[0m 79ms/step\n",
            "Test RMSE: 2.642236029095383\n",
            "Training with: look_back=12, epochs=100, batch_size=16, learning_rate=0.001, units=64\n"
          ]
        },
        {
          "output_type": "stream",
          "name": "stderr",
          "text": [
            "/usr/local/lib/python3.10/dist-packages/keras/src/layers/rnn/rnn.py:204: UserWarning: Do not pass an `input_shape`/`input_dim` argument to a layer. When using Sequential models, prefer using an `Input(shape)` object as the first layer in the model instead.\n",
            "  super().__init__(**kwargs)\n"
          ]
        },
        {
          "output_type": "stream",
          "name": "stdout",
          "text": [
            "\u001b[1m5/5\u001b[0m \u001b[32m━━━━━━━━━━━━━━━━━━━━\u001b[0m\u001b[37m\u001b[0m \u001b[1m1s\u001b[0m 72ms/step\n",
            "Test RMSE: 3.9389306169117844\n",
            "Training with: look_back=12, epochs=100, batch_size=16, learning_rate=0.001, units=128\n"
          ]
        },
        {
          "output_type": "stream",
          "name": "stderr",
          "text": [
            "/usr/local/lib/python3.10/dist-packages/keras/src/layers/rnn/rnn.py:204: UserWarning: Do not pass an `input_shape`/`input_dim` argument to a layer. When using Sequential models, prefer using an `Input(shape)` object as the first layer in the model instead.\n",
            "  super().__init__(**kwargs)\n"
          ]
        },
        {
          "output_type": "stream",
          "name": "stdout",
          "text": [
            "\u001b[1m5/5\u001b[0m \u001b[32m━━━━━━━━━━━━━━━━━━━━\u001b[0m\u001b[37m\u001b[0m \u001b[1m1s\u001b[0m 78ms/step\n",
            "Test RMSE: 2.7220957518258277\n",
            "Training with: look_back=12, epochs=100, batch_size=16, learning_rate=0.01, units=64\n"
          ]
        },
        {
          "output_type": "stream",
          "name": "stderr",
          "text": [
            "/usr/local/lib/python3.10/dist-packages/keras/src/layers/rnn/rnn.py:204: UserWarning: Do not pass an `input_shape`/`input_dim` argument to a layer. When using Sequential models, prefer using an `Input(shape)` object as the first layer in the model instead.\n",
            "  super().__init__(**kwargs)\n"
          ]
        },
        {
          "output_type": "stream",
          "name": "stdout",
          "text": [
            "\u001b[1m5/5\u001b[0m \u001b[32m━━━━━━━━━━━━━━━━━━━━\u001b[0m\u001b[37m\u001b[0m \u001b[1m1s\u001b[0m 70ms/step\n",
            "Test RMSE: 2.5408461408590464\n",
            "Training with: look_back=12, epochs=100, batch_size=16, learning_rate=0.01, units=128\n"
          ]
        },
        {
          "output_type": "stream",
          "name": "stderr",
          "text": [
            "/usr/local/lib/python3.10/dist-packages/keras/src/layers/rnn/rnn.py:204: UserWarning: Do not pass an `input_shape`/`input_dim` argument to a layer. When using Sequential models, prefer using an `Input(shape)` object as the first layer in the model instead.\n",
            "  super().__init__(**kwargs)\n"
          ]
        },
        {
          "output_type": "stream",
          "name": "stdout",
          "text": [
            "\u001b[1m5/5\u001b[0m \u001b[32m━━━━━━━━━━━━━━━━━━━━\u001b[0m\u001b[37m\u001b[0m \u001b[1m1s\u001b[0m 78ms/step\n",
            "Test RMSE: 2.4409614517722797\n",
            "Training with: look_back=12, epochs=100, batch_size=32, learning_rate=0.001, units=64\n"
          ]
        },
        {
          "output_type": "stream",
          "name": "stderr",
          "text": [
            "/usr/local/lib/python3.10/dist-packages/keras/src/layers/rnn/rnn.py:204: UserWarning: Do not pass an `input_shape`/`input_dim` argument to a layer. When using Sequential models, prefer using an `Input(shape)` object as the first layer in the model instead.\n",
            "  super().__init__(**kwargs)\n"
          ]
        },
        {
          "output_type": "stream",
          "name": "stdout",
          "text": [
            "\u001b[1m5/5\u001b[0m \u001b[32m━━━━━━━━━━━━━━━━━━━━\u001b[0m\u001b[37m\u001b[0m \u001b[1m1s\u001b[0m 75ms/step\n",
            "Test RMSE: 3.046629793468051\n",
            "Training with: look_back=12, epochs=100, batch_size=32, learning_rate=0.001, units=128\n"
          ]
        },
        {
          "output_type": "stream",
          "name": "stderr",
          "text": [
            "/usr/local/lib/python3.10/dist-packages/keras/src/layers/rnn/rnn.py:204: UserWarning: Do not pass an `input_shape`/`input_dim` argument to a layer. When using Sequential models, prefer using an `Input(shape)` object as the first layer in the model instead.\n",
            "  super().__init__(**kwargs)\n"
          ]
        },
        {
          "output_type": "stream",
          "name": "stdout",
          "text": [
            "\u001b[1m5/5\u001b[0m \u001b[32m━━━━━━━━━━━━━━━━━━━━\u001b[0m\u001b[37m\u001b[0m \u001b[1m1s\u001b[0m 94ms/step\n",
            "Test RMSE: 3.053567141561501\n",
            "Training with: look_back=12, epochs=100, batch_size=32, learning_rate=0.01, units=64\n"
          ]
        },
        {
          "output_type": "stream",
          "name": "stderr",
          "text": [
            "/usr/local/lib/python3.10/dist-packages/keras/src/layers/rnn/rnn.py:204: UserWarning: Do not pass an `input_shape`/`input_dim` argument to a layer. When using Sequential models, prefer using an `Input(shape)` object as the first layer in the model instead.\n",
            "  super().__init__(**kwargs)\n"
          ]
        },
        {
          "output_type": "stream",
          "name": "stdout",
          "text": [
            "\u001b[1m5/5\u001b[0m \u001b[32m━━━━━━━━━━━━━━━━━━━━\u001b[0m\u001b[37m\u001b[0m \u001b[1m1s\u001b[0m 81ms/step\n",
            "Test RMSE: 2.642602979538125\n",
            "Training with: look_back=12, epochs=100, batch_size=32, learning_rate=0.01, units=128\n"
          ]
        },
        {
          "output_type": "stream",
          "name": "stderr",
          "text": [
            "/usr/local/lib/python3.10/dist-packages/keras/src/layers/rnn/rnn.py:204: UserWarning: Do not pass an `input_shape`/`input_dim` argument to a layer. When using Sequential models, prefer using an `Input(shape)` object as the first layer in the model instead.\n",
            "  super().__init__(**kwargs)\n"
          ]
        },
        {
          "output_type": "stream",
          "name": "stdout",
          "text": [
            "\u001b[1m5/5\u001b[0m \u001b[32m━━━━━━━━━━━━━━━━━━━━\u001b[0m\u001b[37m\u001b[0m \u001b[1m1s\u001b[0m 82ms/step\n",
            "Test RMSE: 2.534954294648524\n",
            "Best Hyperparameters:\n",
            "{'look_back': 6, 'epochs': 100, 'batch_size': 16, 'learning_rate': 0.01, 'units': 128, 'test_rmse': 2.4264342108402537}\n"
          ]
        }
      ]
    }
  ]
}