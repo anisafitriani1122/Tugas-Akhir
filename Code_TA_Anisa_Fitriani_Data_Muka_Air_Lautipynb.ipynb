{
  "cells": [
    {
      "cell_type": "markdown",
      "metadata": {
        "id": "view-in-github",
        "colab_type": "text"
      },
      "source": [
        "<a href=\"https://colab.research.google.com/github/anisafitriani1122/Tugas-Akhir/blob/main/Code_TA_Anisa_Fitriani_Data_Muka_Air_Lautipynb.ipynb\" target=\"_parent\"><img src=\"https://colab.research.google.com/assets/colab-badge.svg\" alt=\"Open In Colab\"/></a>"
      ]
    },
    {
      "cell_type": "code",
      "execution_count": null,
      "metadata": {
        "id": "K3riYC5gxzbZ"
      },
      "outputs": [],
      "source": [
        "import numpy as np\n",
        "import matplotlib.pyplot as plt\n",
        "import pandas as pd\n",
        "import math\n",
        "from keras.models import Sequential\n",
        "from keras.layers import Dense\n",
        "from keras.layers import LSTM\n",
        "from sklearn.preprocessing import MinMaxScaler\n",
        "from sklearn.metrics import mean_squared_error\n",
        "from sklearn.metrics import r2_score\n",
        ".from tensorflow.keras.optimizers import Adam"
      ]
    },
    {
      "cell_type": "code",
      "execution_count": null,
      "metadata": {
        "colab": {
          "base_uri": "https://localhost:8080/"
        },
        "id": "ZkFRnvUd2uBs",
        "outputId": "d4cde848-4694-4881-db70-ecb5a7fc83c6"
      },
      "outputs": [
        {
          "output_type": "stream",
          "name": "stdout",
          "text": [
            "5 Baris Pertama dari Kolom 'Sea Level':\n",
            "0   -92.37\n",
            "1   -93.05\n",
            "2   -95.67\n",
            "3   -93.19\n",
            "4   -88.16\n",
            "Name: Sea Level, dtype: float64\n",
            "\n",
            "Statistik Deskriptif 'Sea Level':\n",
            "count    799.000000\n",
            "mean     -52.933605\n",
            "std       32.608162\n",
            "min     -130.000000\n",
            "25%      -79.280000\n",
            "50%      -50.800000\n",
            "75%      -26.965000\n",
            "max       19.020000\n",
            "Name: Sea Level, dtype: float64\n"
          ]
        }
      ],
      "source": [
        "# Import Dataset\n",
        "link = 'https://docs.google.com/spreadsheets/d/e/2PACX-1vQ0TPR_Xrr_fby5jFa7L69qZUg-Pf-w5oFjkYVVhwjRLUw9AhA50pyUL60sjAj6AH9jGuqre78IV3MZ/pub?output=xlsx'\n",
        "\n",
        "# Membaca file Excel dari URL dan memuatnya sebagai DataFrame Pandas\n",
        "data = pd.read_excel(link)\n",
        "# Mengambil kolom 'Sea Level' dari DataFrame\n",
        "sea_level_data = data['Sea Level']\n",
        "\n",
        "# Menampilkan 5 baris pertama dari kolom 'Sea Level'\n",
        "print(\"5 Baris Pertama dari Kolom 'Sea Level':\")\n",
        "print(sea_level_data.head())\n",
        "\n",
        "# Menampilkan statistik deskriptif dari kolom 'Sea Level'\n",
        "print(\"\\nStatistik Deskriptif 'Sea Level':\")\n",
        "print(sea_level_data.describe())\n",
        "\n",
        "# Mengambil kolom 'Sea Level' dari DataFrame dan mengubahnya menjadi array NumPy\n",
        "dataset = data['Sea Level'].values\n",
        "\n",
        "# Mengonversi array NumPy ke tipe data float32\n",
        "dataset = dataset.astype('float32')"
      ]
    },
    {
      "cell_type": "code",
      "execution_count": null,
      "metadata": {
        "colab": {
          "base_uri": "https://localhost:8080/"
        },
        "id": "UWR-h-Kx3ANP",
        "outputId": "83aa3c46-488a-421c-f214-10eeb20f5472"
      },
      "outputs": [
        {
          "output_type": "stream",
          "name": "stdout",
          "text": [
            "[[0.2525164 ]\n",
            " [0.24795324]\n",
            " [0.23037177]\n",
            " [0.2470138 ]\n",
            " [0.28076762]\n",
            " [0.29116893]\n",
            " [0.28533077]\n",
            " [0.29210842]\n",
            " [0.3365991 ]\n",
            " [0.4194739 ]\n",
            " [0.5055026 ]\n",
            " [0.59347737]\n",
            " [0.6603811 ]\n",
            " [0.6962152 ]\n",
            " [0.7197691 ]\n",
            " [0.7156086 ]\n",
            " [0.73238486]\n",
            " [0.7696953 ]\n",
            " [0.7850624 ]\n",
            " [0.7751308 ]\n",
            " [0.78056633]\n",
            " [0.78674   ]\n",
            " [0.81130046]\n",
            " [0.8149241 ]\n",
            " [0.83008987]\n",
            " [0.818682  ]\n",
            " [0.79022944]\n",
            " [0.7635887 ]\n",
            " [0.73339146]\n",
            " [0.71332705]\n",
            " [0.68916917]\n",
            " [0.6564219 ]\n",
            " [0.62877464]\n",
            " [0.6089115 ]\n",
            " [0.6095154 ]\n",
            " [0.5931418 ]\n",
            " [0.5521406 ]\n",
            " [0.54227614]\n",
            " [0.5312709 ]\n",
            " [0.5101999 ]\n",
            " [0.4875855 ]\n",
            " [0.47866055]\n",
            " [0.47577503]\n",
            " [0.45732114]\n",
            " [0.44490668]\n",
            " [0.4353107 ]\n",
            " [0.43115014]\n",
            " [0.41403833]\n",
            " [0.3752516 ]\n",
            " [0.37323847]\n",
            " [0.37746608]\n",
            " [0.37659374]\n",
            " [0.39498052]\n",
            " [0.40343577]\n",
            " [0.42054752]\n",
            " [0.43739092]\n",
            " [0.45772377]\n",
            " [0.47785527]\n",
            " [0.49369207]\n",
            " [0.5187223 ]\n",
            " [0.5525433 ]\n",
            " [0.54858404]\n",
            " [0.5362367 ]\n",
            " [0.53831697]\n",
            " [0.590055  ]\n",
            " [0.6038115 ]\n",
            " [0.5922694 ]\n",
            " [0.5783787 ]\n",
            " [0.5750905 ]\n",
            " [0.5772379 ]\n",
            " [0.5752919 ]\n",
            " [0.5233525 ]\n",
            " [0.4474567 ]\n",
            " [0.42953965]\n",
            " [0.42477518]\n",
            " [0.40169102]\n",
            " [0.3578043 ]\n",
            " [0.3198899 ]\n",
            " [0.27560055]\n",
            " [0.26721245]\n",
            " [0.2945242 ]\n",
            " [0.32123202]\n",
            " [0.31371623]\n",
            " [0.3198899 ]\n",
            " [0.3345859 ]\n",
            " [0.3921621 ]\n",
            " [0.41571596]\n",
            " [0.4375251 ]\n",
            " [0.48302236]\n",
            " [0.4902026 ]\n",
            " [0.48483422]\n",
            " [0.5480472 ]\n",
            " [0.6259562 ]\n",
            " [0.65809953]\n",
            " [0.6627969 ]\n",
            " [0.6709166 ]\n",
            " [0.69124943]\n",
            " [0.7162125 ]\n",
            " [0.7290296 ]\n",
            " [0.74399406]\n",
            " [0.76781636]\n",
            " [0.7929808 ]\n",
            " [0.8057307 ]\n",
            " [0.80096626]\n",
            " [0.7894913 ]\n",
            " [0.78875315]\n",
            " [0.7819084 ]\n",
            " [0.7670111 ]\n",
            " [0.76748085]\n",
            " [0.784861  ]\n",
            " [0.79553074]\n",
            " [0.811032  ]\n",
            " [0.78754526]\n",
            " [0.752919  ]\n",
            " [0.72923094]\n",
            " [0.7080257 ]\n",
            " [0.67849946]\n",
            " [0.64367193]\n",
            " [0.6140786 ]\n",
            " [0.58931684]\n",
            " [0.56703794]\n",
            " [0.5359683 ]\n",
            " [0.51355517]\n",
            " [0.49000132]\n",
            " [0.45195273]\n",
            " [0.4212857 ]\n",
            " [0.43161988]\n",
            " [0.45678428]\n",
            " [0.4595356 ]\n",
            " [0.45242244]\n",
            " [0.42477518]\n",
            " [0.40356997]\n",
            " [0.38618976]\n",
            " [0.3687424 ]\n",
            " [0.34028983]\n",
            " [0.33418334]\n",
            " [0.34042412]\n",
            " [0.3515635 ]\n",
            " [0.36726612]\n",
            " [0.34626222]\n",
            " [0.31217283]\n",
            " [0.30089915]\n",
            " [0.31720567]\n",
            " [0.3540464 ]\n",
            " [0.3477385 ]\n",
            " [0.3067373 ]\n",
            " [0.30096626]\n",
            " [0.319286  ]\n",
            " [0.33639777]\n",
            " [0.33378065]\n",
            " [0.2923097 ]\n",
            " [0.28096896]\n",
            " [0.29096764]\n",
            " [0.31720567]\n",
            " [0.31921887]\n",
            " [0.29975837]\n",
            " [0.27432555]\n",
            " [0.25426114]\n",
            " [0.24312174]\n",
            " [0.20742184]\n",
            " [0.1921218 ]\n",
            " [0.16689032]\n",
            " [0.12568784]\n",
            " [0.1374312 ]\n",
            " [0.1637364 ]\n",
            " [0.18427056]\n",
            " [0.1809153 ]\n",
            " [0.16266268]\n",
            " [0.1442759 ]\n",
            " [0.13816935]\n",
            " [0.12105757]\n",
            " [0.10320759]\n",
            " [0.12776804]\n",
            " [0.16413903]\n",
            " [0.17729157]\n",
            " [0.1994363 ]\n",
            " [0.24828881]\n",
            " [0.29284656]\n",
            " [0.34653062]\n",
            " [0.4339015 ]\n",
            " [0.5815326 ]\n",
            " [0.6752113 ]\n",
            " [0.7597637 ]\n",
            " [0.7964702 ]\n",
            " [0.81183726]\n",
            " [0.788015  ]\n",
            " [0.7503019 ]\n",
            " [0.7475506 ]\n",
            " [0.7538585 ]\n",
            " [0.7531203 ]\n",
            " [0.7704334 ]\n",
            " [0.7764729 ]\n",
            " [0.7629177 ]\n",
            " [0.7107099 ]\n",
            " [0.6442759 ]\n",
            " [0.61770225]\n",
            " [0.6079049 ]\n",
            " [0.5956918 ]\n",
            " [0.59488654]\n",
            " [0.65058374]\n",
            " [0.68762577]\n",
            " [0.71104544]\n",
            " [0.71493757]\n",
            " [0.6955442 ]\n",
            " [0.67232585]\n",
            " [0.66850084]\n",
            " [0.67796266]\n",
            " [0.67037976]\n",
            " [0.6495772 ]\n",
            " [0.60998523]\n",
            " [0.5668366 ]\n",
            " [0.5559656 ]\n",
            " [0.53717613]\n",
            " [0.50731444]\n",
            " [0.51449466]\n",
            " [0.53630376]\n",
            " [0.5769024 ]\n",
            " [0.6150181 ]\n",
            " [0.6574285 ]\n",
            " [0.7150046 ]\n",
            " [0.77902293]\n",
            " [0.79378605]\n",
            " [0.7894242 ]\n",
            " [0.7911689 ]\n",
            " [0.81277674]\n",
            " [0.8158636 ]\n",
            " [0.8276741 ]\n",
            " [0.8174741 ]\n",
            " [0.81156886]\n",
            " [0.7941886 ]\n",
            " [0.7833176 ]\n",
            " [0.77909   ]\n",
            " [0.7409743 ]\n",
            " [0.6929942 ]\n",
            " [0.6702455 ]\n",
            " [0.6483022 ]\n",
            " [0.6387062 ]\n",
            " [0.6348812 ]\n",
            " [0.63031805]\n",
            " [0.61817205]\n",
            " [0.60119444]\n",
            " [0.5602603 ]\n",
            " [0.5208696 ]\n",
            " [0.4806737 ]\n",
            " [0.46235403]\n",
            " [0.4713461 ]\n",
            " [0.48114344]\n",
            " [0.46966848]\n",
            " [0.45128167]\n",
            " [0.4555764 ]\n",
            " [0.47335926]\n",
            " [0.48751843]\n",
            " [0.5030868 ]\n",
            " [0.5118104 ]\n",
            " [0.5107368 ]\n",
            " [0.51187754]\n",
            " [0.5252315 ]\n",
            " [0.50221443]\n",
            " [0.47651318]\n",
            " [0.4703395 ]\n",
            " [0.44168565]\n",
            " [0.42014492]\n",
            " [0.4424238 ]\n",
            " [0.4620856 ]\n",
            " [0.49550393]\n",
            " [0.51664203]\n",
            " [0.51194465]\n",
            " [0.5122131 ]\n",
            " [0.5227486 ]\n",
            " [0.5324117 ]\n",
            " [0.5469064 ]\n",
            " [0.5471748 ]\n",
            " [0.538988  ]\n",
            " [0.5371091 ]\n",
            " [0.53361964]\n",
            " [0.53885376]\n",
            " [0.5581801 ]\n",
            " [0.5704603 ]\n",
            " [0.5697222 ]\n",
            " [0.5591196 ]\n",
            " [0.56804454]\n",
            " [0.5718695 ]\n",
            " [0.5532814 ]\n",
            " [0.5346262 ]\n",
            " [0.5267749 ]\n",
            " [0.51483023]\n",
            " [0.51798415]\n",
            " [0.5140249 ]\n",
            " [0.50026834]\n",
            " [0.5011407 ]\n",
            " [0.5528117 ]\n",
            " [0.58643126]\n",
            " [0.6300496 ]\n",
            " [0.6479667 ]\n",
            " [0.6671587 ]\n",
            " [0.6886995 ]\n",
            " [0.71104544]\n",
            " [0.71580994]\n",
            " [0.720977  ]\n",
            " [0.751644  ]\n",
            " [0.77808344]\n",
            " [0.76909137]\n",
            " [0.7486243 ]\n",
            " [0.753523  ]\n",
            " [0.7744597 ]\n",
            " [0.7888874 ]\n",
            " [0.79955703]\n",
            " [0.7868742 ]\n",
            " [0.7697624 ]\n",
            " [0.7511072 ]\n",
            " [0.7569453 ]\n",
            " [0.7541269 ]\n",
            " [0.7553348 ]\n",
            " [0.7306401 ]\n",
            " [0.7052073 ]\n",
            " [0.6831297 ]\n",
            " [0.66749424]\n",
            " [0.6548785 ]\n",
            " [0.6524627 ]\n",
            " [0.661589  ]\n",
            " [0.6821903 ]\n",
            " [0.68708897]\n",
            " [0.6721245 ]\n",
            " [0.6570259 ]\n",
            " [0.6408535 ]\n",
            " [0.6251509 ]\n",
            " [0.59334314]\n",
            " [0.53932357]\n",
            " [0.52509725]\n",
            " [0.528721  ]\n",
            " [0.5234196 ]\n",
            " [0.4503422 ]\n",
            " [0.3933029 ]\n",
            " [0.3702187 ]\n",
            " [0.37659374]\n",
            " [0.36599112]\n",
            " [0.34700036]\n",
            " [0.33767277]\n",
            " [0.32592934]\n",
            " [0.3231781 ]\n",
            " [0.29566497]\n",
            " [0.27962685]\n",
            " [0.26935977]\n",
            " [0.26238084]\n",
            " [0.24869138]\n",
            " [0.2376191 ]\n",
            " [0.22674805]\n",
            " [0.21594417]\n",
            " [0.21627969]\n",
            " [0.2128573 ]\n",
            " [0.22178233]\n",
            " [0.23473358]\n",
            " [0.23137832]\n",
            " [0.2262783 ]\n",
            " [0.20339549]\n",
            " [0.18937051]\n",
            " [0.19762444]\n",
            " [0.21111256]\n",
            " [0.20191914]\n",
            " [0.16521269]\n",
            " [0.12924439]\n",
            " [0.11233389]\n",
            " [0.10797203]\n",
            " [0.1001879 ]\n",
            " [0.07032615]\n",
            " [0.05938798]\n",
            " [0.06670243]\n",
            " [0.07106423]\n",
            " [0.06717217]\n",
            " [0.03757882]\n",
            " [0.04147094]\n",
            " [0.04744327]\n",
            " [0.10126156]\n",
            " [0.21648097]\n",
            " [0.29573208]\n",
            " [0.32834518]\n",
            " [0.36760163]\n",
            " [0.41283044]\n",
            " [0.46181718]\n",
            " [0.51100516]\n",
            " [0.53321695]\n",
            " [0.62810355]\n",
            " [0.6387062 ]\n",
            " [0.69031   ]\n",
            " [0.7425848 ]\n",
            " [0.7741913 ]\n",
            " [0.7829821 ]\n",
            " [0.7957992 ]\n",
            " [0.84324247]\n",
            " [0.91041464]\n",
            " [0.94309485]\n",
            " [0.9569856 ]\n",
            " [0.9612803 ]\n",
            " [0.9802039 ]\n",
            " [0.99999994]\n",
            " [0.99221575]\n",
            " [0.9817473 ]\n",
            " [0.9914776 ]\n",
            " [0.9967789 ]\n",
            " [0.9560461 ]\n",
            " [0.90524757]\n",
            " [0.8602201 ]\n",
            " [0.8490135 ]\n",
            " [0.8501543 ]\n",
            " [0.8443161 ]\n",
            " [0.803986  ]\n",
            " [0.749698  ]\n",
            " [0.71580994]\n",
            " [0.6782982 ]\n",
            " [0.6899744 ]\n",
            " [0.74620855]\n",
            " [0.7685545 ]\n",
            " [0.74822164]\n",
            " [0.73453224]\n",
            " [0.72668093]\n",
            " [0.72668093]\n",
            " [0.7211112 ]\n",
            " [0.7441282 ]\n",
            " [0.7174876 ]\n",
            " [0.62394303]\n",
            " [0.52878803]\n",
            " [0.522413  ]\n",
            " [0.5283854 ]\n",
            " [0.5314722 ]\n",
            " [0.54388666]\n",
            " [0.5559656 ]\n",
            " [0.5693866 ]\n",
            " [0.5697893 ]\n",
            " [0.575359  ]\n",
            " [0.57623136]\n",
            " [0.5672393 ]\n",
            " [0.5487182 ]\n",
            " [0.50436175]\n",
            " [0.4424238 ]\n",
            " [0.4436317 ]\n",
            " [0.44940275]\n",
            " [0.4068581 ]\n",
            " [0.34659773]\n",
            " [0.29841632]\n",
            " [0.27472824]\n",
            " [0.25405985]\n",
            " [0.2523151 ]\n",
            " [0.2494967 ]\n",
            " [0.26627296]\n",
            " [0.2945913 ]\n",
            " [0.31284392]\n",
            " [0.31338072]\n",
            " [0.28835052]\n",
            " [0.24245065]\n",
            " [0.23359275]\n",
            " [0.22956645]\n",
            " [0.23211646]\n",
            " [0.219702  ]\n",
            " [0.20138234]\n",
            " [0.2016508 ]\n",
            " [0.20178497]\n",
            " [0.18232447]\n",
            " [0.20762312]\n",
            " [0.25942826]\n",
            " [0.27056766]\n",
            " [0.27862024]\n",
            " [0.29345053]\n",
            " [0.38471344]\n",
            " [0.5092604 ]\n",
            " [0.5709971 ]\n",
            " [0.59495366]\n",
            " [0.6191786 ]\n",
            " [0.703127  ]\n",
            " [0.8098241 ]\n",
            " [0.86042136]\n",
            " [0.8592806 ]\n",
            " [0.8351899 ]\n",
            " [0.7945913 ]\n",
            " [0.79593337]\n",
            " [0.8449201 ]\n",
            " [0.8684069 ]\n",
            " [0.85639507]\n",
            " [0.83686745]\n",
            " [0.83096224]\n",
            " [0.8170044 ]\n",
            " [0.8252583 ]\n",
            " [0.8289491 ]\n",
            " [0.82337934]\n",
            " [0.8251912 ]\n",
            " [0.80559653]\n",
            " [0.760569  ]\n",
            " [0.7403704 ]\n",
            " [0.73231775]\n",
            " [0.72023886]\n",
            " [0.6889679 ]\n",
            " [0.6640048 ]\n",
            " [0.66286397]\n",
            " [0.6355522 ]\n",
            " [0.61092466]\n",
            " [0.6295128 ]\n",
            " [0.6509193 ]\n",
            " [0.6294457 ]\n",
            " [0.61307204]\n",
            " [0.602872  ]\n",
            " [0.5879747 ]\n",
            " [0.57119846]\n",
            " [0.5719366 ]\n",
            " [0.5803919 ]\n",
            " [0.5487853 ]\n",
            " [0.54180646]\n",
            " [0.53167355]\n",
            " [0.51134074]\n",
            " [0.48121053]\n",
            " [0.48134476]\n",
            " [0.5042276 ]\n",
            " [0.5465038 ]\n",
            " [0.56703794]\n",
            " [0.5838142 ]\n",
            " [0.6037444 ]\n",
            " [0.6083076 ]\n",
            " [0.6089115 ]\n",
            " [0.61313915]\n",
            " [0.6104549 ]\n",
            " [0.5875721 ]\n",
            " [0.5662327 ]\n",
            " [0.5487182 ]\n",
            " [0.53106964]\n",
            " [0.50785124]\n",
            " [0.46295798]\n",
            " [0.39706075]\n",
            " [0.37444636]\n",
            " [0.34934902]\n",
            " [0.302711  ]\n",
            " [0.24647695]\n",
            " [0.25439537]\n",
            " [0.2811703 ]\n",
            " [0.3661924 ]\n",
            " [0.35740167]\n",
            " [0.32686883]\n",
            " [0.32982147]\n",
            " [0.37900952]\n",
            " [0.38853842]\n",
            " [0.38572   ]\n",
            " [0.3618977 ]\n",
            " [0.28915578]\n",
            " [0.25265062]\n",
            " [0.2647295 ]\n",
            " [0.29593337]\n",
            " [0.3318346 ]\n",
            " [0.28452557]\n",
            " [0.26761502]\n",
            " [0.26721245]\n",
            " [0.26499796]\n",
            " [0.26788348]\n",
            " [0.28754526]\n",
            " [0.30606627]\n",
            " [0.3312307 ]\n",
            " [0.39008182]\n",
            " [0.55106694]\n",
            " [0.49167892]\n",
            " [0.52878803]\n",
            " [0.56556165]\n",
            " [0.6357536 ]\n",
            " [0.6923902 ]\n",
            " [0.7256744 ]\n",
            " [0.7587572 ]\n",
            " [0.7855992 ]\n",
            " [0.7656019 ]\n",
            " [0.7186954 ]\n",
            " [0.68574685]\n",
            " [0.6623272 ]\n",
            " [0.6077036 ]\n",
            " [0.5375788 ]\n",
            " [0.48671314]\n",
            " [0.4500067 ]\n",
            " [0.43235803]\n",
            " [0.43510932]\n",
            " [0.42611727]\n",
            " [0.40759626]\n",
            " [0.41108572]\n",
            " [0.40591863]\n",
            " [0.4221581 ]\n",
            " [0.48423028]\n",
            " [0.53952485]\n",
            " [0.60958254]\n",
            " [0.67386925]\n",
            " [0.7278217 ]\n",
            " [0.80029523]\n",
            " [0.82874775]\n",
            " [0.83223724]\n",
            " [0.84283984]\n",
            " [0.8476043 ]\n",
            " [0.8389477 ]\n",
            " [0.8190175 ]\n",
            " [0.8104952 ]\n",
            " [0.8164675 ]\n",
            " [0.8177425 ]\n",
            " [0.8358609 ]\n",
            " [0.8004294 ]\n",
            " [0.7313783 ]\n",
            " [0.716481  ]\n",
            " [0.7405717 ]\n",
            " [0.77439266]\n",
            " [0.8051939 ]\n",
            " [0.8176083 ]\n",
            " [0.80378467]\n",
            " [0.7615756 ]\n",
            " [0.7211112 ]\n",
            " [0.6849416 ]\n",
            " [0.65944165]\n",
            " [0.6420614 ]\n",
            " [0.61112595]\n",
            " [0.57931817]\n",
            " [0.55140245]\n",
            " [0.5390551 ]\n",
            " [0.50758284]\n",
            " [0.48080793]\n",
            " [0.448933  ]\n",
            " [0.42853305]\n",
            " [0.44410142]\n",
            " [0.4598711 ]\n",
            " [0.45718694]\n",
            " [0.4441685 ]\n",
            " [0.4504093 ]\n",
            " [0.45926717]\n",
            " [0.46832636]\n",
            " [0.48933023]\n",
            " [0.4940276 ]\n",
            " [0.49201447]\n",
            " [0.48886052]\n",
            " [0.47302374]\n",
            " [0.4551738 ]\n",
            " [0.49214867]\n",
            " [0.49859074]\n",
            " [0.48080793]\n",
            " [0.4685948 ]\n",
            " [0.46322638]\n",
            " [0.44007513]\n",
            " [0.41269624]\n",
            " [0.3937726 ]\n",
            " [0.38645813]\n",
            " [0.36357534]\n",
            " [0.32874775]\n",
            " [0.2964031 ]\n",
            " [0.29237682]\n",
            " [0.2976781 ]\n",
            " [0.28533077]\n",
            " [0.27754658]\n",
            " [0.2995571 ]\n",
            " [0.31532675]\n",
            " [0.3249228 ]\n",
            " [0.33042538]\n",
            " [0.32606357]\n",
            " [0.31062943]\n",
            " [0.2585559 ]\n",
            " [0.24963087]\n",
            " [0.24808747]\n",
            " [0.23620987]\n",
            " [0.21339417]\n",
            " [0.17917055]\n",
            " [0.15038252]\n",
            " [0.13092202]\n",
            " [0.10401285]\n",
            " [0.06562877]\n",
            " [0.04905379]\n",
            " [0.0359683 ]\n",
            " [0.04160511]\n",
            " [0.03690779]\n",
            " [0.04267883]\n",
            " [0.06831294]\n",
            " [0.10052341]\n",
            " [0.16628635]\n",
            " [0.2679506 ]\n",
            " [0.37679502]\n",
            " [0.50644207]\n",
            " [0.622668  ]\n",
            " [0.69158494]\n",
            " [0.7633203 ]\n",
            " [0.8063347 ]\n",
            " [0.83599514]\n",
            " [0.85317403]\n",
            " [0.85250294]\n",
            " [0.8749161 ]\n",
            " [0.86813843]\n",
            " [0.8395517 ]\n",
            " [0.8107636 ]\n",
            " [0.758019  ]\n",
            " [0.7046705 ]\n",
            " [0.6752784 ]\n",
            " [0.6458864 ]\n",
            " [0.6104549 ]\n",
            " [0.5762985 ]\n",
            " [0.55113405]\n",
            " [0.5665011 ]\n",
            " [0.56925243]\n",
            " [0.5844182 ]\n",
            " [0.5947523 ]\n",
            " [0.61414576]\n",
            " [0.636022  ]\n",
            " [0.653939  ]\n",
            " [0.6640719 ]\n",
            " [0.68353236]\n",
            " [0.7603677 ]\n",
            " [0.75828743]\n",
            " [0.7584888 ]\n",
            " [0.7425848 ]\n",
            " [0.7317809 ]\n",
            " [0.70050997]\n",
            " [0.63790095]\n",
            " [0.5917326 ]\n",
            " [0.59213525]\n",
            " [0.6081734 ]\n",
            " [0.6313917 ]\n",
            " [0.61622596]\n",
            " [0.59958386]\n",
            " [0.5962286 ]\n",
            " [0.62622464]\n",
            " [0.6496443 ]\n",
            " [0.67131925]\n",
            " [0.6853442 ]\n",
            " [0.7103073 ]\n",
            " [0.6611864 ]\n",
            " [0.65306664]\n",
            " [0.65440875]\n",
            " [0.65407324]\n",
            " [0.68856525]\n",
            " [0.6921889 ]\n",
            " [0.6958797 ]\n",
            " [0.68574685]\n",
            " [0.6493759 ]\n",
            " [0.6144141 ]\n",
            " [0.5797879 ]\n",
            " [0.5330827 ]\n",
            " [0.46899742]\n",
            " [0.43913567]\n",
            " [0.4135686 ]\n",
            " [0.33518988]\n",
            " [0.33176756]\n",
            " [0.34391356]\n",
            " [0.35418063]\n",
            " [0.33606225]\n",
            " [0.33606225]\n",
            " [0.34505433]\n",
            " [0.352503  ]\n",
            " [0.35894507]\n",
            " [0.323111  ]\n",
            " [0.3249228 ]\n",
            " [0.3443833 ]\n",
            " [0.37290293]\n",
            " [0.39149103]\n",
            " [0.40350282]\n",
            " [0.41571596]\n",
            " [0.42953965]\n",
            " [0.42484224]\n",
            " [0.3990068 ]\n",
            " [0.3856529 ]\n",
            " [0.39323577]\n",
            " [0.40095285]\n",
            " [0.39585286]\n",
            " [0.38511604]\n",
            " [0.38236478]\n",
            " [0.37169504]\n",
            " [0.34793985]\n",
            " [0.31452155]\n",
            " [0.27868736]\n",
            " [0.25620717]\n",
            " [0.24560457]\n",
            " [0.2201047 ]\n",
            " [0.22003758]\n",
            " [0.24493355]\n",
            " [0.24365854]\n",
            " [0.22809017]\n",
            " [0.20151657]\n",
            " [0.18742448]\n",
            " [0.14997983]\n",
            " [0.11951411]\n",
            " [0.10112733]\n",
            " [0.07240635]\n",
            " [0.0344249 ]\n",
            " [0.        ]\n",
            " [0.0086565 ]\n",
            " [0.02744591]\n",
            " [0.07643265]\n",
            " [0.09126288]\n",
            " [0.08723658]\n",
            " [0.10837471]\n",
            " [0.1460877 ]\n",
            " [0.2118507 ]\n",
            " [0.29472548]\n",
            " [0.36256874]\n",
            " [0.43900144]\n",
            " [0.5387196 ]\n",
            " [0.6295128 ]\n",
            " [0.7168165 ]\n",
            " [0.7945242 ]\n",
            " [0.8245872 ]\n",
            " [0.83626354]\n",
            " [0.8589451 ]\n",
            " [0.8723661 ]\n",
            " [0.8849818 ]\n",
            " [0.89612126]\n",
            " [0.9123607 ]\n",
            " [0.9241712 ]\n",
            " [0.93249226]]\n"
          ]
        }
      ],
      "source": [
        "# Normalisasi Data\n",
        "scaler = MinMaxScaler(feature_range=(0, 1))  # Menentukan rentang nilai output normalisasi (0 hingga 1)\n",
        "dataset = np.reshape(dataset, (-1, 1))  # Mengubah array dataset menjadi array 2 dimensi dengan satu kolom\n",
        "dataset = scaler.fit_transform(dataset)  # Normalisasi data agar nilainya berada dalam rentang 0 hingga 1\n",
        "\n",
        "# Menampilkan dataset yang telah dinormalisasi\n",
        "print(dataset)"
      ]
    },
    {
      "cell_type": "code",
      "execution_count": null,
      "metadata": {
        "colab": {
          "base_uri": "https://localhost:8080/"
        },
        "id": "LFKH4PIcuTTf",
        "outputId": "dfe4ad7d-4ad3-4a7c-e6a2-6ef8eb36f0d6"
      },
      "outputs": [
        {
          "output_type": "stream",
          "name": "stdout",
          "text": [
            "639 160\n"
          ]
        }
      ],
      "source": [
        "# Bagi Data Menjadi Training dan Testing\n",
        "train_size = int(len(dataset) * 0.80)\n",
        "test_size = len(dataset) - train_size\n",
        "train, test = dataset[0:train_size,:], dataset[train_size:len(dataset),:]\n",
        "print(len(train), len(test))"
      ]
    },
    {
      "cell_type": "code",
      "execution_count": null,
      "metadata": {
        "id": "ZF-CW2FFM4Zs"
      },
      "outputs": [],
      "source": [
        "# Fungsi untuk Membuat Dataset untuk LSTM\n",
        "def create_dataset(dataset, look_back=1):\n",
        "    dataX, dataY = [], []\n",
        "    for i in range(len(dataset)-look_back-1):\n",
        "        a = dataset[i:(i+look_back), 0]\n",
        "        dataX.append(a)\n",
        "        dataY.append(dataset[i + look_back, 0])\n",
        "    return np.array(dataX), np.array(dataY)\n",
        "\n",
        "look_back = 6  # Jumlah langkah waktu yang digunakan untuk prediksi\n",
        "trainX, trainY = create_dataset(train, look_back)\n",
        "testX, testY = create_dataset(test, look_back)"
      ]
    },
    {
      "cell_type": "code",
      "execution_count": null,
      "metadata": {
        "id": "4pKYF0qSNdiW"
      },
      "outputs": [],
      "source": [
        "# Reshape input untuk LSTM (samples, timesteps, features)\n",
        "trainX = np.reshape(trainX, (trainX.shape[0], trainX.shape[1], 1))\n",
        "testX = np.reshape(testX, (testX.shape[0], testX.shape[1], 1))"
      ]
    },
    {
      "cell_type": "code",
      "execution_count": null,
      "metadata": {
        "id": "17g6G8TMNy9O"
      },
      "outputs": [],
      "source": [
        "# Hyperparameter yang akan dituning selain look_back\n",
        "epochs = 100          #[50, 100]\n",
        "batch_size = 32       #[16, 32]\n",
        "learning_rate = 0.01   #[0.001, 0.01]\n",
        "units = 128           #[64, 128]\n",
        "\n",
        "# Model LSTM\n",
        "model = Sequential()\n",
        "model.add(LSTM(units=units, return_sequences=True, input_shape=(look_back, 1)))\n",
        "model.add(LSTM(units=units))\n",
        "model.add(Dense(1))\n"
      ]
    },
    {
      "cell_type": "code",
      "execution_count": null,
      "metadata": {
        "id": "-L7cq8JsN-CU"
      },
      "outputs": [],
      "source": [
        "# Compile Model dengan Adam Optimizer dan Learning Rate yang bisa diubah\n",
        "optimizer = Adam(learning_rate=learning_rate)\n",
        "model.compile(loss='mean_squared_error', optimizer=optimizer)\n",
        "\n",
        "#Train Model dengan Epoch dan Batch Size yang bisa diubah\n",
        "history = model.fit(trainX, trainY, epochs=epochs, batch_size=batch_size, verbose=0)"
      ]
    },
    {
      "cell_type": "code",
      "execution_count": null,
      "metadata": {
        "colab": {
          "base_uri": "https://localhost:8080/",
          "height": 472
        },
        "id": "50pvFgDxxQmF",
        "outputId": "99395dc9-ffae-4a99-ae73-b4b04f20dec0"
      },
      "outputs": [
        {
          "output_type": "display_data",
          "data": {
            "text/plain": [
              "<Figure size 640x480 with 1 Axes>"
            ],
            "image/png": "[encoded data removed]"
          },
          "metadata": {}
        }
      ],
      "source": [
        "# Plot loss\n",
        "plt.plot(history.history['loss'], label='Loss Training')  # Mengambil nilai loss dari history dan menambahkan label\n",
        "plt.title('Model Loss Selama Training')  # Judul grafik\n",
        "plt.xlabel('Epoch')  # Label sumbu X\n",
        "plt.ylabel('Loss')  # Label sumbu Y\n",
        "plt.grid()  # Menambahkan grid untuk memperjelas grafik\n",
        "plt.legend()  # Menampilkan legenda\n",
        "plt.show()  # Menampilkan grafik"
      ]
    },
    {
      "cell_type": "code",
      "execution_count": null,
      "metadata": {
        "colab": {
          "base_uri": "https://localhost:8080/",
          "height": 507
        },
        "id": "Dyz3Me257K5Y",
        "outputId": "ee12db7d-6378-4b36-af2e-f92cf5424855"
      },
      "outputs": [
        {
          "output_type": "stream",
          "name": "stdout",
          "text": [
            "\u001b[1m20/20\u001b[0m \u001b[32m━━━━━━━━━━━━━━━━━━━━\u001b[0m\u001b[37m\u001b[0m \u001b[1m2s\u001b[0m 70ms/step\n",
            "\u001b[1m5/5\u001b[0m \u001b[32m━━━━━━━━━━━━━━━━━━━━\u001b[0m\u001b[37m\u001b[0m \u001b[1m0s\u001b[0m 28ms/step\n"
          ]
        },
        {
          "output_type": "display_data",
          "data": {
            "text/plain": [
              "<Figure size 640x480 with 1 Axes>"
            ],
            "image/png": "[encoded data removed]"
          },
          "metadata": {}
        }
      ],
      "source": [
        "# Prediksi\n",
        "trainPredict = model.predict(trainX)\n",
        "testPredict = model.predict(testX)\n",
        "\n",
        "# Inverse Transform untuk mendapatkan nilai asli\n",
        "trainPredict = scaler.inverse_transform(trainPredict)\n",
        "trainY = scaler.inverse_transform([trainY])\n",
        "testPredict = scaler.inverse_transform(testPredict)\n",
        "testY = scaler.inverse_transform([testY])\n",
        "\n",
        "# Flatten the arrays to 1-D\n",
        "trainPredict = trainPredict.flatten()  # Mengubah array hasil prediksi pada data training menjadi array 1-D\n",
        "testPredict = testPredict.flatten()    # Mengubah array hasil prediksi pada data testing menjadi array 1-D\n",
        "trainY = trainY.flatten()              # Mengubah array label asli (ground truth) dari data training menjadi array 1-D\n",
        "testY = testY.flatten()                # Mengubah array label asli (ground truth) dari data testing menjadi array 1-D\n",
        "\n",
        "# Membuat array waktu dari 800 ke 0\n",
        "total_length = len(trainY) + len(testY)  # Total panjang data\n",
        "waktu = np.linspace(800, 0, num=total_length)  # Waktu dari 800 ke 0\n",
        "\n",
        "# Plot prediksi vs nilai aktual\n",
        "plt.plot(waktu[:len(trainY)], trainY, label='Data Aktual (Training)')  # Data aktual training\n",
        "plt.plot(waktu[:len(trainY)], trainPredict, label='Prediksi (Training)')  # Prediksi training\n",
        "plt.plot(waktu[len(trainY):], testY, label='Data Aktual (Testing)')  # Data aktual testing\n",
        "plt.plot(waktu[len(trainY):], testPredict, label='Prediksi (Testing)')  # Prediksi testing\n",
        "\n",
        "# Menambahkan judul dan label\n",
        "plt.title('Grafik Hasil Training dan Testing')  # Judul grafik\n",
        "plt.xlabel('Waktu (ribu tahun lalu)')  # Label sumbu X\n",
        "plt.ylabel('Permukaan Laut Dibanding (m)')  # Label sumbu Y\n",
        "\n",
        "plt.legend()  # Menampilkan legenda\n",
        "plt.xlim(800, 0)  # Mengatur batas sumbu X dari 800 ke 0\n",
        "plt.show()  # Menampilkan plot"
      ]
    },
    {
      "cell_type": "code",
      "execution_count": null,
      "metadata": {
        "colab": {
          "base_uri": "https://localhost:8080/"
        },
        "id": "8qISx4KXO_ae",
        "outputId": "e9c15393-b873-464a-a23c-f57c19903d5e"
      },
      "outputs": [
        {
          "output_type": "stream",
          "name": "stdout",
          "text": [
            "Train RMSE: 3.369201922229253\n",
            "Test RMSE: 3.3659210299629954\n"
          ]
        }
      ],
      "source": [
        "# Menghitung RMSE untuk data training\n",
        "train_rmse = math.sqrt(mean_squared_error(trainY, trainPredict))\n",
        "print('Train RMSE:', train_rmse)\n",
        "\n",
        "# Calculate RMSE for testing data\n",
        "test_rmse = math.sqrt(mean_squared_error(testY, testPredict))\n",
        "print('Test RMSE:', test_rmse)"
      ]
    },
    {
      "cell_type": "code",
      "execution_count": null,
      "metadata": {
        "colab": {
          "base_uri": "https://localhost:8080/"
        },
        "id": "qC35FsZbPD1g",
        "outputId": "a3917206-70c4-4ecd-e983-0eb07d4926c9"
      },
      "outputs": [
        {
          "output_type": "stream",
          "name": "stdout",
          "text": [
            "Train R-squared: 0.9879272186231931\n",
            "Test R-squared: 0.9920191314845752\n"
          ]
        }
      ],
      "source": [
        "# Menghitung R-squared untuk data training\n",
        "train_r2 = r2_score(trainY, trainPredict)\n",
        "print('Train R-squared:', train_r2)\n",
        "\n",
        "# Menghitung R-squared untuk data testing\n",
        "test_r2 = r2_score(testY, testPredict)\n",
        "print('Test R-squared:', test_r2)"
      ]
    },
    {
      "cell_type": "code",
      "execution_count": null,
      "metadata": {
        "colab": {
          "base_uri": "https://localhost:8080/",
          "height": 889
        },
        "id": "lVPGFKuvECYh",
        "outputId": "3da16f22-449c-42e5-fb07-959d137876fd"
      },
      "outputs": [
        {
          "output_type": "stream",
          "name": "stdout",
          "text": [
            "\u001b[1m1/1\u001b[0m \u001b[32m━━━━━━━━━━━━━━━━━━━━\u001b[0m\u001b[37m\u001b[0m \u001b[1m0s\u001b[0m 22ms/step\n",
            "\u001b[1m1/1\u001b[0m \u001b[32m━━━━━━━━━━━━━━━━━━━━\u001b[0m\u001b[37m\u001b[0m \u001b[1m0s\u001b[0m 20ms/step\n",
            "\u001b[1m1/1\u001b[0m \u001b[32m━━━━━━━━━━━━━━━━━━━━\u001b[0m\u001b[37m\u001b[0m \u001b[1m0s\u001b[0m 21ms/step\n",
            "\u001b[1m1/1\u001b[0m \u001b[32m━━━━━━━━━━━━━━━━━━━━\u001b[0m\u001b[37m\u001b[0m \u001b[1m0s\u001b[0m 24ms/step\n",
            "\u001b[1m1/1\u001b[0m \u001b[32m━━━━━━━━━━━━━━━━━━━━\u001b[0m\u001b[37m\u001b[0m \u001b[1m0s\u001b[0m 25ms/step\n",
            "\u001b[1m1/1\u001b[0m \u001b[32m━━━━━━━━━━━━━━━━━━━━\u001b[0m\u001b[37m\u001b[0m \u001b[1m0s\u001b[0m 22ms/step\n",
            "\u001b[1m1/1\u001b[0m \u001b[32m━━━━━━━━━━━━━━━━━━━━\u001b[0m\u001b[37m\u001b[0m \u001b[1m0s\u001b[0m 21ms/step\n",
            "\u001b[1m1/1\u001b[0m \u001b[32m━━━━━━━━━━━━━━━━━━━━\u001b[0m\u001b[37m\u001b[0m \u001b[1m0s\u001b[0m 24ms/step\n",
            "\u001b[1m1/1\u001b[0m \u001b[32m━━━━━━━━━━━━━━━━━━━━\u001b[0m\u001b[37m\u001b[0m \u001b[1m0s\u001b[0m 22ms/step\n",
            "\u001b[1m1/1\u001b[0m \u001b[32m━━━━━━━━━━━━━━━━━━━━\u001b[0m\u001b[37m\u001b[0m \u001b[1m0s\u001b[0m 22ms/step\n",
            "   Waktu (ribu tahun lalu)  Permukaan Laut (m)\n",
            "0                       -1            6.162129\n",
            "1                       -2            0.026558\n",
            "2                       -3           -6.966758\n",
            "3                       -4          -13.093945\n",
            "4                       -5          -18.556274\n",
            "5                       -6          -24.103802\n",
            "6                       -7          -29.823248\n",
            "7                       -8          -35.277824\n",
            "8                       -9          -40.195801\n",
            "9                      -10          -44.656342\n"
          ]
        },
        {
          "output_type": "display_data",
          "data": {
            "text/plain": [
              "<Figure size 640x480 with 1 Axes>"
            ],
            "image/png": "[encoded data removed]"
          },
          "metadata": {}
        },
        {
          "output_type": "stream",
          "name": "stdout",
          "text": [
            "Forecast untuk 10 waktu ke depan: [ 6.1621294e+00  2.6558030e-02 -6.9667578e+00 -1.3093945e+01\n",
            " -1.8556274e+01 -2.4103802e+01 -2.9823248e+01 -3.5277824e+01\n",
            " -4.0195801e+01 -4.4656342e+01]\n"
          ]
        }
      ],
      "source": [
        "look_back = 6  # Jumlah langkah waktu yang digunakan untuk prediksi\n",
        "last_data = dataset[-look_back:]  # Ambil data terakhir sebanyak look_back\n",
        "forecast_data = []\n",
        "\n",
        "# Forecast untuk 10 waktu ke depan\n",
        "for _ in range(10):  # Forecast untuk 10 langkah waktu\n",
        "    input_data = np.reshape(last_data, (1, look_back, 1))\n",
        "    prediction = model.predict(input_data)\n",
        "    forecast_data.append(prediction[0][0])\n",
        "    last_data = np.append(last_data[1:], prediction)  # Update data terakhir dengan prediksi\n",
        "    last_data = last_data[-look_back:]\n",
        "\n",
        "# Inverse transform untuk mendapatkan nilai asli\n",
        "forecast_data = scaler.inverse_transform(np.array(forecast_data).reshape(-1, 1))\n",
        "forecast_data = forecast_data.flatten()\n",
        "\n",
        "# Membuat array waktu untuk 10 waktu ke depan dari -1 hingga -25\n",
        "waktu_prediksi = np.arange(-1, -11, -1)  # Waktu dari -1 ke -10\n",
        "\n",
        "# Membuat array waktu untuk data aktual dari 800 hingga 0\n",
        "total_length = len(trainY) + len(testY)  # Total panjang data\n",
        "waktu_aktual = np.linspace(800, 0, num=total_length)  # Waktu dari 800 ke 0\n",
        "\n",
        "# Membuat DataFrame untuk hasil prediksi\n",
        "data_prediksi = pd.DataFrame({\n",
        "    'Waktu (ribu tahun lalu)': waktu_prediksi,\n",
        "    'Permukaan Laut (m)': forecast_data\n",
        "})\n",
        "\n",
        "# Menampilkan tabel hasil prediksi\n",
        "print(data_prediksi)\n",
        "\n",
        "# Plot forecast\n",
        "plt.plot(waktu_aktual[:len(trainY)], trainY, label='Data Aktual (Training)')  # Data aktual training\n",
        "plt.plot(waktu_aktual[:len(trainY)], trainPredict, label='Data Prediksi (Training)')  # Prediksi training\n",
        "plt.plot(waktu_aktual[len(trainY):], testY, label='Data Aktual (Testing)')  # Data aktual testing\n",
        "plt.plot(waktu_aktual[len(trainY):], testPredict, label='Prediksi (Testing)')  # Prediksi testing\n",
        "plt.plot(waktu_prediksi, forecast_data, label='Prediksi 2 Waktu Ke Depan', linestyle='-')  # Prediksi 10 waktu ke depan\n",
        "\n",
        "# Menambahkan judul dan label\n",
        "plt.title('Prediksi Data Permukaan Laut 10 Waktu Mendatang')\n",
        "plt.xlabel('Waktu (ribu tahun lalu)')\n",
        "plt.ylabel('Permukaan Laut Dibanding Sekarang (m)')\n",
        "\n",
        "plt.legend()  # Menampilkan legenda\n",
        "plt.xlim(800, -110)  # Mengatur batas sumbu X dari 800 ke -20\n",
        "plt.show()  # Menampilkan plot\n",
        "\n",
        "print(\"Forecast untuk 10 waktu ke depan:\", forecast_data)"
      ]
    },
    {
      "cell_type": "code",
      "source": [
        "# Hasil Prediksi 1 Waktu Ke depan\n",
        "#waktu_prediksi = np.arange(0, 2, 1)\n",
        "#forecast_data = [8.96, 7.3972]  # Example forecast values\n",
        "\n",
        "\n",
        "#plt.plot(waktu_prediksi, forecast_data, label='Prediksi 1 Waktu Ke Depan', marker='o')\n",
        "\n",
        "# Menambahkan judul dan label\n",
        "# plt.title('Prediksi Data Permukaan Laut 1 Waktu Mendatang'\n",
        "# plt.xlabel('Waktu (ribu tahun lalu)')\n",
        "# plt.ylabel('Permukaan Laut Dibanding Sekarang (m)')\n",
        "\n",
        "# Mengatur rentang sumbu Y dengan interval 0.05\n",
        "# y_ticks = np.arange(min(forecast_data) - 0.05, max(forecast_data) + 0.05, 0.05)\n",
        "# plt.yticks(y_ticks)\n",
        "# Mengatur rentang sumbu X dengan interval 0.1\n",
        "# x_ticks = np.arange(0, 1.1, 0.1)  # Rentang dari 0 hingga 1 dengan interval 0.1\n",
        "# plt.xticks(x_ticks)\n",
        "\n",
        "# plt.legend()  # Menampilkan legenda\n",
        "# plt.grid(True) #adds gridlines"
      ],
      "metadata": {
        "id": "6QPJSTNiooD-"
      },
      "execution_count": null,
      "outputs": []
    },
    {
      "cell_type": "code",
      "execution_count": null,
      "metadata": {
        "colab": {
          "base_uri": "https://localhost:8080/"
        },
        "id": "i2teIKvdQU97",
        "outputId": "55e5c6ea-56f8-4c78-dc13-b4e205ead397"
      },
      "outputs": [
        {
          "name": "stdout",
          "output_type": "stream",
          "text": [
            "Training with: look_back=3, epochs=50, batch_size=16, learning_rate=0.001, units=64\n"
          ]
        },
        {
          "name": "stderr",
          "output_type": "stream",
          "text": [
            "/usr/local/lib/python3.10/dist-packages/keras/src/layers/rnn/rnn.py:204: UserWarning: Do not pass an `input_shape`/`input_dim` argument to a layer. When using Sequential models, prefer using an `Input(shape)` object as the first layer in the model instead.\n",
            "  super().__init__(**kwargs)\n"
          ]
        },
        {
          "name": "stdout",
          "output_type": "stream",
          "text": [
            "\u001b[1m5/5\u001b[0m \u001b[32m━━━━━━━━━━━━━━━━━━━━\u001b[0m\u001b[37m\u001b[0m \u001b[1m1s\u001b[0m 69ms/step\n",
            "Test RMSE: 5.286021794907795\n",
            "Training with: look_back=3, epochs=50, batch_size=16, learning_rate=0.001, units=128\n"
          ]
        },
        {
          "name": "stderr",
          "output_type": "stream",
          "text": [
            "/usr/local/lib/python3.10/dist-packages/keras/src/layers/rnn/rnn.py:204: UserWarning: Do not pass an `input_shape`/`input_dim` argument to a layer. When using Sequential models, prefer using an `Input(shape)` object as the first layer in the model instead.\n",
            "  super().__init__(**kwargs)\n"
          ]
        },
        {
          "name": "stdout",
          "output_type": "stream",
          "text": [
            "\r\u001b[1m1/5\u001b[0m \u001b[32m━━━━\u001b[0m\u001b[37m━━━━━━━━━━━━━━━━\u001b[0m \u001b[1m0s\u001b[0m 245ms/step"
          ]
        },
        {
          "name": "stderr",
          "output_type": "stream",
          "text": [
            "WARNING:tensorflow:5 out of the last 26 calls to <function TensorFlowTrainer.make_predict_function.<locals>.one_step_on_data_distributed at 0x79388ec749d0> triggered tf.function retracing. Tracing is expensive and the excessive number of tracings could be due to (1) creating @tf.function repeatedly in a loop, (2) passing tensors with different shapes, (3) passing Python objects instead of tensors. For (1), please define your @tf.function outside of the loop. For (2), @tf.function has reduce_retracing=True option that can avoid unnecessary retracing. For (3), please refer to https://www.tensorflow.org/guide/function#controlling_retracing and https://www.tensorflow.org/api_docs/python/tf/function for  more details.\n"
          ]
        },
        {
          "name": "stdout",
          "output_type": "stream",
          "text": [
            "\u001b[1m5/5\u001b[0m \u001b[32m━━━━━━━━━━━━━━━━━━━━\u001b[0m\u001b[37m\u001b[0m \u001b[1m1s\u001b[0m 70ms/step\n"
          ]
        },
        {
          "name": "stderr",
          "output_type": "stream",
          "text": [
            "/usr/local/lib/python3.10/dist-packages/keras/src/layers/rnn/rnn.py:204: UserWarning: Do not pass an `input_shape`/`input_dim` argument to a layer. When using Sequential models, prefer using an `Input(shape)` object as the first layer in the model instead.\n",
            "  super().__init__(**kwargs)\n"
          ]
        },
        {
          "name": "stdout",
          "output_type": "stream",
          "text": [
            "Test RMSE: 4.362283128900526\n",
            "Training with: look_back=3, epochs=50, batch_size=16, learning_rate=0.01, units=64\n"
          ]
        },
        {
          "name": "stderr",
          "output_type": "stream",
          "text": [
            "WARNING:tensorflow:5 out of the last 11 calls to <function TensorFlowTrainer.make_predict_function.<locals>.one_step_on_data_distributed at 0x7938950e1bd0> triggered tf.function retracing. Tracing is expensive and the excessive number of tracings could be due to (1) creating @tf.function repeatedly in a loop, (2) passing tensors with different shapes, (3) passing Python objects instead of tensors. For (1), please define your @tf.function outside of the loop. For (2), @tf.function has reduce_retracing=True option that can avoid unnecessary retracing. For (3), please refer to https://www.tensorflow.org/guide/function#controlling_retracing and https://www.tensorflow.org/api_docs/python/tf/function for  more details.\n"
          ]
        },
        {
          "name": "stdout",
          "output_type": "stream",
          "text": [
            "\u001b[1m5/5\u001b[0m \u001b[32m━━━━━━━━━━━━━━━━━━━━\u001b[0m\u001b[37m\u001b[0m \u001b[1m1s\u001b[0m 90ms/step\n",
            "Test RMSE: 3.8290934376442602\n",
            "Training with: look_back=3, epochs=50, batch_size=16, learning_rate=0.01, units=128\n"
          ]
        },
        {
          "name": "stderr",
          "output_type": "stream",
          "text": [
            "/usr/local/lib/python3.10/dist-packages/keras/src/layers/rnn/rnn.py:204: UserWarning: Do not pass an `input_shape`/`input_dim` argument to a layer. When using Sequential models, prefer using an `Input(shape)` object as the first layer in the model instead.\n",
            "  super().__init__(**kwargs)\n"
          ]
        },
        {
          "name": "stdout",
          "output_type": "stream",
          "text": [
            "\u001b[1m5/5\u001b[0m \u001b[32m━━━━━━━━━━━━━━━━━━━━\u001b[0m\u001b[37m\u001b[0m \u001b[1m1s\u001b[0m 68ms/step\n",
            "Test RMSE: 4.061141043179831\n",
            "Training with: look_back=3, epochs=50, batch_size=32, learning_rate=0.001, units=64\n"
          ]
        },
        {
          "name": "stderr",
          "output_type": "stream",
          "text": [
            "/usr/local/lib/python3.10/dist-packages/keras/src/layers/rnn/rnn.py:204: UserWarning: Do not pass an `input_shape`/`input_dim` argument to a layer. When using Sequential models, prefer using an `Input(shape)` object as the first layer in the model instead.\n",
            "  super().__init__(**kwargs)\n"
          ]
        },
        {
          "name": "stdout",
          "output_type": "stream",
          "text": [
            "\u001b[1m5/5\u001b[0m \u001b[32m━━━━━━━━━━━━━━━━━━━━\u001b[0m\u001b[37m\u001b[0m \u001b[1m1s\u001b[0m 70ms/step\n",
            "Test RMSE: 9.950309865375\n",
            "Training with: look_back=3, epochs=50, batch_size=32, learning_rate=0.001, units=128\n"
          ]
        },
        {
          "name": "stderr",
          "output_type": "stream",
          "text": [
            "/usr/local/lib/python3.10/dist-packages/keras/src/layers/rnn/rnn.py:204: UserWarning: Do not pass an `input_shape`/`input_dim` argument to a layer. When using Sequential models, prefer using an `Input(shape)` object as the first layer in the model instead.\n",
            "  super().__init__(**kwargs)\n"
          ]
        },
        {
          "name": "stdout",
          "output_type": "stream",
          "text": [
            "\u001b[1m5/5\u001b[0m \u001b[32m━━━━━━━━━━━━━━━━━━━━\u001b[0m\u001b[37m\u001b[0m \u001b[1m1s\u001b[0m 66ms/step\n",
            "Test RMSE: 6.058119782211794\n",
            "Training with: look_back=3, epochs=50, batch_size=32, learning_rate=0.01, units=64\n"
          ]
        },
        {
          "name": "stderr",
          "output_type": "stream",
          "text": [
            "/usr/local/lib/python3.10/dist-packages/keras/src/layers/rnn/rnn.py:204: UserWarning: Do not pass an `input_shape`/`input_dim` argument to a layer. When using Sequential models, prefer using an `Input(shape)` object as the first layer in the model instead.\n",
            "  super().__init__(**kwargs)\n"
          ]
        },
        {
          "name": "stdout",
          "output_type": "stream",
          "text": [
            "\u001b[1m5/5\u001b[0m \u001b[32m━━━━━━━━━━━━━━━━━━━━\u001b[0m\u001b[37m\u001b[0m \u001b[1m0s\u001b[0m 62ms/step\n",
            "Test RMSE: 4.596163169330236\n",
            "Training with: look_back=3, epochs=50, batch_size=32, learning_rate=0.01, units=128\n"
          ]
        },
        {
          "name": "stderr",
          "output_type": "stream",
          "text": [
            "/usr/local/lib/python3.10/dist-packages/keras/src/layers/rnn/rnn.py:204: UserWarning: Do not pass an `input_shape`/`input_dim` argument to a layer. When using Sequential models, prefer using an `Input(shape)` object as the first layer in the model instead.\n",
            "  super().__init__(**kwargs)\n"
          ]
        },
        {
          "name": "stdout",
          "output_type": "stream",
          "text": [
            "\u001b[1m5/5\u001b[0m \u001b[32m━━━━━━━━━━━━━━━━━━━━\u001b[0m\u001b[37m\u001b[0m \u001b[1m1s\u001b[0m 108ms/step\n",
            "Test RMSE: 4.025146742679604\n",
            "Training with: look_back=3, epochs=100, batch_size=16, learning_rate=0.001, units=64\n"
          ]
        },
        {
          "name": "stderr",
          "output_type": "stream",
          "text": [
            "/usr/local/lib/python3.10/dist-packages/keras/src/layers/rnn/rnn.py:204: UserWarning: Do not pass an `input_shape`/`input_dim` argument to a layer. When using Sequential models, prefer using an `Input(shape)` object as the first layer in the model instead.\n",
            "  super().__init__(**kwargs)\n"
          ]
        },
        {
          "name": "stdout",
          "output_type": "stream",
          "text": [
            "\u001b[1m5/5\u001b[0m \u001b[32m━━━━━━━━━━━━━━━━━━━━\u001b[0m\u001b[37m\u001b[0m \u001b[1m1s\u001b[0m 66ms/step\n",
            "Test RMSE: 3.777221855739974\n",
            "Training with: look_back=3, epochs=100, batch_size=16, learning_rate=0.001, units=128\n"
          ]
        },
        {
          "name": "stderr",
          "output_type": "stream",
          "text": [
            "/usr/local/lib/python3.10/dist-packages/keras/src/layers/rnn/rnn.py:204: UserWarning: Do not pass an `input_shape`/`input_dim` argument to a layer. When using Sequential models, prefer using an `Input(shape)` object as the first layer in the model instead.\n",
            "  super().__init__(**kwargs)\n"
          ]
        },
        {
          "name": "stdout",
          "output_type": "stream",
          "text": [
            "\u001b[1m5/5\u001b[0m \u001b[32m━━━━━━━━━━━━━━━━━━━━\u001b[0m\u001b[37m\u001b[0m \u001b[1m1s\u001b[0m 106ms/step\n",
            "Test RMSE: 3.584790570772973\n",
            "Training with: look_back=3, epochs=100, batch_size=16, learning_rate=0.01, units=64\n"
          ]
        },
        {
          "name": "stderr",
          "output_type": "stream",
          "text": [
            "/usr/local/lib/python3.10/dist-packages/keras/src/layers/rnn/rnn.py:204: UserWarning: Do not pass an `input_shape`/`input_dim` argument to a layer. When using Sequential models, prefer using an `Input(shape)` object as the first layer in the model instead.\n",
            "  super().__init__(**kwargs)\n"
          ]
        },
        {
          "name": "stdout",
          "output_type": "stream",
          "text": [
            "\u001b[1m5/5\u001b[0m \u001b[32m━━━━━━━━━━━━━━━━━━━━\u001b[0m\u001b[37m\u001b[0m \u001b[1m1s\u001b[0m 64ms/step\n",
            "Test RMSE: 4.447657051395006\n",
            "Training with: look_back=3, epochs=100, batch_size=16, learning_rate=0.01, units=128\n"
          ]
        },
        {
          "name": "stderr",
          "output_type": "stream",
          "text": [
            "/usr/local/lib/python3.10/dist-packages/keras/src/layers/rnn/rnn.py:204: UserWarning: Do not pass an `input_shape`/`input_dim` argument to a layer. When using Sequential models, prefer using an `Input(shape)` object as the first layer in the model instead.\n",
            "  super().__init__(**kwargs)\n"
          ]
        },
        {
          "name": "stdout",
          "output_type": "stream",
          "text": [
            "\u001b[1m5/5\u001b[0m \u001b[32m━━━━━━━━━━━━━━━━━━━━\u001b[0m\u001b[37m\u001b[0m \u001b[1m1s\u001b[0m 66ms/step\n",
            "Test RMSE: 3.893090039741957\n",
            "Training with: look_back=3, epochs=100, batch_size=32, learning_rate=0.001, units=64\n"
          ]
        },
        {
          "name": "stderr",
          "output_type": "stream",
          "text": [
            "/usr/local/lib/python3.10/dist-packages/keras/src/layers/rnn/rnn.py:204: UserWarning: Do not pass an `input_shape`/`input_dim` argument to a layer. When using Sequential models, prefer using an `Input(shape)` object as the first layer in the model instead.\n",
            "  super().__init__(**kwargs)\n"
          ]
        },
        {
          "name": "stdout",
          "output_type": "stream",
          "text": [
            "\u001b[1m5/5\u001b[0m \u001b[32m━━━━━━━━━━━━━━━━━━━━\u001b[0m\u001b[37m\u001b[0m \u001b[1m0s\u001b[0m 63ms/step\n",
            "Test RMSE: 4.373505627630795\n",
            "Training with: look_back=3, epochs=100, batch_size=32, learning_rate=0.001, units=128\n"
          ]
        },
        {
          "name": "stderr",
          "output_type": "stream",
          "text": [
            "/usr/local/lib/python3.10/dist-packages/keras/src/layers/rnn/rnn.py:204: UserWarning: Do not pass an `input_shape`/`input_dim` argument to a layer. When using Sequential models, prefer using an `Input(shape)` object as the first layer in the model instead.\n",
            "  super().__init__(**kwargs)\n"
          ]
        },
        {
          "name": "stdout",
          "output_type": "stream",
          "text": [
            "\u001b[1m5/5\u001b[0m \u001b[32m━━━━━━━━━━━━━━━━━━━━\u001b[0m\u001b[37m\u001b[0m \u001b[1m1s\u001b[0m 66ms/step\n",
            "Test RMSE: 4.002454502761272\n",
            "Training with: look_back=3, epochs=100, batch_size=32, learning_rate=0.01, units=64\n"
          ]
        },
        {
          "name": "stderr",
          "output_type": "stream",
          "text": [
            "/usr/local/lib/python3.10/dist-packages/keras/src/layers/rnn/rnn.py:204: UserWarning: Do not pass an `input_shape`/`input_dim` argument to a layer. When using Sequential models, prefer using an `Input(shape)` object as the first layer in the model instead.\n",
            "  super().__init__(**kwargs)\n"
          ]
        },
        {
          "name": "stdout",
          "output_type": "stream",
          "text": [
            "\u001b[1m5/5\u001b[0m \u001b[32m━━━━━━━━━━━━━━━━━━━━\u001b[0m\u001b[37m\u001b[0m \u001b[1m1s\u001b[0m 65ms/step\n",
            "Test RMSE: 3.771934408571112\n",
            "Training with: look_back=3, epochs=100, batch_size=32, learning_rate=0.01, units=128\n"
          ]
        },
        {
          "name": "stderr",
          "output_type": "stream",
          "text": [
            "/usr/local/lib/python3.10/dist-packages/keras/src/layers/rnn/rnn.py:204: UserWarning: Do not pass an `input_shape`/`input_dim` argument to a layer. When using Sequential models, prefer using an `Input(shape)` object as the first layer in the model instead.\n",
            "  super().__init__(**kwargs)\n"
          ]
        },
        {
          "name": "stdout",
          "output_type": "stream",
          "text": [
            "\u001b[1m5/5\u001b[0m \u001b[32m━━━━━━━━━━━━━━━━━━━━\u001b[0m\u001b[37m\u001b[0m \u001b[1m1s\u001b[0m 64ms/step\n",
            "Test RMSE: 3.58639417274734\n",
            "Training with: look_back=6, epochs=50, batch_size=16, learning_rate=0.001, units=64\n"
          ]
        },
        {
          "name": "stderr",
          "output_type": "stream",
          "text": [
            "/usr/local/lib/python3.10/dist-packages/keras/src/layers/rnn/rnn.py:204: UserWarning: Do not pass an `input_shape`/`input_dim` argument to a layer. When using Sequential models, prefer using an `Input(shape)` object as the first layer in the model instead.\n",
            "  super().__init__(**kwargs)\n"
          ]
        },
        {
          "name": "stdout",
          "output_type": "stream",
          "text": [
            "\u001b[1m5/5\u001b[0m \u001b[32m━━━━━━━━━━━━━━━━━━━━\u001b[0m\u001b[37m\u001b[0m \u001b[1m1s\u001b[0m 68ms/step\n",
            "Test RMSE: 4.705198240313745\n",
            "Training with: look_back=6, epochs=50, batch_size=16, learning_rate=0.001, units=128\n"
          ]
        },
        {
          "name": "stderr",
          "output_type": "stream",
          "text": [
            "/usr/local/lib/python3.10/dist-packages/keras/src/layers/rnn/rnn.py:204: UserWarning: Do not pass an `input_shape`/`input_dim` argument to a layer. When using Sequential models, prefer using an `Input(shape)` object as the first layer in the model instead.\n",
            "  super().__init__(**kwargs)\n"
          ]
        },
        {
          "name": "stdout",
          "output_type": "stream",
          "text": [
            "\u001b[1m5/5\u001b[0m \u001b[32m━━━━━━━━━━━━━━━━━━━━\u001b[0m\u001b[37m\u001b[0m \u001b[1m1s\u001b[0m 67ms/step\n",
            "Test RMSE: 3.807063954742017\n",
            "Training with: look_back=6, epochs=50, batch_size=16, learning_rate=0.01, units=64\n"
          ]
        },
        {
          "name": "stderr",
          "output_type": "stream",
          "text": [
            "/usr/local/lib/python3.10/dist-packages/keras/src/layers/rnn/rnn.py:204: UserWarning: Do not pass an `input_shape`/`input_dim` argument to a layer. When using Sequential models, prefer using an `Input(shape)` object as the first layer in the model instead.\n",
            "  super().__init__(**kwargs)\n"
          ]
        },
        {
          "name": "stdout",
          "output_type": "stream",
          "text": [
            "\u001b[1m5/5\u001b[0m \u001b[32m━━━━━━━━━━━━━━━━━━━━\u001b[0m\u001b[37m\u001b[0m \u001b[1m1s\u001b[0m 67ms/step\n",
            "Test RMSE: 4.660112777737476\n",
            "Training with: look_back=6, epochs=50, batch_size=16, learning_rate=0.01, units=128\n"
          ]
        },
        {
          "name": "stderr",
          "output_type": "stream",
          "text": [
            "/usr/local/lib/python3.10/dist-packages/keras/src/layers/rnn/rnn.py:204: UserWarning: Do not pass an `input_shape`/`input_dim` argument to a layer. When using Sequential models, prefer using an `Input(shape)` object as the first layer in the model instead.\n",
            "  super().__init__(**kwargs)\n"
          ]
        },
        {
          "name": "stdout",
          "output_type": "stream",
          "text": [
            "\u001b[1m5/5\u001b[0m \u001b[32m━━━━━━━━━━━━━━━━━━━━\u001b[0m\u001b[37m\u001b[0m \u001b[1m1s\u001b[0m 288ms/step\n",
            "Test RMSE: 3.402958841573785\n",
            "Training with: look_back=6, epochs=50, batch_size=32, learning_rate=0.001, units=64\n"
          ]
        },
        {
          "name": "stderr",
          "output_type": "stream",
          "text": [
            "/usr/local/lib/python3.10/dist-packages/keras/src/layers/rnn/rnn.py:204: UserWarning: Do not pass an `input_shape`/`input_dim` argument to a layer. When using Sequential models, prefer using an `Input(shape)` object as the first layer in the model instead.\n",
            "  super().__init__(**kwargs)\n"
          ]
        },
        {
          "name": "stdout",
          "output_type": "stream",
          "text": [
            "\u001b[1m5/5\u001b[0m \u001b[32m━━━━━━━━━━━━━━━━━━━━\u001b[0m\u001b[37m\u001b[0m \u001b[1m1s\u001b[0m 65ms/step\n",
            "Test RMSE: 7.553238349661352\n",
            "Training with: look_back=6, epochs=50, batch_size=32, learning_rate=0.001, units=128\n"
          ]
        },
        {
          "name": "stderr",
          "output_type": "stream",
          "text": [
            "/usr/local/lib/python3.10/dist-packages/keras/src/layers/rnn/rnn.py:204: UserWarning: Do not pass an `input_shape`/`input_dim` argument to a layer. When using Sequential models, prefer using an `Input(shape)` object as the first layer in the model instead.\n",
            "  super().__init__(**kwargs)\n"
          ]
        },
        {
          "name": "stdout",
          "output_type": "stream",
          "text": [
            "\u001b[1m5/5\u001b[0m \u001b[32m━━━━━━━━━━━━━━━━━━━━\u001b[0m\u001b[37m\u001b[0m \u001b[1m1s\u001b[0m 108ms/step\n",
            "Test RMSE: 6.13279277454881\n",
            "Training with: look_back=6, epochs=50, batch_size=32, learning_rate=0.01, units=64\n"
          ]
        },
        {
          "name": "stderr",
          "output_type": "stream",
          "text": [
            "/usr/local/lib/python3.10/dist-packages/keras/src/layers/rnn/rnn.py:204: UserWarning: Do not pass an `input_shape`/`input_dim` argument to a layer. When using Sequential models, prefer using an `Input(shape)` object as the first layer in the model instead.\n",
            "  super().__init__(**kwargs)\n"
          ]
        },
        {
          "name": "stdout",
          "output_type": "stream",
          "text": [
            "\u001b[1m5/5\u001b[0m \u001b[32m━━━━━━━━━━━━━━━━━━━━\u001b[0m\u001b[37m\u001b[0m \u001b[1m1s\u001b[0m 98ms/step\n",
            "Test RMSE: 4.630048179033113\n",
            "Training with: look_back=6, epochs=50, batch_size=32, learning_rate=0.01, units=128\n"
          ]
        },
        {
          "name": "stderr",
          "output_type": "stream",
          "text": [
            "/usr/local/lib/python3.10/dist-packages/keras/src/layers/rnn/rnn.py:204: UserWarning: Do not pass an `input_shape`/`input_dim` argument to a layer. When using Sequential models, prefer using an `Input(shape)` object as the first layer in the model instead.\n",
            "  super().__init__(**kwargs)\n"
          ]
        },
        {
          "name": "stdout",
          "output_type": "stream",
          "text": [
            "\u001b[1m5/5\u001b[0m \u001b[32m━━━━━━━━━━━━━━━━━━━━\u001b[0m\u001b[37m\u001b[0m \u001b[1m1s\u001b[0m 66ms/step\n",
            "Test RMSE: 3.7573894234025746\n",
            "Training with: look_back=6, epochs=100, batch_size=16, learning_rate=0.001, units=64\n"
          ]
        },
        {
          "name": "stderr",
          "output_type": "stream",
          "text": [
            "/usr/local/lib/python3.10/dist-packages/keras/src/layers/rnn/rnn.py:204: UserWarning: Do not pass an `input_shape`/`input_dim` argument to a layer. When using Sequential models, prefer using an `Input(shape)` object as the first layer in the model instead.\n",
            "  super().__init__(**kwargs)\n"
          ]
        },
        {
          "name": "stdout",
          "output_type": "stream",
          "text": [
            "\u001b[1m5/5\u001b[0m \u001b[32m━━━━━━━━━━━━━━━━━━━━\u001b[0m\u001b[37m\u001b[0m \u001b[1m1s\u001b[0m 63ms/step\n",
            "Test RMSE: 3.437616948650022\n",
            "Training with: look_back=6, epochs=100, batch_size=16, learning_rate=0.001, units=128\n"
          ]
        },
        {
          "name": "stderr",
          "output_type": "stream",
          "text": [
            "/usr/local/lib/python3.10/dist-packages/keras/src/layers/rnn/rnn.py:204: UserWarning: Do not pass an `input_shape`/`input_dim` argument to a layer. When using Sequential models, prefer using an `Input(shape)` object as the first layer in the model instead.\n",
            "  super().__init__(**kwargs)\n"
          ]
        },
        {
          "name": "stdout",
          "output_type": "stream",
          "text": [
            "\u001b[1m5/5\u001b[0m \u001b[32m━━━━━━━━━━━━━━━━━━━━\u001b[0m\u001b[37m\u001b[0m \u001b[1m1s\u001b[0m 71ms/step\n",
            "Test RMSE: 3.5390750649489258\n",
            "Training with: look_back=6, epochs=100, batch_size=16, learning_rate=0.01, units=64\n"
          ]
        },
        {
          "name": "stderr",
          "output_type": "stream",
          "text": [
            "/usr/local/lib/python3.10/dist-packages/keras/src/layers/rnn/rnn.py:204: UserWarning: Do not pass an `input_shape`/`input_dim` argument to a layer. When using Sequential models, prefer using an `Input(shape)` object as the first layer in the model instead.\n",
            "  super().__init__(**kwargs)\n"
          ]
        },
        {
          "name": "stdout",
          "output_type": "stream",
          "text": [
            "\u001b[1m5/5\u001b[0m \u001b[32m━━━━━━━━━━━━━━━━━━━━\u001b[0m\u001b[37m\u001b[0m \u001b[1m1s\u001b[0m 67ms/step\n",
            "Test RMSE: 3.4608554429830694\n",
            "Training with: look_back=6, epochs=100, batch_size=16, learning_rate=0.01, units=128\n"
          ]
        },
        {
          "name": "stderr",
          "output_type": "stream",
          "text": [
            "/usr/local/lib/python3.10/dist-packages/keras/src/layers/rnn/rnn.py:204: UserWarning: Do not pass an `input_shape`/`input_dim` argument to a layer. When using Sequential models, prefer using an `Input(shape)` object as the first layer in the model instead.\n",
            "  super().__init__(**kwargs)\n"
          ]
        },
        {
          "name": "stdout",
          "output_type": "stream",
          "text": [
            "\u001b[1m5/5\u001b[0m \u001b[32m━━━━━━━━━━━━━━━━━━━━\u001b[0m\u001b[37m\u001b[0m \u001b[1m1s\u001b[0m 68ms/step\n",
            "Test RMSE: 3.5835573958744757\n",
            "Training with: look_back=6, epochs=100, batch_size=32, learning_rate=0.001, units=64\n"
          ]
        },
        {
          "name": "stderr",
          "output_type": "stream",
          "text": [
            "/usr/local/lib/python3.10/dist-packages/keras/src/layers/rnn/rnn.py:204: UserWarning: Do not pass an `input_shape`/`input_dim` argument to a layer. When using Sequential models, prefer using an `Input(shape)` object as the first layer in the model instead.\n",
            "  super().__init__(**kwargs)\n"
          ]
        },
        {
          "name": "stdout",
          "output_type": "stream",
          "text": [
            "\u001b[1m5/5\u001b[0m \u001b[32m━━━━━━━━━━━━━━━━━━━━\u001b[0m\u001b[37m\u001b[0m \u001b[1m1s\u001b[0m 68ms/step\n",
            "Test RMSE: 4.085235955642659\n",
            "Training with: look_back=6, epochs=100, batch_size=32, learning_rate=0.001, units=128\n"
          ]
        },
        {
          "name": "stderr",
          "output_type": "stream",
          "text": [
            "/usr/local/lib/python3.10/dist-packages/keras/src/layers/rnn/rnn.py:204: UserWarning: Do not pass an `input_shape`/`input_dim` argument to a layer. When using Sequential models, prefer using an `Input(shape)` object as the first layer in the model instead.\n",
            "  super().__init__(**kwargs)\n"
          ]
        },
        {
          "name": "stdout",
          "output_type": "stream",
          "text": [
            "\u001b[1m5/5\u001b[0m \u001b[32m━━━━━━━━━━━━━━━━━━━━\u001b[0m\u001b[37m\u001b[0m \u001b[1m1s\u001b[0m 108ms/step\n",
            "Test RMSE: 4.324747385308261\n",
            "Training with: look_back=6, epochs=100, batch_size=32, learning_rate=0.01, units=64\n"
          ]
        },
        {
          "name": "stderr",
          "output_type": "stream",
          "text": [
            "/usr/local/lib/python3.10/dist-packages/keras/src/layers/rnn/rnn.py:204: UserWarning: Do not pass an `input_shape`/`input_dim` argument to a layer. When using Sequential models, prefer using an `Input(shape)` object as the first layer in the model instead.\n",
            "  super().__init__(**kwargs)\n"
          ]
        },
        {
          "name": "stdout",
          "output_type": "stream",
          "text": [
            "\u001b[1m5/5\u001b[0m \u001b[32m━━━━━━━━━━━━━━━━━━━━\u001b[0m\u001b[37m\u001b[0m \u001b[1m0s\u001b[0m 63ms/step\n",
            "Test RMSE: 3.5668982080560436\n",
            "Training with: look_back=6, epochs=100, batch_size=32, learning_rate=0.01, units=128\n"
          ]
        },
        {
          "name": "stderr",
          "output_type": "stream",
          "text": [
            "/usr/local/lib/python3.10/dist-packages/keras/src/layers/rnn/rnn.py:204: UserWarning: Do not pass an `input_shape`/`input_dim` argument to a layer. When using Sequential models, prefer using an `Input(shape)` object as the first layer in the model instead.\n",
            "  super().__init__(**kwargs)\n"
          ]
        },
        {
          "name": "stdout",
          "output_type": "stream",
          "text": [
            "\u001b[1m5/5\u001b[0m \u001b[32m━━━━━━━━━━━━━━━━━━━━\u001b[0m\u001b[37m\u001b[0m \u001b[1m1s\u001b[0m 67ms/step\n",
            "Test RMSE: 4.201619350422501\n",
            "Training with: look_back=12, epochs=50, batch_size=16, learning_rate=0.001, units=64\n"
          ]
        },
        {
          "name": "stderr",
          "output_type": "stream",
          "text": [
            "/usr/local/lib/python3.10/dist-packages/keras/src/layers/rnn/rnn.py:204: UserWarning: Do not pass an `input_shape`/`input_dim` argument to a layer. When using Sequential models, prefer using an `Input(shape)` object as the first layer in the model instead.\n",
            "  super().__init__(**kwargs)\n"
          ]
        },
        {
          "name": "stdout",
          "output_type": "stream",
          "text": [
            "\u001b[1m5/5\u001b[0m \u001b[32m━━━━━━━━━━━━━━━━━━━━\u001b[0m\u001b[37m\u001b[0m \u001b[1m1s\u001b[0m 95ms/step\n",
            "Test RMSE: 3.9349256385803213\n",
            "Training with: look_back=12, epochs=50, batch_size=16, learning_rate=0.001, units=128\n"
          ]
        },
        {
          "name": "stderr",
          "output_type": "stream",
          "text": [
            "/usr/local/lib/python3.10/dist-packages/keras/src/layers/rnn/rnn.py:204: UserWarning: Do not pass an `input_shape`/`input_dim` argument to a layer. When using Sequential models, prefer using an `Input(shape)` object as the first layer in the model instead.\n",
            "  super().__init__(**kwargs)\n"
          ]
        },
        {
          "name": "stdout",
          "output_type": "stream",
          "text": [
            "\u001b[1m5/5\u001b[0m \u001b[32m━━━━━━━━━━━━━━━━━━━━\u001b[0m\u001b[37m\u001b[0m \u001b[1m1s\u001b[0m 80ms/step\n",
            "Test RMSE: 3.877073210479814\n",
            "Training with: look_back=12, epochs=50, batch_size=16, learning_rate=0.01, units=64\n"
          ]
        },
        {
          "name": "stderr",
          "output_type": "stream",
          "text": [
            "/usr/local/lib/python3.10/dist-packages/keras/src/layers/rnn/rnn.py:204: UserWarning: Do not pass an `input_shape`/`input_dim` argument to a layer. When using Sequential models, prefer using an `Input(shape)` object as the first layer in the model instead.\n",
            "  super().__init__(**kwargs)\n"
          ]
        },
        {
          "name": "stdout",
          "output_type": "stream",
          "text": [
            "\u001b[1m5/5\u001b[0m \u001b[32m━━━━━━━━━━━━━━━━━━━━\u001b[0m\u001b[37m\u001b[0m \u001b[1m1s\u001b[0m 67ms/step\n",
            "Test RMSE: 3.5185208856574652\n",
            "Training with: look_back=12, epochs=50, batch_size=16, learning_rate=0.01, units=128\n"
          ]
        },
        {
          "name": "stderr",
          "output_type": "stream",
          "text": [
            "/usr/local/lib/python3.10/dist-packages/keras/src/layers/rnn/rnn.py:204: UserWarning: Do not pass an `input_shape`/`input_dim` argument to a layer. When using Sequential models, prefer using an `Input(shape)` object as the first layer in the model instead.\n",
            "  super().__init__(**kwargs)\n"
          ]
        },
        {
          "name": "stdout",
          "output_type": "stream",
          "text": [
            "\u001b[1m5/5\u001b[0m \u001b[32m━━━━━━━━━━━━━━━━━━━━\u001b[0m\u001b[37m\u001b[0m \u001b[1m1s\u001b[0m 78ms/step\n",
            "Test RMSE: 3.2870231111955124\n",
            "Training with: look_back=12, epochs=50, batch_size=32, learning_rate=0.001, units=64\n"
          ]
        },
        {
          "name": "stderr",
          "output_type": "stream",
          "text": [
            "/usr/local/lib/python3.10/dist-packages/keras/src/layers/rnn/rnn.py:204: UserWarning: Do not pass an `input_shape`/`input_dim` argument to a layer. When using Sequential models, prefer using an `Input(shape)` object as the first layer in the model instead.\n",
            "  super().__init__(**kwargs)\n"
          ]
        },
        {
          "name": "stdout",
          "output_type": "stream",
          "text": [
            "\u001b[1m5/5\u001b[0m \u001b[32m━━━━━━━━━━━━━━━━━━━━\u001b[0m\u001b[37m\u001b[0m \u001b[1m1s\u001b[0m 104ms/step\n",
            "Test RMSE: 5.671129391680726\n",
            "Training with: look_back=12, epochs=50, batch_size=32, learning_rate=0.001, units=128\n"
          ]
        },
        {
          "name": "stderr",
          "output_type": "stream",
          "text": [
            "/usr/local/lib/python3.10/dist-packages/keras/src/layers/rnn/rnn.py:204: UserWarning: Do not pass an `input_shape`/`input_dim` argument to a layer. When using Sequential models, prefer using an `Input(shape)` object as the first layer in the model instead.\n",
            "  super().__init__(**kwargs)\n"
          ]
        },
        {
          "name": "stdout",
          "output_type": "stream",
          "text": [
            "\u001b[1m5/5\u001b[0m \u001b[32m━━━━━━━━━━━━━━━━━━━━\u001b[0m\u001b[37m\u001b[0m \u001b[1m1s\u001b[0m 107ms/step\n",
            "Test RMSE: 4.592831792206958\n",
            "Training with: look_back=12, epochs=50, batch_size=32, learning_rate=0.01, units=64\n"
          ]
        },
        {
          "name": "stderr",
          "output_type": "stream",
          "text": [
            "/usr/local/lib/python3.10/dist-packages/keras/src/layers/rnn/rnn.py:204: UserWarning: Do not pass an `input_shape`/`input_dim` argument to a layer. When using Sequential models, prefer using an `Input(shape)` object as the first layer in the model instead.\n",
            "  super().__init__(**kwargs)\n"
          ]
        },
        {
          "name": "stdout",
          "output_type": "stream",
          "text": [
            "\u001b[1m5/5\u001b[0m \u001b[32m━━━━━━━━━━━━━━━━━━━━\u001b[0m\u001b[37m\u001b[0m \u001b[1m1s\u001b[0m 65ms/step\n",
            "Test RMSE: 3.939090226497722\n",
            "Training with: look_back=12, epochs=50, batch_size=32, learning_rate=0.01, units=128\n"
          ]
        },
        {
          "name": "stderr",
          "output_type": "stream",
          "text": [
            "/usr/local/lib/python3.10/dist-packages/keras/src/layers/rnn/rnn.py:204: UserWarning: Do not pass an `input_shape`/`input_dim` argument to a layer. When using Sequential models, prefer using an `Input(shape)` object as the first layer in the model instead.\n",
            "  super().__init__(**kwargs)\n"
          ]
        },
        {
          "name": "stdout",
          "output_type": "stream",
          "text": [
            "\u001b[1m5/5\u001b[0m \u001b[32m━━━━━━━━━━━━━━━━━━━━\u001b[0m\u001b[37m\u001b[0m \u001b[1m1s\u001b[0m 68ms/step\n",
            "Test RMSE: 3.480765847008603\n",
            "Training with: look_back=12, epochs=100, batch_size=16, learning_rate=0.001, units=64\n"
          ]
        },
        {
          "name": "stderr",
          "output_type": "stream",
          "text": [
            "/usr/local/lib/python3.10/dist-packages/keras/src/layers/rnn/rnn.py:204: UserWarning: Do not pass an `input_shape`/`input_dim` argument to a layer. When using Sequential models, prefer using an `Input(shape)` object as the first layer in the model instead.\n",
            "  super().__init__(**kwargs)\n"
          ]
        },
        {
          "name": "stdout",
          "output_type": "stream",
          "text": [
            "\u001b[1m5/5\u001b[0m \u001b[32m━━━━━━━━━━━━━━━━━━━━\u001b[0m\u001b[37m\u001b[0m \u001b[1m1s\u001b[0m 64ms/step\n",
            "Test RMSE: 3.7418463491496086\n",
            "Training with: look_back=12, epochs=100, batch_size=16, learning_rate=0.001, units=128\n"
          ]
        },
        {
          "name": "stderr",
          "output_type": "stream",
          "text": [
            "/usr/local/lib/python3.10/dist-packages/keras/src/layers/rnn/rnn.py:204: UserWarning: Do not pass an `input_shape`/`input_dim` argument to a layer. When using Sequential models, prefer using an `Input(shape)` object as the first layer in the model instead.\n",
            "  super().__init__(**kwargs)\n"
          ]
        },
        {
          "name": "stdout",
          "output_type": "stream",
          "text": [
            "\u001b[1m5/5\u001b[0m \u001b[32m━━━━━━━━━━━━━━━━━━━━\u001b[0m\u001b[37m\u001b[0m \u001b[1m1s\u001b[0m 71ms/step\n",
            "Test RMSE: 3.4475703495974\n",
            "Training with: look_back=12, epochs=100, batch_size=16, learning_rate=0.01, units=64\n"
          ]
        },
        {
          "name": "stderr",
          "output_type": "stream",
          "text": [
            "/usr/local/lib/python3.10/dist-packages/keras/src/layers/rnn/rnn.py:204: UserWarning: Do not pass an `input_shape`/`input_dim` argument to a layer. When using Sequential models, prefer using an `Input(shape)` object as the first layer in the model instead.\n",
            "  super().__init__(**kwargs)\n"
          ]
        },
        {
          "name": "stdout",
          "output_type": "stream",
          "text": [
            "\u001b[1m5/5\u001b[0m \u001b[32m━━━━━━━━━━━━━━━━━━━━\u001b[0m\u001b[37m\u001b[0m \u001b[1m1s\u001b[0m 106ms/step\n",
            "Test RMSE: 5.4219396308790415\n",
            "Training with: look_back=12, epochs=100, batch_size=16, learning_rate=0.01, units=128\n"
          ]
        },
        {
          "name": "stderr",
          "output_type": "stream",
          "text": [
            "/usr/local/lib/python3.10/dist-packages/keras/src/layers/rnn/rnn.py:204: UserWarning: Do not pass an `input_shape`/`input_dim` argument to a layer. When using Sequential models, prefer using an `Input(shape)` object as the first layer in the model instead.\n",
            "  super().__init__(**kwargs)\n"
          ]
        },
        {
          "name": "stdout",
          "output_type": "stream",
          "text": [
            "\u001b[1m5/5\u001b[0m \u001b[32m━━━━━━━━━━━━━━━━━━━━\u001b[0m\u001b[37m\u001b[0m \u001b[1m1s\u001b[0m 83ms/step\n",
            "Test RMSE: 5.591108214055874\n",
            "Training with: look_back=12, epochs=100, batch_size=32, learning_rate=0.001, units=64\n"
          ]
        },
        {
          "name": "stderr",
          "output_type": "stream",
          "text": [
            "/usr/local/lib/python3.10/dist-packages/keras/src/layers/rnn/rnn.py:204: UserWarning: Do not pass an `input_shape`/`input_dim` argument to a layer. When using Sequential models, prefer using an `Input(shape)` object as the first layer in the model instead.\n",
            "  super().__init__(**kwargs)\n"
          ]
        },
        {
          "name": "stdout",
          "output_type": "stream",
          "text": [
            "\u001b[1m5/5\u001b[0m \u001b[32m━━━━━━━━━━━━━━━━━━━━\u001b[0m\u001b[37m\u001b[0m \u001b[1m1s\u001b[0m 69ms/step\n",
            "Test RMSE: 3.4586000413019917\n",
            "Training with: look_back=12, epochs=100, batch_size=32, learning_rate=0.001, units=128\n"
          ]
        },
        {
          "name": "stderr",
          "output_type": "stream",
          "text": [
            "/usr/local/lib/python3.10/dist-packages/keras/src/layers/rnn/rnn.py:204: UserWarning: Do not pass an `input_shape`/`input_dim` argument to a layer. When using Sequential models, prefer using an `Input(shape)` object as the first layer in the model instead.\n",
            "  super().__init__(**kwargs)\n"
          ]
        },
        {
          "name": "stdout",
          "output_type": "stream",
          "text": [
            "\u001b[1m5/5\u001b[0m \u001b[32m━━━━━━━━━━━━━━━━━━━━\u001b[0m\u001b[37m\u001b[0m \u001b[1m1s\u001b[0m 76ms/step\n",
            "Test RMSE: 3.741232844420838\n",
            "Training with: look_back=12, epochs=100, batch_size=32, learning_rate=0.01, units=64\n"
          ]
        },
        {
          "name": "stderr",
          "output_type": "stream",
          "text": [
            "/usr/local/lib/python3.10/dist-packages/keras/src/layers/rnn/rnn.py:204: UserWarning: Do not pass an `input_shape`/`input_dim` argument to a layer. When using Sequential models, prefer using an `Input(shape)` object as the first layer in the model instead.\n",
            "  super().__init__(**kwargs)\n"
          ]
        },
        {
          "name": "stdout",
          "output_type": "stream",
          "text": [
            "\u001b[1m5/5\u001b[0m \u001b[32m━━━━━━━━━━━━━━━━━━━━\u001b[0m\u001b[37m\u001b[0m \u001b[1m1s\u001b[0m 101ms/step\n",
            "Test RMSE: 3.6718870064153233\n",
            "Training with: look_back=12, epochs=100, batch_size=32, learning_rate=0.01, units=128\n"
          ]
        },
        {
          "name": "stderr",
          "output_type": "stream",
          "text": [
            "/usr/local/lib/python3.10/dist-packages/keras/src/layers/rnn/rnn.py:204: UserWarning: Do not pass an `input_shape`/`input_dim` argument to a layer. When using Sequential models, prefer using an `Input(shape)` object as the first layer in the model instead.\n",
            "  super().__init__(**kwargs)\n"
          ]
        },
        {
          "name": "stdout",
          "output_type": "stream",
          "text": [
            "\u001b[1m5/5\u001b[0m \u001b[32m━━━━━━━━━━━━━━━━━━━━\u001b[0m\u001b[37m\u001b[0m \u001b[1m1s\u001b[0m 75ms/step\n",
            "Test RMSE: 3.2373987091262406\n",
            "Best Hyperparameters:\n",
            "{'look_back': 12, 'epochs': 100, 'batch_size': 32, 'learning_rate': 0.01, 'units': 128, 'test_rmse': 3.2373987091262406}\n"
          ]
        }
      ],
      "source": [
        "#from itertools import product\n",
        "\n",
        "# Parameter untuk Grid Search\n",
        "# look_back_list = [3, 6, 12]  # Variasi look_back yang ingin diuji\n",
        "# epochs_list = [50, 100]\n",
        "# batch_size_list = [16, 32]\n",
        "# earning_rate_list = [0.001, 0.01]\n",
        "# units_list = [64, 128]\n",
        "\n",
        "# Menyimpan hasil tuning\n",
        "#results = []\n",
        "\n",
        "# Iterasi semua kombinasi hyperparameter\n",
        "# for look_back, epochs, batch_size, learning_rate, units in product(look_back_list, epochs_list, batch_size_list, learning_rate_list, units_list):\n",
        "    # print(f\"Training with: look_back={look_back}, epochs={epochs}, batch_size={batch_size}, learning_rate={learning_rate}, units={units}\")\n",
        "\n",
        "    # Membentuk dataset berdasarkan look_back\n",
        "    # trainX, trainY = create_dataset(train, look_back)\n",
        "    # testX, testY = create_dataset(test, look_back)\n",
        "\n",
        "    # Reshape input untuk LSTM (samples, timesteps, features)\n",
        "    # trainX = np.reshape(trainX, (trainX.shape[0], trainX.shape[1], 1))\n",
        "    # testX = np.reshape(testX, (testX.shape[0], testX.shape[1], 1))\n",
        "\n",
        "    # Buat model\n",
        "    # model = Sequential()\n",
        "    # model.add(LSTM(units=units, return_sequences=True, input_shape=(look_back, 1)))\n",
        "    # model.add(LSTM(units=units))\n",
        "    # model.add(Dense(1))\n",
        "\n",
        "    # Compile model\n",
        "    # optimizer = Adam(learning_rate=learning_rate)\n",
        "    # model.compile(loss='mean_squared_error', optimizer=optimizer)\n",
        "\n",
        "    # Train model\n",
        "    # history = model.fit(trainX, trainY, epochs=epochs, batch_size=batch_size, verbose=0)\n",
        "\n",
        "    # Prediksi\n",
        "    # testPredict = model.predict(testX)\n",
        "    # testPredict = scaler.inverse_transform(testPredict)\n",
        "    # testY_actual = scaler.inverse_transform([testY])\n",
        "\n",
        "    # Menghitung RMSE\n",
        "    # test_rmse = math.sqrt(mean_squared_error(testY_actual.flatten(), testPredict.flatten()))\n",
        "    # print(f\"Test RMSE: {test_rmse}\")\n",
        "\n",
        "    # Simpan hasil\n",
        "    # results.append({\n",
        "        # 'look_back': look_back,\n",
        "        # 'epochs': epochs,\n",
        "        # 'batch_size': batch_size,\n",
        "        # 'learning_rate': learning_rate,\n",
        "        # 'units': units,\n",
        "        #'test_rmse': test_rmse\n",
        "   # })\n",
        "\n",
        "# Cari kombinasi terbaik\n",
        "# best_result = min(results, key=lambda x: x['test_rmse'])\n",
        "# print(\"Best Hyperparameters:\")\n",
        "# print(best_result)\n"
      ]
    }
  ],
  "metadata": {
    "colab": {
      "provenance": [],
      "include_colab_link": true
    },
    "kernelspec": {
      "display_name": "Python 3",
      "name": "python3"
    },
    "language_info": {
      "name": "python"
    }
  },
  "nbformat": 4,
  "nbformat_minor": 0
}